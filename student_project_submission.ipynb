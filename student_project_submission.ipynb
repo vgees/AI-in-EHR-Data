{
 "cells": [
  {
   "cell_type": "markdown",
   "metadata": {},
   "source": [
    "# Overview"
   ]
  },
  {
   "cell_type": "markdown",
   "metadata": {},
   "source": [
    "1. Project Instructions & Prerequisites\n",
    "2. Learning Objectives\n",
    "3. Data Preparation\n",
    "4. Create Categorical Features with TF Feature Columns\n",
    "5. Create Continuous/Numerical Features with TF Feature Columns\n",
    "6. Build Deep Learning Regression Model with Sequential API and TF Probability Layers\n",
    "7. Evaluating Potential Model Biases with Aequitas Toolkit\n"
   ]
  },
  {
   "cell_type": "markdown",
   "metadata": {},
   "source": [
    "#  1. Project Instructions & Prerequisites"
   ]
  },
  {
   "cell_type": "markdown",
   "metadata": {},
   "source": [
    "## Project Instructions"
   ]
  },
  {
   "cell_type": "markdown",
   "metadata": {},
   "source": [
    "**Context**: EHR data is becoming a key source of real-world evidence (RWE) for the pharmaceutical industry and regulators to [make decisions on clinical trials](https://www.fda.gov/news-events/speeches-fda-officials/breaking-down-barriers-between-clinical-trials-and-clinical-care-incorporating-real-world-evidence). You are a data scientist for an exciting unicorn healthcare startup that has created a groundbreaking diabetes drug that is ready for clinical trial testing. It is a very unique and sensitive drug that requires administering the drug over at least 5-7 days of time in the hospital with frequent monitoring/testing and patient medication adherence training with a mobile application. You have been provided a patient dataset from a client partner and are tasked with building a predictive model that can identify which type of patients the company should focus their efforts testing this drug on. Target patients are people that are likely to be in the hospital for this duration of time and will not incur significant additional costs for administering this drug to the patient and monitoring.  \n",
    "\n",
    "In order to achieve your goal you must build a regression model that can predict the estimated hospitalization time for a patient and use this to select/filter patients for your study.\n"
   ]
  },
  {
   "cell_type": "markdown",
   "metadata": {},
   "source": [
    "**Expected Hospitalization Time Regression Model:** Utilizing a synthetic dataset(denormalized at the line level augmentation) built off of the UCI Diabetes readmission dataset, students will build a regression model that predicts the expected days of hospitalization time and then convert this to a binary prediction of whether to include or exclude that patient from the clinical trial.\n",
    "\n",
    "This project will demonstrate the importance of building the right data representation at the encounter level, with appropriate filtering and preprocessing/feature engineering of key medical code sets. This project will also require students to analyze and interpret their model for biases across key demographic groups. \n",
    "\n",
    "Please see the project rubric online for more details on the areas your project will be evaluated."
   ]
  },
  {
   "cell_type": "markdown",
   "metadata": {},
   "source": [
    "### Dataset"
   ]
  },
  {
   "cell_type": "markdown",
   "metadata": {},
   "source": [
    "Due to healthcare PHI regulations (HIPAA, HITECH), there are limited number of publicly available datasets and some datasets require training and approval. So, for the purpose of this exercise, we are using a dataset from UC Irvine(https://archive.ics.uci.edu/ml/datasets/Diabetes+130-US+hospitals+for+years+1999-2008) that has been modified for this course. Please note that it is limited in its representation of some key features such as diagnosis codes which are usually an unordered list in 835s/837s (the HL7 standard interchange formats used for claims and remits)."
   ]
  },
  {
   "cell_type": "markdown",
   "metadata": {},
   "source": [
    "**Data Schema**\n",
    "The dataset reference information can be https://github.com/udacity/nd320-c1-emr-data-starter/blob/master/project/data_schema_references/\n",
    ". There are two CSVs that provide more details on the fields and some of the mapped values."
   ]
  },
  {
   "cell_type": "markdown",
   "metadata": {},
   "source": [
    "## Project Submission "
   ]
  },
  {
   "cell_type": "markdown",
   "metadata": {},
   "source": [
    "When submitting this project, make sure to run all the cells before saving the notebook. Save the notebook file as \"student_project_submission.ipynb\" and save another copy as an HTML file by clicking \"File\" -> \"Download as..\"->\"html\". Include the \"utils.py\" and \"student_utils.py\" files in your submission. The student_utils.py should be where you put most of your code that you write and the summary and text explanations should be written inline in the notebook. Once you download these files, compress them into one zip file for submission."
   ]
  },
  {
   "cell_type": "markdown",
   "metadata": {},
   "source": [
    "## Prerequisites "
   ]
  },
  {
   "cell_type": "markdown",
   "metadata": {},
   "source": [
    "- Intermediate level knowledge of Python\n",
    "- Basic knowledge of probability and statistics\n",
    "- Basic knowledge of machine learning concepts\n",
    "- Installation of Tensorflow 2.0 and other dependencies(conda environment.yml or virtualenv requirements.txt file provided)"
   ]
  },
  {
   "cell_type": "markdown",
   "metadata": {},
   "source": [
    "## Environment Setup"
   ]
  },
  {
   "cell_type": "markdown",
   "metadata": {},
   "source": [
    "For step by step instructions on creating your environment, please go to https://github.com/udacity/nd320-c1-emr-data-starter/blob/master/project/README.md."
   ]
  },
  {
   "cell_type": "markdown",
   "metadata": {},
   "source": [
    "# 2.  Learning Objectives"
   ]
  },
  {
   "cell_type": "markdown",
   "metadata": {},
   "source": [
    "By the end of the project, you will be able to \n",
    "   - Use the Tensorflow Dataset API to scalably extract, transform, and load datasets and build datasets aggregated at the line, encounter, and patient data levels(longitudinal)\n",
    "   - Analyze EHR datasets to check for common issues (data leakage, statistical properties, missing values, high cardinality) by performing exploratory data analysis.\n",
    "   - Create categorical features from Key Industry Code Sets (ICD, CPT, NDC) and reduce dimensionality for high cardinality features by using embeddings \n",
    "   - Create derived features(bucketing, cross-features, embeddings) utilizing Tensorflow feature columns on both continuous and categorical input features\n",
    "   - SWBAT use the Tensorflow Probability library to train a model that provides uncertainty range predictions that allow for risk adjustment/prioritization and triaging of predictions\n",
    "   - Analyze and determine biases for a model for key demographic groups by evaluating performance metrics across groups by using the Aequitas framework \n"
   ]
  },
  {
   "cell_type": "markdown",
   "metadata": {},
   "source": [
    "# 3. Data Preparation"
   ]
  },
  {
   "cell_type": "code",
   "execution_count": 1,
   "metadata": {},
   "outputs": [],
   "source": [
    "# from __future__ import absolute_import, division, print_function, unicode_literals\n",
    "import os\n",
    "import numpy as np\n",
    "import tensorflow as tf\n",
    "from tensorflow.keras import layers\n",
    "import tensorflow_probability as tfp\n",
    "import matplotlib.pyplot as plt\n",
    "import seaborn as sns\n",
    "import pandas as pd\n",
    "import aequitas as ae\n",
    "from functools import partial \n",
    "\n",
    "from sklearn.metrics import accuracy_score, average_precision_score, fbeta_score, f1_score, classification_report, roc_auc_score, roc_curve, auc, precision_recall_curve\n",
    "\n",
    "#import tensorflow_data_validation as tfdv\n",
    "# Put all of the helper functions in utils\n",
    "from utils import build_vocab_files, show_group_stats_viz, aggregate_dataset, preprocess_df, df_to_dataset, posterior_mean_field, prior_trainable\n",
    "pd.set_option('display.max_columns', 500)\n",
    "# this allows you to make changes and save in student_utils.py and the file is reloaded every time you run a code block\n",
    "%load_ext autoreload\n",
    "%autoreload"
   ]
  },
  {
   "cell_type": "code",
   "execution_count": 2,
   "metadata": {},
   "outputs": [],
   "source": [
    "#OPEN ISSUE ON MAC OSX for TF model training\n",
    "import os\n",
    "os.environ['KMP_DUPLICATE_LIB_OK']='True'"
   ]
  },
  {
   "cell_type": "markdown",
   "metadata": {},
   "source": [
    "## Dataset Loading and Schema Review"
   ]
  },
  {
   "cell_type": "markdown",
   "metadata": {},
   "source": [
    "Load the dataset and view a sample of the dataset along with reviewing the schema reference files to gain a deeper understanding of the dataset. The dataset is located at the following path https://github.com/udacity/nd320-c1-emr-data-starter/blob/master/project/starter_code/data/final_project_dataset.csv. Also, review the information found in the data schema https://github.com/udacity/nd320-c1-emr-data-starter/blob/master/project/data_schema_references/"
   ]
  },
  {
   "cell_type": "code",
   "execution_count": 3,
   "metadata": {},
   "outputs": [
    {
     "data": {
      "text/html": [
       "<div>\n",
       "<style scoped>\n",
       "    .dataframe tbody tr th:only-of-type {\n",
       "        vertical-align: middle;\n",
       "    }\n",
       "\n",
       "    .dataframe tbody tr th {\n",
       "        vertical-align: top;\n",
       "    }\n",
       "\n",
       "    .dataframe thead th {\n",
       "        text-align: right;\n",
       "    }\n",
       "</style>\n",
       "<table border=\"1\" class=\"dataframe\">\n",
       "  <thead>\n",
       "    <tr style=\"text-align: right;\">\n",
       "      <th></th>\n",
       "      <th>encounter_id</th>\n",
       "      <th>patient_nbr</th>\n",
       "      <th>race</th>\n",
       "      <th>gender</th>\n",
       "      <th>age</th>\n",
       "      <th>weight</th>\n",
       "      <th>admission_type_id</th>\n",
       "      <th>discharge_disposition_id</th>\n",
       "      <th>admission_source_id</th>\n",
       "      <th>time_in_hospital</th>\n",
       "      <th>payer_code</th>\n",
       "      <th>medical_specialty</th>\n",
       "      <th>primary_diagnosis_code</th>\n",
       "      <th>other_diagnosis_codes</th>\n",
       "      <th>number_outpatient</th>\n",
       "      <th>number_inpatient</th>\n",
       "      <th>number_emergency</th>\n",
       "      <th>num_lab_procedures</th>\n",
       "      <th>number_diagnoses</th>\n",
       "      <th>num_medications</th>\n",
       "      <th>num_procedures</th>\n",
       "      <th>ndc_code</th>\n",
       "      <th>max_glu_serum</th>\n",
       "      <th>A1Cresult</th>\n",
       "      <th>change</th>\n",
       "      <th>readmitted</th>\n",
       "    </tr>\n",
       "  </thead>\n",
       "  <tbody>\n",
       "    <tr>\n",
       "      <th>0</th>\n",
       "      <td>2278392</td>\n",
       "      <td>8222157</td>\n",
       "      <td>Caucasian</td>\n",
       "      <td>Female</td>\n",
       "      <td>[0-10)</td>\n",
       "      <td>?</td>\n",
       "      <td>6</td>\n",
       "      <td>25</td>\n",
       "      <td>1</td>\n",
       "      <td>1</td>\n",
       "      <td>?</td>\n",
       "      <td>Pediatrics-Endocrinology</td>\n",
       "      <td>250.83</td>\n",
       "      <td>?|?</td>\n",
       "      <td>0</td>\n",
       "      <td>0</td>\n",
       "      <td>0</td>\n",
       "      <td>41</td>\n",
       "      <td>1</td>\n",
       "      <td>1</td>\n",
       "      <td>0</td>\n",
       "      <td>NaN</td>\n",
       "      <td>None</td>\n",
       "      <td>None</td>\n",
       "      <td>No</td>\n",
       "      <td>NO</td>\n",
       "    </tr>\n",
       "    <tr>\n",
       "      <th>1</th>\n",
       "      <td>149190</td>\n",
       "      <td>55629189</td>\n",
       "      <td>Caucasian</td>\n",
       "      <td>Female</td>\n",
       "      <td>[10-20)</td>\n",
       "      <td>?</td>\n",
       "      <td>1</td>\n",
       "      <td>1</td>\n",
       "      <td>7</td>\n",
       "      <td>3</td>\n",
       "      <td>?</td>\n",
       "      <td>?</td>\n",
       "      <td>276</td>\n",
       "      <td>250.01|255</td>\n",
       "      <td>0</td>\n",
       "      <td>0</td>\n",
       "      <td>0</td>\n",
       "      <td>59</td>\n",
       "      <td>9</td>\n",
       "      <td>18</td>\n",
       "      <td>0</td>\n",
       "      <td>68071-1701</td>\n",
       "      <td>None</td>\n",
       "      <td>None</td>\n",
       "      <td>Ch</td>\n",
       "      <td>&gt;30</td>\n",
       "    </tr>\n",
       "    <tr>\n",
       "      <th>2</th>\n",
       "      <td>64410</td>\n",
       "      <td>86047875</td>\n",
       "      <td>AfricanAmerican</td>\n",
       "      <td>Female</td>\n",
       "      <td>[20-30)</td>\n",
       "      <td>?</td>\n",
       "      <td>1</td>\n",
       "      <td>1</td>\n",
       "      <td>7</td>\n",
       "      <td>2</td>\n",
       "      <td>?</td>\n",
       "      <td>?</td>\n",
       "      <td>648</td>\n",
       "      <td>250|V27</td>\n",
       "      <td>2</td>\n",
       "      <td>1</td>\n",
       "      <td>0</td>\n",
       "      <td>11</td>\n",
       "      <td>6</td>\n",
       "      <td>13</td>\n",
       "      <td>5</td>\n",
       "      <td>0378-1110</td>\n",
       "      <td>None</td>\n",
       "      <td>None</td>\n",
       "      <td>No</td>\n",
       "      <td>NO</td>\n",
       "    </tr>\n",
       "    <tr>\n",
       "      <th>3</th>\n",
       "      <td>500364</td>\n",
       "      <td>82442376</td>\n",
       "      <td>Caucasian</td>\n",
       "      <td>Male</td>\n",
       "      <td>[30-40)</td>\n",
       "      <td>?</td>\n",
       "      <td>1</td>\n",
       "      <td>1</td>\n",
       "      <td>7</td>\n",
       "      <td>2</td>\n",
       "      <td>?</td>\n",
       "      <td>?</td>\n",
       "      <td>8</td>\n",
       "      <td>250.43|403</td>\n",
       "      <td>0</td>\n",
       "      <td>0</td>\n",
       "      <td>0</td>\n",
       "      <td>44</td>\n",
       "      <td>7</td>\n",
       "      <td>16</td>\n",
       "      <td>1</td>\n",
       "      <td>68071-1701</td>\n",
       "      <td>None</td>\n",
       "      <td>None</td>\n",
       "      <td>Ch</td>\n",
       "      <td>NO</td>\n",
       "    </tr>\n",
       "    <tr>\n",
       "      <th>4</th>\n",
       "      <td>16680</td>\n",
       "      <td>42519267</td>\n",
       "      <td>Caucasian</td>\n",
       "      <td>Male</td>\n",
       "      <td>[40-50)</td>\n",
       "      <td>?</td>\n",
       "      <td>1</td>\n",
       "      <td>1</td>\n",
       "      <td>7</td>\n",
       "      <td>1</td>\n",
       "      <td>?</td>\n",
       "      <td>?</td>\n",
       "      <td>197</td>\n",
       "      <td>157|250</td>\n",
       "      <td>0</td>\n",
       "      <td>0</td>\n",
       "      <td>0</td>\n",
       "      <td>51</td>\n",
       "      <td>5</td>\n",
       "      <td>8</td>\n",
       "      <td>0</td>\n",
       "      <td>0049-4110</td>\n",
       "      <td>None</td>\n",
       "      <td>None</td>\n",
       "      <td>Ch</td>\n",
       "      <td>NO</td>\n",
       "    </tr>\n",
       "  </tbody>\n",
       "</table>\n",
       "</div>"
      ],
      "text/plain": [
       "   encounter_id  patient_nbr             race  gender      age weight  \\\n",
       "0       2278392      8222157        Caucasian  Female   [0-10)      ?   \n",
       "1        149190     55629189        Caucasian  Female  [10-20)      ?   \n",
       "2         64410     86047875  AfricanAmerican  Female  [20-30)      ?   \n",
       "3        500364     82442376        Caucasian    Male  [30-40)      ?   \n",
       "4         16680     42519267        Caucasian    Male  [40-50)      ?   \n",
       "\n",
       "   admission_type_id  discharge_disposition_id  admission_source_id  \\\n",
       "0                  6                        25                    1   \n",
       "1                  1                         1                    7   \n",
       "2                  1                         1                    7   \n",
       "3                  1                         1                    7   \n",
       "4                  1                         1                    7   \n",
       "\n",
       "   time_in_hospital payer_code         medical_specialty  \\\n",
       "0                 1          ?  Pediatrics-Endocrinology   \n",
       "1                 3          ?                         ?   \n",
       "2                 2          ?                         ?   \n",
       "3                 2          ?                         ?   \n",
       "4                 1          ?                         ?   \n",
       "\n",
       "  primary_diagnosis_code other_diagnosis_codes  number_outpatient  \\\n",
       "0                 250.83                   ?|?                  0   \n",
       "1                    276            250.01|255                  0   \n",
       "2                    648               250|V27                  2   \n",
       "3                      8            250.43|403                  0   \n",
       "4                    197               157|250                  0   \n",
       "\n",
       "   number_inpatient  number_emergency  num_lab_procedures  number_diagnoses  \\\n",
       "0                 0                 0                  41                 1   \n",
       "1                 0                 0                  59                 9   \n",
       "2                 1                 0                  11                 6   \n",
       "3                 0                 0                  44                 7   \n",
       "4                 0                 0                  51                 5   \n",
       "\n",
       "   num_medications  num_procedures    ndc_code max_glu_serum A1Cresult change  \\\n",
       "0                1               0         NaN          None      None     No   \n",
       "1               18               0  68071-1701          None      None     Ch   \n",
       "2               13               5   0378-1110          None      None     No   \n",
       "3               16               1  68071-1701          None      None     Ch   \n",
       "4                8               0   0049-4110          None      None     Ch   \n",
       "\n",
       "  readmitted  \n",
       "0         NO  \n",
       "1        >30  \n",
       "2         NO  \n",
       "3         NO  \n",
       "4         NO  "
      ]
     },
     "execution_count": 3,
     "metadata": {},
     "output_type": "execute_result"
    }
   ],
   "source": [
    "dataset_path = \"./data/final_project_dataset.csv\"\n",
    "df = pd.read_csv(dataset_path)\n",
    "df.head()"
   ]
  },
  {
   "cell_type": "markdown",
   "metadata": {},
   "source": [
    "## Determine Level of Dataset (Line or Encounter)"
   ]
  },
  {
   "cell_type": "markdown",
   "metadata": {},
   "source": [
    "**Question 1**: Based off of analysis of the data, what level is this dataset? Is it at the line or encounter level? Are there any key fields besides the encounter_id and patient_nbr fields that we should use to aggregate on? Knowing this information will help inform us what level of aggregation is necessary for future steps and is a step that is often overlooked. "
   ]
  },
  {
   "cell_type": "code",
   "execution_count": 4,
   "metadata": {},
   "outputs": [
    {
     "data": {
      "text/plain": [
       "((143424, 26), 101766, 71518)"
      ]
     },
     "execution_count": 4,
     "metadata": {},
     "output_type": "execute_result"
    }
   ],
   "source": [
    "df.shape, df.encounter_id.nunique(), df.patient_nbr.nunique()"
   ]
  },
  {
   "cell_type": "markdown",
   "metadata": {},
   "source": [
    "**Responce : We can see that the to total number of records in the dataframe is 143424 and the number of unique encounter_id is 101766. Since the total number of records in dataframe is more than number of unique encounter ids, the dataset is at the line level**"
   ]
  },
  {
   "cell_type": "markdown",
   "metadata": {},
   "source": [
    "## Analyze Dataset"
   ]
  },
  {
   "cell_type": "markdown",
   "metadata": {},
   "source": [
    "**Question 2**: Utilizing the library of your choice (recommend Pandas and Seaborn or matplotlib though), perform exploratory data analysis on the dataset. In particular be sure to address the following questions:  \n",
    "    - a. Field(s) with high amount of missing/zero values\n",
    "    - b. Based off the frequency histogram for each numerical field, which numerical field(s) has/have a Gaussian(normal) distribution shape?\n",
    "    - c. Which field(s) have high cardinality and why (HINT: ndc_code is one feature)\n",
    "    - d. Please describe the demographic distributions in the dataset for the age and gender fields.\n",
    "    \n"
   ]
  },
  {
   "cell_type": "markdown",
   "metadata": {},
   "source": [
    "**OPTIONAL**: Use the Tensorflow Data Validation and Analysis library to complete. \n",
    "- The Tensorflow Data Validation and Analysis library(https://www.tensorflow.org/tfx/data_validation/get_started) is a useful tool for analyzing and summarizing dataset statistics. It is especially useful because it can scale to large datasets that do not fit into memory. \n",
    "- Note that there are some bugs that are still being resolved with Chrome v80 and we have moved away from using this for the project. "
   ]
  },
  {
   "cell_type": "code",
   "execution_count": 5,
   "metadata": {},
   "outputs": [],
   "source": [
    "df = df.replace('?', np.nan).replace('None', np.nan)"
   ]
  },
  {
   "cell_type": "code",
   "execution_count": 6,
   "metadata": {},
   "outputs": [
    {
     "data": {
      "text/plain": [
       "weight                      0.970005\n",
       "max_glu_serum               0.951089\n",
       "A1Cresult                   0.820295\n",
       "medical_specialty           0.484319\n",
       "payer_code                  0.377831\n",
       "ndc_code                    0.163585\n",
       "race                        0.023071\n",
       "primary_diagnosis_code      0.000230\n",
       "patient_nbr                 0.000000\n",
       "gender                      0.000000\n",
       "age                         0.000000\n",
       "admission_type_id           0.000000\n",
       "discharge_disposition_id    0.000000\n",
       "admission_source_id         0.000000\n",
       "time_in_hospital            0.000000\n",
       "readmitted                  0.000000\n",
       "change                      0.000000\n",
       "other_diagnosis_codes       0.000000\n",
       "number_outpatient           0.000000\n",
       "number_inpatient            0.000000\n",
       "number_emergency            0.000000\n",
       "num_lab_procedures          0.000000\n",
       "number_diagnoses            0.000000\n",
       "num_medications             0.000000\n",
       "num_procedures              0.000000\n",
       "encounter_id                0.000000\n",
       "dtype: float64"
      ]
     },
     "execution_count": 6,
     "metadata": {},
     "output_type": "execute_result"
    }
   ],
   "source": [
    "# (a) Field(s) with high amount of missing/zero values\n",
    "\n",
    "df.isnull().mean().sort_values(ascending=False)"
   ]
  },
  {
   "cell_type": "markdown",
   "metadata": {},
   "source": [
    "**Response (a): In the given dataset we can see that weight, max_glu_serum, A1Cresult, medical_specialty, payer_code, and ndc_code have a high percentage of null values**"
   ]
  },
  {
   "cell_type": "code",
   "execution_count": 7,
   "metadata": {},
   "outputs": [],
   "source": [
    "# remove columns with high null percentage\n",
    "df = df.drop(columns = ['weight', 'payer_code', 'medical_specialty', 'max_glu_serum', 'A1Cresult'])"
   ]
  },
  {
   "cell_type": "code",
   "execution_count": 8,
   "metadata": {},
   "outputs": [
    {
     "name": "stdout",
     "output_type": "stream",
     "text": [
      "<class 'pandas.core.frame.DataFrame'>\n",
      "RangeIndex: 143424 entries, 0 to 143423\n",
      "Data columns (total 21 columns):\n",
      " #   Column                    Non-Null Count   Dtype \n",
      "---  ------                    --------------   ----- \n",
      " 0   encounter_id              143424 non-null  int64 \n",
      " 1   patient_nbr               143424 non-null  int64 \n",
      " 2   race                      140115 non-null  object\n",
      " 3   gender                    143424 non-null  object\n",
      " 4   age                       143424 non-null  object\n",
      " 5   admission_type_id         143424 non-null  int64 \n",
      " 6   discharge_disposition_id  143424 non-null  int64 \n",
      " 7   admission_source_id       143424 non-null  int64 \n",
      " 8   time_in_hospital          143424 non-null  int64 \n",
      " 9   primary_diagnosis_code    143391 non-null  object\n",
      " 10  other_diagnosis_codes     143424 non-null  object\n",
      " 11  number_outpatient         143424 non-null  int64 \n",
      " 12  number_inpatient          143424 non-null  int64 \n",
      " 13  number_emergency          143424 non-null  int64 \n",
      " 14  num_lab_procedures        143424 non-null  int64 \n",
      " 15  number_diagnoses          143424 non-null  int64 \n",
      " 16  num_medications           143424 non-null  int64 \n",
      " 17  num_procedures            143424 non-null  int64 \n",
      " 18  ndc_code                  119962 non-null  object\n",
      " 19  change                    143424 non-null  object\n",
      " 20  readmitted                143424 non-null  object\n",
      "dtypes: int64(13), object(8)\n",
      "memory usage: 23.0+ MB\n"
     ]
    }
   ],
   "source": [
    "df.info()"
   ]
  },
  {
   "cell_type": "code",
   "execution_count": 9,
   "metadata": {},
   "outputs": [
    {
     "data": {
      "text/plain": [
       "Index(['encounter_id', 'patient_nbr', 'admission_type_id',\n",
       "       'discharge_disposition_id', 'admission_source_id', 'time_in_hospital',\n",
       "       'number_outpatient', 'number_inpatient', 'number_emergency',\n",
       "       'num_lab_procedures', 'number_diagnoses', 'num_medications',\n",
       "       'num_procedures'],\n",
       "      dtype='object')"
      ]
     },
     "execution_count": 9,
     "metadata": {},
     "output_type": "execute_result"
    }
   ],
   "source": [
    "# (b) Based off the frequency histogram for each numerical field, which numerical field(s) has/have a Gaussian(normal) distribution shape?\n",
    "df.select_dtypes(['int64']).columns"
   ]
  },
  {
   "cell_type": "code",
   "execution_count": 10,
   "metadata": {},
   "outputs": [
    {
     "data": {
      "text/plain": [
       "['encounter_id',\n",
       " 'patient_nbr',\n",
       " 'admission_type_id',\n",
       " 'discharge_disposition_id',\n",
       " 'admission_source_id',\n",
       " 'time_in_hospital',\n",
       " 'number_outpatient',\n",
       " 'number_inpatient',\n",
       " 'number_emergency',\n",
       " 'num_lab_procedures',\n",
       " 'number_diagnoses',\n",
       " 'num_medications',\n",
       " 'num_procedures']"
      ]
     },
     "execution_count": 10,
     "metadata": {},
     "output_type": "execute_result"
    }
   ],
   "source": [
    "num_col = [c for c in df.columns if df[c].dtype == \"int64\"]\n",
    "num_col"
   ]
  },
  {
   "cell_type": "code",
   "execution_count": 11,
   "metadata": {},
   "outputs": [
    {
     "data": {
      "text/html": [
       "<div>\n",
       "<style scoped>\n",
       "    .dataframe tbody tr th:only-of-type {\n",
       "        vertical-align: middle;\n",
       "    }\n",
       "\n",
       "    .dataframe tbody tr th {\n",
       "        vertical-align: top;\n",
       "    }\n",
       "\n",
       "    .dataframe thead th {\n",
       "        text-align: right;\n",
       "    }\n",
       "</style>\n",
       "<table border=\"1\" class=\"dataframe\">\n",
       "  <thead>\n",
       "    <tr style=\"text-align: right;\">\n",
       "      <th></th>\n",
       "      <th>encounter_id</th>\n",
       "      <th>patient_nbr</th>\n",
       "      <th>admission_type_id</th>\n",
       "      <th>discharge_disposition_id</th>\n",
       "      <th>admission_source_id</th>\n",
       "      <th>time_in_hospital</th>\n",
       "      <th>number_outpatient</th>\n",
       "      <th>number_inpatient</th>\n",
       "      <th>number_emergency</th>\n",
       "      <th>num_lab_procedures</th>\n",
       "      <th>number_diagnoses</th>\n",
       "      <th>num_medications</th>\n",
       "      <th>num_procedures</th>\n",
       "    </tr>\n",
       "  </thead>\n",
       "  <tbody>\n",
       "    <tr>\n",
       "      <th>count</th>\n",
       "      <td>1.434240e+05</td>\n",
       "      <td>1.434240e+05</td>\n",
       "      <td>143424.000000</td>\n",
       "      <td>143424.000000</td>\n",
       "      <td>143424.000000</td>\n",
       "      <td>143424.000000</td>\n",
       "      <td>143424.000000</td>\n",
       "      <td>143424.000000</td>\n",
       "      <td>143424.000000</td>\n",
       "      <td>143424.000000</td>\n",
       "      <td>143424.000000</td>\n",
       "      <td>143424.000000</td>\n",
       "      <td>143424.000000</td>\n",
       "    </tr>\n",
       "    <tr>\n",
       "      <th>mean</th>\n",
       "      <td>1.674290e+08</td>\n",
       "      <td>5.493608e+07</td>\n",
       "      <td>2.027694</td>\n",
       "      <td>3.655316</td>\n",
       "      <td>5.701096</td>\n",
       "      <td>4.490190</td>\n",
       "      <td>0.362429</td>\n",
       "      <td>0.600855</td>\n",
       "      <td>0.195086</td>\n",
       "      <td>43.255745</td>\n",
       "      <td>7.424434</td>\n",
       "      <td>16.776035</td>\n",
       "      <td>1.349021</td>\n",
       "    </tr>\n",
       "    <tr>\n",
       "      <th>std</th>\n",
       "      <td>1.019046e+08</td>\n",
       "      <td>3.857840e+07</td>\n",
       "      <td>1.427585</td>\n",
       "      <td>5.219279</td>\n",
       "      <td>4.064532</td>\n",
       "      <td>2.999667</td>\n",
       "      <td>1.249295</td>\n",
       "      <td>1.207934</td>\n",
       "      <td>0.920410</td>\n",
       "      <td>19.657319</td>\n",
       "      <td>1.924872</td>\n",
       "      <td>8.397130</td>\n",
       "      <td>1.719104</td>\n",
       "    </tr>\n",
       "    <tr>\n",
       "      <th>min</th>\n",
       "      <td>1.252200e+04</td>\n",
       "      <td>1.350000e+02</td>\n",
       "      <td>1.000000</td>\n",
       "      <td>1.000000</td>\n",
       "      <td>1.000000</td>\n",
       "      <td>1.000000</td>\n",
       "      <td>0.000000</td>\n",
       "      <td>0.000000</td>\n",
       "      <td>0.000000</td>\n",
       "      <td>1.000000</td>\n",
       "      <td>1.000000</td>\n",
       "      <td>1.000000</td>\n",
       "      <td>0.000000</td>\n",
       "    </tr>\n",
       "    <tr>\n",
       "      <th>25%</th>\n",
       "      <td>8.829596e+07</td>\n",
       "      <td>2.357219e+07</td>\n",
       "      <td>1.000000</td>\n",
       "      <td>1.000000</td>\n",
       "      <td>1.000000</td>\n",
       "      <td>2.000000</td>\n",
       "      <td>0.000000</td>\n",
       "      <td>0.000000</td>\n",
       "      <td>0.000000</td>\n",
       "      <td>32.000000</td>\n",
       "      <td>6.000000</td>\n",
       "      <td>11.000000</td>\n",
       "      <td>0.000000</td>\n",
       "    </tr>\n",
       "    <tr>\n",
       "      <th>50%</th>\n",
       "      <td>1.547637e+08</td>\n",
       "      <td>4.630783e+07</td>\n",
       "      <td>1.000000</td>\n",
       "      <td>1.000000</td>\n",
       "      <td>7.000000</td>\n",
       "      <td>4.000000</td>\n",
       "      <td>0.000000</td>\n",
       "      <td>0.000000</td>\n",
       "      <td>0.000000</td>\n",
       "      <td>44.000000</td>\n",
       "      <td>8.000000</td>\n",
       "      <td>15.000000</td>\n",
       "      <td>1.000000</td>\n",
       "    </tr>\n",
       "    <tr>\n",
       "      <th>75%</th>\n",
       "      <td>2.320897e+08</td>\n",
       "      <td>8.823627e+07</td>\n",
       "      <td>3.000000</td>\n",
       "      <td>3.000000</td>\n",
       "      <td>7.000000</td>\n",
       "      <td>6.000000</td>\n",
       "      <td>0.000000</td>\n",
       "      <td>1.000000</td>\n",
       "      <td>0.000000</td>\n",
       "      <td>57.000000</td>\n",
       "      <td>9.000000</td>\n",
       "      <td>21.000000</td>\n",
       "      <td>2.000000</td>\n",
       "    </tr>\n",
       "    <tr>\n",
       "      <th>max</th>\n",
       "      <td>4.438672e+08</td>\n",
       "      <td>1.895026e+08</td>\n",
       "      <td>8.000000</td>\n",
       "      <td>28.000000</td>\n",
       "      <td>25.000000</td>\n",
       "      <td>14.000000</td>\n",
       "      <td>42.000000</td>\n",
       "      <td>21.000000</td>\n",
       "      <td>76.000000</td>\n",
       "      <td>132.000000</td>\n",
       "      <td>16.000000</td>\n",
       "      <td>81.000000</td>\n",
       "      <td>6.000000</td>\n",
       "    </tr>\n",
       "  </tbody>\n",
       "</table>\n",
       "</div>"
      ],
      "text/plain": [
       "       encounter_id   patient_nbr  admission_type_id  \\\n",
       "count  1.434240e+05  1.434240e+05      143424.000000   \n",
       "mean   1.674290e+08  5.493608e+07           2.027694   \n",
       "std    1.019046e+08  3.857840e+07           1.427585   \n",
       "min    1.252200e+04  1.350000e+02           1.000000   \n",
       "25%    8.829596e+07  2.357219e+07           1.000000   \n",
       "50%    1.547637e+08  4.630783e+07           1.000000   \n",
       "75%    2.320897e+08  8.823627e+07           3.000000   \n",
       "max    4.438672e+08  1.895026e+08           8.000000   \n",
       "\n",
       "       discharge_disposition_id  admission_source_id  time_in_hospital  \\\n",
       "count             143424.000000        143424.000000     143424.000000   \n",
       "mean                   3.655316             5.701096          4.490190   \n",
       "std                    5.219279             4.064532          2.999667   \n",
       "min                    1.000000             1.000000          1.000000   \n",
       "25%                    1.000000             1.000000          2.000000   \n",
       "50%                    1.000000             7.000000          4.000000   \n",
       "75%                    3.000000             7.000000          6.000000   \n",
       "max                   28.000000            25.000000         14.000000   \n",
       "\n",
       "       number_outpatient  number_inpatient  number_emergency  \\\n",
       "count      143424.000000     143424.000000     143424.000000   \n",
       "mean            0.362429          0.600855          0.195086   \n",
       "std             1.249295          1.207934          0.920410   \n",
       "min             0.000000          0.000000          0.000000   \n",
       "25%             0.000000          0.000000          0.000000   \n",
       "50%             0.000000          0.000000          0.000000   \n",
       "75%             0.000000          1.000000          0.000000   \n",
       "max            42.000000         21.000000         76.000000   \n",
       "\n",
       "       num_lab_procedures  number_diagnoses  num_medications  num_procedures  \n",
       "count       143424.000000     143424.000000    143424.000000   143424.000000  \n",
       "mean            43.255745          7.424434        16.776035        1.349021  \n",
       "std             19.657319          1.924872         8.397130        1.719104  \n",
       "min              1.000000          1.000000         1.000000        0.000000  \n",
       "25%             32.000000          6.000000        11.000000        0.000000  \n",
       "50%             44.000000          8.000000        15.000000        1.000000  \n",
       "75%             57.000000          9.000000        21.000000        2.000000  \n",
       "max            132.000000         16.000000        81.000000        6.000000  "
      ]
     },
     "execution_count": 11,
     "metadata": {},
     "output_type": "execute_result"
    }
   ],
   "source": [
    "df[num_col].describe()"
   ]
  },
  {
   "cell_type": "code",
   "execution_count": 12,
   "metadata": {},
   "outputs": [
    {
     "data": {
      "image/png": "[encoded data removed]",
      "text/plain": [
       "<Figure size 432x288 with 1 Axes>"
      ]
     },
     "metadata": {
      "needs_background": "light"
     },
     "output_type": "display_data"
    },
    {
     "data": {
      "image/png": "[encoded data removed]",
      "text/plain": [
       "<Figure size 432x288 with 1 Axes>"
      ]
     },
     "metadata": {
      "needs_background": "light"
     },
     "output_type": "display_data"
    },
    {
     "data": {
      "image/png": "[encoded data removed]",
      "text/plain": [
       "<Figure size 432x288 with 1 Axes>"
      ]
     },
     "metadata": {
      "needs_background": "light"
     },
     "output_type": "display_data"
    },
    {
     "data": {
      "image/png": "[encoded data removed]",
      "text/plain": [
       "<Figure size 432x288 with 1 Axes>"
      ]
     },
     "metadata": {
      "needs_background": "light"
     },
     "output_type": "display_data"
    },
    {
     "data": {
      "image/png": "[encoded data removed]",
      "text/plain": [
       "<Figure size 432x288 with 1 Axes>"
      ]
     },
     "metadata": {
      "needs_background": "light"
     },
     "output_type": "display_data"
    },
    {
     "data": {
      "image/png": "[encoded data removed]",
      "text/plain": [
       "<Figure size 432x288 with 1 Axes>"
      ]
     },
     "metadata": {
      "needs_background": "light"
     },
     "output_type": "display_data"
    },
    {
     "data": {
      "image/png": "[encoded data removed]",
      "text/plain": [
       "<Figure size 432x288 with 1 Axes>"
      ]
     },
     "metadata": {
      "needs_background": "light"
     },
     "output_type": "display_data"
    },
    {
     "data": {
      "image/png": "[encoded data removed]",
      "text/plain": [
       "<Figure size 432x288 with 1 Axes>"
      ]
     },
     "metadata": {
      "needs_background": "light"
     },
     "output_type": "display_data"
    },
    {
     "data": {
      "image/png": "[encoded data removed]",
      "text/plain": [
       "<Figure size 432x288 with 1 Axes>"
      ]
     },
     "metadata": {
      "needs_background": "light"
     },
     "output_type": "display_data"
    },
    {
     "data": {
      "image/png": "[encoded data removed]",
      "text/plain": [
       "<Figure size 432x288 with 1 Axes>"
      ]
     },
     "metadata": {
      "needs_background": "light"
     },
     "output_type": "display_data"
    },
    {
     "data": {
      "image/png": "[encoded data removed]",
      "text/plain": [
       "<Figure size 432x288 with 1 Axes>"
      ]
     },
     "metadata": {
      "needs_background": "light"
     },
     "output_type": "display_data"
    },
    {
     "data": {
      "image/png": "[encoded data removed]",
      "text/plain": [
       "<Figure size 432x288 with 1 Axes>"
      ]
     },
     "metadata": {
      "needs_background": "light"
     },
     "output_type": "display_data"
    },
    {
     "data": {
      "image/png": "[encoded data removed]",
      "text/plain": [
       "<Figure size 432x288 with 1 Axes>"
      ]
     },
     "metadata": {
      "needs_background": "light"
     },
     "output_type": "display_data"
    }
   ],
   "source": [
    "for c in num_col:\n",
    "    sns.distplot(df[c], kde=False)\n",
    "    plt.title(c)\n",
    "    plt.show()"
   ]
  },
  {
   "cell_type": "markdown",
   "metadata": {},
   "source": [
    "**Response (b): Based on above plot we can see that ecounter_id, num_lab_procedures and num_medications have a Gaussian(normal) distribution shape**"
   ]
  },
  {
   "cell_type": "code",
   "execution_count": 13,
   "metadata": {},
   "outputs": [],
   "source": [
    "# (c) Which field(s) have high cardinality and why (HINT: ndc_code is one feature)\n",
    "\n",
    "# identify categorical columns\n",
    "\n",
    "cat_col = list(df.select_dtypes(['object']).columns)\n",
    "cat_col.extend(['admission_type_id','discharge_disposition_id', 'admission_source_id'])\n",
    "for col in cat_col:\n",
    "    df[col] = df[col].astype(str)"
   ]
  },
  {
   "cell_type": "code",
   "execution_count": 14,
   "metadata": {},
   "outputs": [
    {
     "data": {
      "text/html": [
       "<div>\n",
       "<style scoped>\n",
       "    .dataframe tbody tr th:only-of-type {\n",
       "        vertical-align: middle;\n",
       "    }\n",
       "\n",
       "    .dataframe tbody tr th {\n",
       "        vertical-align: top;\n",
       "    }\n",
       "\n",
       "    .dataframe thead th {\n",
       "        text-align: right;\n",
       "    }\n",
       "</style>\n",
       "<table border=\"1\" class=\"dataframe\">\n",
       "  <thead>\n",
       "    <tr style=\"text-align: right;\">\n",
       "      <th></th>\n",
       "      <th>columns</th>\n",
       "      <th>cardinality</th>\n",
       "    </tr>\n",
       "  </thead>\n",
       "  <tbody>\n",
       "    <tr>\n",
       "      <th>other_diagnosis_codes</th>\n",
       "      <td>other_diagnosis_codes</td>\n",
       "      <td>19374</td>\n",
       "    </tr>\n",
       "    <tr>\n",
       "      <th>primary_diagnosis_code</th>\n",
       "      <td>primary_diagnosis_code</td>\n",
       "      <td>717</td>\n",
       "    </tr>\n",
       "    <tr>\n",
       "      <th>ndc_code</th>\n",
       "      <td>ndc_code</td>\n",
       "      <td>252</td>\n",
       "    </tr>\n",
       "    <tr>\n",
       "      <th>discharge_disposition_id</th>\n",
       "      <td>discharge_disposition_id</td>\n",
       "      <td>26</td>\n",
       "    </tr>\n",
       "    <tr>\n",
       "      <th>admission_source_id</th>\n",
       "      <td>admission_source_id</td>\n",
       "      <td>17</td>\n",
       "    </tr>\n",
       "    <tr>\n",
       "      <th>age</th>\n",
       "      <td>age</td>\n",
       "      <td>10</td>\n",
       "    </tr>\n",
       "    <tr>\n",
       "      <th>admission_type_id</th>\n",
       "      <td>admission_type_id</td>\n",
       "      <td>8</td>\n",
       "    </tr>\n",
       "    <tr>\n",
       "      <th>race</th>\n",
       "      <td>race</td>\n",
       "      <td>6</td>\n",
       "    </tr>\n",
       "    <tr>\n",
       "      <th>gender</th>\n",
       "      <td>gender</td>\n",
       "      <td>3</td>\n",
       "    </tr>\n",
       "    <tr>\n",
       "      <th>readmitted</th>\n",
       "      <td>readmitted</td>\n",
       "      <td>3</td>\n",
       "    </tr>\n",
       "    <tr>\n",
       "      <th>change</th>\n",
       "      <td>change</td>\n",
       "      <td>2</td>\n",
       "    </tr>\n",
       "  </tbody>\n",
       "</table>\n",
       "</div>"
      ],
      "text/plain": [
       "                                           columns  cardinality\n",
       "other_diagnosis_codes        other_diagnosis_codes        19374\n",
       "primary_diagnosis_code      primary_diagnosis_code          717\n",
       "ndc_code                                  ndc_code          252\n",
       "discharge_disposition_id  discharge_disposition_id           26\n",
       "admission_source_id            admission_source_id           17\n",
       "age                                            age           10\n",
       "admission_type_id                admission_type_id            8\n",
       "race                                          race            6\n",
       "gender                                      gender            3\n",
       "readmitted                              readmitted            3\n",
       "change                                      change            2"
      ]
     },
     "execution_count": 14,
     "metadata": {},
     "output_type": "execute_result"
    }
   ],
   "source": [
    "cat_df = df[cat_col]\n",
    "cardinality_df = pd.DataFrame({'columns': cat_df.columns, 'cardinality': cat_df.nunique() } )\n",
    "cardinality_df.sort_values('cardinality', ascending=False)"
   ]
  },
  {
   "cell_type": "markdown",
   "metadata": {},
   "source": [
    "**Responce (c): From above we can see high cardinality columns include other_diagnosis_codes, primary_diagnosis_code and ndc_code**"
   ]
  },
  {
   "cell_type": "code",
   "execution_count": 15,
   "metadata": {},
   "outputs": [
    {
     "data": {
      "image/png": "[encoded data removed]",
      "text/plain": [
       "<Figure size 864x576 with 1 Axes>"
      ]
     },
     "metadata": {
      "needs_background": "light"
     },
     "output_type": "display_data"
    }
   ],
   "source": [
    "# d. Please describe the demographic distributions in the dataset for the age and gender fields\n",
    "\n",
    "plt.figure(figsize=(12, 8))\n",
    "sns.countplot(x='age', data=df); "
   ]
  },
  {
   "cell_type": "code",
   "execution_count": 16,
   "metadata": {},
   "outputs": [
    {
     "data": {
      "image/png": "[encoded data removed]",
      "text/plain": [
       "<Figure size 864x576 with 1 Axes>"
      ]
     },
     "metadata": {
      "needs_background": "light"
     },
     "output_type": "display_data"
    }
   ],
   "source": [
    "plt.figure(figsize=(12, 8))\n",
    "sns.countplot(x='gender', data=df); "
   ]
  },
  {
   "cell_type": "code",
   "execution_count": 17,
   "metadata": {},
   "outputs": [
    {
     "data": {
      "image/png": "[encoded data removed]",
      "text/plain": [
       "<Figure size 864x576 with 1 Axes>"
      ]
     },
     "metadata": {
      "needs_background": "light"
     },
     "output_type": "display_data"
    }
   ],
   "source": [
    "plt.figure(figsize=(12, 8))\n",
    "sns.countplot(x=\"age\", hue=\"gender\", data=df); "
   ]
  },
  {
   "cell_type": "markdown",
   "metadata": {},
   "source": [
    "**Responce (d): The above 3 charts describe the demographic distributions in the dataset for the age and gender**"
   ]
  },
  {
   "cell_type": "code",
   "execution_count": null,
   "metadata": {},
   "outputs": [],
   "source": [
    "######NOTE: The visualization will only display in Chrome browser. ########\n",
    "full_data_stats = tfdv.generate_statistics_from_csv(data_location='./data/final_project_dataset.csv') \n",
    "tfdv.visualize_statistics(full_data_stats)"
   ]
  },
  {
   "cell_type": "markdown",
   "metadata": {},
   "source": [
    "## Reduce Dimensionality of the NDC Code Feature"
   ]
  },
  {
   "cell_type": "markdown",
   "metadata": {},
   "source": [
    "**Question 3**: NDC codes are a common format to represent the wide variety of drugs that are prescribed for patient care in the United States. The challenge is that there are many codes that map to the same or similar drug. You are provided with the ndc drug lookup file https://github.com/udacity/nd320-c1-emr-data-starter/blob/master/project/data_schema_references/ndc_lookup_table.csv derived from the National Drug Codes List site(https://ndclist.com/). Please use this file to come up with a way to reduce the dimensionality of this field and create a new field in the dataset called \"generic_drug_name\" in the output dataframe. "
   ]
  },
  {
   "cell_type": "code",
   "execution_count": 18,
   "metadata": {},
   "outputs": [
    {
     "data": {
      "text/html": [
       "<div>\n",
       "<style scoped>\n",
       "    .dataframe tbody tr th:only-of-type {\n",
       "        vertical-align: middle;\n",
       "    }\n",
       "\n",
       "    .dataframe tbody tr th {\n",
       "        vertical-align: top;\n",
       "    }\n",
       "\n",
       "    .dataframe thead th {\n",
       "        text-align: right;\n",
       "    }\n",
       "</style>\n",
       "<table border=\"1\" class=\"dataframe\">\n",
       "  <thead>\n",
       "    <tr style=\"text-align: right;\">\n",
       "      <th></th>\n",
       "      <th>NDC_Code</th>\n",
       "      <th>Proprietary Name</th>\n",
       "      <th>Non-proprietary Name</th>\n",
       "      <th>Dosage Form</th>\n",
       "      <th>Route Name</th>\n",
       "      <th>Company Name</th>\n",
       "      <th>Product Type</th>\n",
       "    </tr>\n",
       "  </thead>\n",
       "  <tbody>\n",
       "    <tr>\n",
       "      <th>222</th>\n",
       "      <td>0143-9918</td>\n",
       "      <td>Glyburide</td>\n",
       "      <td>Glyburide</td>\n",
       "      <td>Tablet</td>\n",
       "      <td>Oral</td>\n",
       "      <td>Hikma Pharmaceuticals Usa Inc.</td>\n",
       "      <td>Human Prescription Drug</td>\n",
       "    </tr>\n",
       "    <tr>\n",
       "      <th>126</th>\n",
       "      <td>52536-067</td>\n",
       "      <td>Nateglinide</td>\n",
       "      <td>Nateglinide</td>\n",
       "      <td>Tablet</td>\n",
       "      <td>Oral</td>\n",
       "      <td>Wilshire Pharmaceuticals, Inc.</td>\n",
       "      <td>Human Prescription Drug</td>\n",
       "    </tr>\n",
       "    <tr>\n",
       "      <th>66</th>\n",
       "      <td>33261-157</td>\n",
       "      <td>Metformin Hydrochloride</td>\n",
       "      <td>Metformin Hydrochloride</td>\n",
       "      <td>Tablet</td>\n",
       "      <td>Oral</td>\n",
       "      <td>Aidarex Pharmaceuticals Llc</td>\n",
       "      <td>Human Prescription Drug</td>\n",
       "    </tr>\n",
       "    <tr>\n",
       "      <th>259</th>\n",
       "      <td>47918-891</td>\n",
       "      <td>Afrezza</td>\n",
       "      <td>Insulin Human</td>\n",
       "      <td>Powder, Metered</td>\n",
       "      <td>Respiratory (inhalation)</td>\n",
       "      <td>Mannkind Corporation</td>\n",
       "      <td>Human Prescription Drug</td>\n",
       "    </tr>\n",
       "    <tr>\n",
       "      <th>148</th>\n",
       "      <td>0378-4012</td>\n",
       "      <td>Glimepiride</td>\n",
       "      <td>Glimepiride</td>\n",
       "      <td>Tablet</td>\n",
       "      <td>Oral</td>\n",
       "      <td>Mylan Pharmaceuticals Inc.</td>\n",
       "      <td>Human Prescription Drug</td>\n",
       "    </tr>\n",
       "    <tr>\n",
       "      <th>146</th>\n",
       "      <td>0093-7256</td>\n",
       "      <td>Glimepiride</td>\n",
       "      <td>Glimepiride</td>\n",
       "      <td>Tablet</td>\n",
       "      <td>Oral</td>\n",
       "      <td>Teva Pharmaceuticals Usa, Inc.</td>\n",
       "      <td>Human Prescription Drug</td>\n",
       "    </tr>\n",
       "    <tr>\n",
       "      <th>207</th>\n",
       "      <td>0009-0341</td>\n",
       "      <td>Glynase</td>\n",
       "      <td>Glyburide</td>\n",
       "      <td>Tablet</td>\n",
       "      <td>Oral</td>\n",
       "      <td>Pharmacia And Upjohn Company Llc</td>\n",
       "      <td>Human Prescription Drug</td>\n",
       "    </tr>\n",
       "    <tr>\n",
       "      <th>163</th>\n",
       "      <td>42571-105</td>\n",
       "      <td>Glimepiride</td>\n",
       "      <td>Glimepiride</td>\n",
       "      <td>Tablet</td>\n",
       "      <td>Oral</td>\n",
       "      <td>Micro Labs Limited</td>\n",
       "      <td>Human Prescription Drug</td>\n",
       "    </tr>\n",
       "    <tr>\n",
       "      <th>16</th>\n",
       "      <td>0378-7186</td>\n",
       "      <td>Metformin Hydrochloride</td>\n",
       "      <td>Metformin Hydrochloride</td>\n",
       "      <td>Tablet, Film Coated</td>\n",
       "      <td>Oral</td>\n",
       "      <td>Mylan Pharmaceuticals Inc.</td>\n",
       "      <td>Human Prescription Drug</td>\n",
       "    </tr>\n",
       "    <tr>\n",
       "      <th>221</th>\n",
       "      <td>0115-1744</td>\n",
       "      <td>Glyburide</td>\n",
       "      <td>Glyburide</td>\n",
       "      <td>Tablet</td>\n",
       "      <td>Oral</td>\n",
       "      <td>Impax Generics</td>\n",
       "      <td>Human Prescription Drug</td>\n",
       "    </tr>\n",
       "  </tbody>\n",
       "</table>\n",
       "</div>"
      ],
      "text/plain": [
       "      NDC_Code         Proprietary Name     Non-proprietary Name  \\\n",
       "222  0143-9918                Glyburide                Glyburide   \n",
       "126  52536-067              Nateglinide              Nateglinide   \n",
       "66   33261-157  Metformin Hydrochloride  Metformin Hydrochloride   \n",
       "259  47918-891                  Afrezza            Insulin Human   \n",
       "148  0378-4012              Glimepiride              Glimepiride   \n",
       "146  0093-7256              Glimepiride              Glimepiride   \n",
       "207  0009-0341                  Glynase                Glyburide   \n",
       "163  42571-105              Glimepiride              Glimepiride   \n",
       "16   0378-7186  Metformin Hydrochloride  Metformin Hydrochloride   \n",
       "221  0115-1744                Glyburide                Glyburide   \n",
       "\n",
       "             Dosage Form                Route Name  \\\n",
       "222               Tablet                      Oral   \n",
       "126               Tablet                      Oral   \n",
       "66                Tablet                      Oral   \n",
       "259      Powder, Metered  Respiratory (inhalation)   \n",
       "148               Tablet                      Oral   \n",
       "146               Tablet                      Oral   \n",
       "207               Tablet                      Oral   \n",
       "163               Tablet                      Oral   \n",
       "16   Tablet, Film Coated                      Oral   \n",
       "221               Tablet                      Oral   \n",
       "\n",
       "                         Company Name             Product Type  \n",
       "222    Hikma Pharmaceuticals Usa Inc.  Human Prescription Drug  \n",
       "126    Wilshire Pharmaceuticals, Inc.  Human Prescription Drug  \n",
       "66        Aidarex Pharmaceuticals Llc  Human Prescription Drug  \n",
       "259              Mannkind Corporation  Human Prescription Drug  \n",
       "148        Mylan Pharmaceuticals Inc.  Human Prescription Drug  \n",
       "146    Teva Pharmaceuticals Usa, Inc.  Human Prescription Drug  \n",
       "207  Pharmacia And Upjohn Company Llc  Human Prescription Drug  \n",
       "163                Micro Labs Limited  Human Prescription Drug  \n",
       "16         Mylan Pharmaceuticals Inc.  Human Prescription Drug  \n",
       "221                    Impax Generics  Human Prescription Drug  "
      ]
     },
     "execution_count": 18,
     "metadata": {},
     "output_type": "execute_result"
    }
   ],
   "source": [
    "#NDC code lookup file\n",
    "ndc_code_path = \"./medication_lookup_tables/final_ndc_lookup_table\"\n",
    "ndc_code_df = pd.read_csv(ndc_code_path)\n",
    "ndc_code_df.sample(10)"
   ]
  },
  {
   "cell_type": "code",
   "execution_count": 19,
   "metadata": {},
   "outputs": [],
   "source": [
    "from student_utils import reduce_dimension_ndc"
   ]
  },
  {
   "cell_type": "code",
   "execution_count": 20,
   "metadata": {},
   "outputs": [
    {
     "data": {
      "text/html": [
       "<div>\n",
       "<style scoped>\n",
       "    .dataframe tbody tr th:only-of-type {\n",
       "        vertical-align: middle;\n",
       "    }\n",
       "\n",
       "    .dataframe tbody tr th {\n",
       "        vertical-align: top;\n",
       "    }\n",
       "\n",
       "    .dataframe thead th {\n",
       "        text-align: right;\n",
       "    }\n",
       "</style>\n",
       "<table border=\"1\" class=\"dataframe\">\n",
       "  <thead>\n",
       "    <tr style=\"text-align: right;\">\n",
       "      <th></th>\n",
       "      <th>encounter_id</th>\n",
       "      <th>patient_nbr</th>\n",
       "      <th>race</th>\n",
       "      <th>gender</th>\n",
       "      <th>age</th>\n",
       "      <th>admission_type_id</th>\n",
       "      <th>discharge_disposition_id</th>\n",
       "      <th>admission_source_id</th>\n",
       "      <th>time_in_hospital</th>\n",
       "      <th>primary_diagnosis_code</th>\n",
       "      <th>other_diagnosis_codes</th>\n",
       "      <th>number_outpatient</th>\n",
       "      <th>number_inpatient</th>\n",
       "      <th>number_emergency</th>\n",
       "      <th>num_lab_procedures</th>\n",
       "      <th>number_diagnoses</th>\n",
       "      <th>num_medications</th>\n",
       "      <th>num_procedures</th>\n",
       "      <th>ndc_code</th>\n",
       "      <th>change</th>\n",
       "      <th>readmitted</th>\n",
       "      <th>generic_drug_name</th>\n",
       "    </tr>\n",
       "  </thead>\n",
       "  <tbody>\n",
       "    <tr>\n",
       "      <th>39075</th>\n",
       "      <td>190396296</td>\n",
       "      <td>43936533</td>\n",
       "      <td>Caucasian</td>\n",
       "      <td>Male</td>\n",
       "      <td>[50-60)</td>\n",
       "      <td>1</td>\n",
       "      <td>1</td>\n",
       "      <td>7</td>\n",
       "      <td>3</td>\n",
       "      <td>786</td>\n",
       "      <td>V45|250</td>\n",
       "      <td>1</td>\n",
       "      <td>1</td>\n",
       "      <td>0</td>\n",
       "      <td>49</td>\n",
       "      <td>9</td>\n",
       "      <td>24</td>\n",
       "      <td>1</td>\n",
       "      <td>47918-902</td>\n",
       "      <td>Ch</td>\n",
       "      <td>&gt;30</td>\n",
       "      <td>Afrezza</td>\n",
       "    </tr>\n",
       "    <tr>\n",
       "      <th>108224</th>\n",
       "      <td>104773098</td>\n",
       "      <td>24693363</td>\n",
       "      <td>nan</td>\n",
       "      <td>Male</td>\n",
       "      <td>[50-60)</td>\n",
       "      <td>1</td>\n",
       "      <td>3</td>\n",
       "      <td>5</td>\n",
       "      <td>10</td>\n",
       "      <td>510</td>\n",
       "      <td>511|438</td>\n",
       "      <td>0</td>\n",
       "      <td>1</td>\n",
       "      <td>0</td>\n",
       "      <td>35</td>\n",
       "      <td>9</td>\n",
       "      <td>18</td>\n",
       "      <td>2</td>\n",
       "      <td>0378-0228</td>\n",
       "      <td>Ch</td>\n",
       "      <td>NO</td>\n",
       "      <td>Pioglitazone</td>\n",
       "    </tr>\n",
       "    <tr>\n",
       "      <th>4028</th>\n",
       "      <td>81179772</td>\n",
       "      <td>20833083</td>\n",
       "      <td>Caucasian</td>\n",
       "      <td>Male</td>\n",
       "      <td>[40-50)</td>\n",
       "      <td>1</td>\n",
       "      <td>6</td>\n",
       "      <td>7</td>\n",
       "      <td>2</td>\n",
       "      <td>428</td>\n",
       "      <td>425|305</td>\n",
       "      <td>0</td>\n",
       "      <td>1</td>\n",
       "      <td>0</td>\n",
       "      <td>43</td>\n",
       "      <td>9</td>\n",
       "      <td>13</td>\n",
       "      <td>0</td>\n",
       "      <td>68071-1701</td>\n",
       "      <td>Ch</td>\n",
       "      <td>&gt;30</td>\n",
       "      <td>Novolin R</td>\n",
       "    </tr>\n",
       "    <tr>\n",
       "      <th>104744</th>\n",
       "      <td>73192878</td>\n",
       "      <td>1545723</td>\n",
       "      <td>Caucasian</td>\n",
       "      <td>Female</td>\n",
       "      <td>[30-40)</td>\n",
       "      <td>1</td>\n",
       "      <td>1</td>\n",
       "      <td>7</td>\n",
       "      <td>13</td>\n",
       "      <td>682</td>\n",
       "      <td>424|250.03</td>\n",
       "      <td>0</td>\n",
       "      <td>0</td>\n",
       "      <td>0</td>\n",
       "      <td>40</td>\n",
       "      <td>8</td>\n",
       "      <td>22</td>\n",
       "      <td>6</td>\n",
       "      <td>0591-2720</td>\n",
       "      <td>Ch</td>\n",
       "      <td>NO</td>\n",
       "      <td>Metformin Hydrochloride</td>\n",
       "    </tr>\n",
       "    <tr>\n",
       "      <th>107200</th>\n",
       "      <td>360151460</td>\n",
       "      <td>97365870</td>\n",
       "      <td>Caucasian</td>\n",
       "      <td>Female</td>\n",
       "      <td>[60-70)</td>\n",
       "      <td>3</td>\n",
       "      <td>6</td>\n",
       "      <td>1</td>\n",
       "      <td>8</td>\n",
       "      <td>715</td>\n",
       "      <td>427|496</td>\n",
       "      <td>0</td>\n",
       "      <td>0</td>\n",
       "      <td>0</td>\n",
       "      <td>35</td>\n",
       "      <td>7</td>\n",
       "      <td>25</td>\n",
       "      <td>3</td>\n",
       "      <td>42291-610</td>\n",
       "      <td>Ch</td>\n",
       "      <td>NO</td>\n",
       "      <td>Metformin Hydrochloride</td>\n",
       "    </tr>\n",
       "    <tr>\n",
       "      <th>28149</th>\n",
       "      <td>41742234</td>\n",
       "      <td>88631361</td>\n",
       "      <td>Caucasian</td>\n",
       "      <td>Male</td>\n",
       "      <td>[50-60)</td>\n",
       "      <td>6</td>\n",
       "      <td>6</td>\n",
       "      <td>7</td>\n",
       "      <td>8</td>\n",
       "      <td>428</td>\n",
       "      <td>250|272</td>\n",
       "      <td>0</td>\n",
       "      <td>1</td>\n",
       "      <td>0</td>\n",
       "      <td>74</td>\n",
       "      <td>5</td>\n",
       "      <td>22</td>\n",
       "      <td>0</td>\n",
       "      <td>47918-902</td>\n",
       "      <td>Ch</td>\n",
       "      <td>NO</td>\n",
       "      <td>Afrezza</td>\n",
       "    </tr>\n",
       "    <tr>\n",
       "      <th>103586</th>\n",
       "      <td>80167770</td>\n",
       "      <td>5034843</td>\n",
       "      <td>Caucasian</td>\n",
       "      <td>Male</td>\n",
       "      <td>[70-80)</td>\n",
       "      <td>1</td>\n",
       "      <td>1</td>\n",
       "      <td>7</td>\n",
       "      <td>12</td>\n",
       "      <td>410</td>\n",
       "      <td>511|428</td>\n",
       "      <td>0</td>\n",
       "      <td>0</td>\n",
       "      <td>0</td>\n",
       "      <td>82</td>\n",
       "      <td>9</td>\n",
       "      <td>41</td>\n",
       "      <td>6</td>\n",
       "      <td>42385-903</td>\n",
       "      <td>Ch</td>\n",
       "      <td>NO</td>\n",
       "      <td>Metformin Hydrochloride</td>\n",
       "    </tr>\n",
       "    <tr>\n",
       "      <th>33697</th>\n",
       "      <td>127038228</td>\n",
       "      <td>95948226</td>\n",
       "      <td>AfricanAmerican</td>\n",
       "      <td>Male</td>\n",
       "      <td>[50-60)</td>\n",
       "      <td>2</td>\n",
       "      <td>1</td>\n",
       "      <td>1</td>\n",
       "      <td>5</td>\n",
       "      <td>410</td>\n",
       "      <td>250|414</td>\n",
       "      <td>0</td>\n",
       "      <td>0</td>\n",
       "      <td>0</td>\n",
       "      <td>37</td>\n",
       "      <td>4</td>\n",
       "      <td>8</td>\n",
       "      <td>5</td>\n",
       "      <td>47918-902</td>\n",
       "      <td>No</td>\n",
       "      <td>NO</td>\n",
       "      <td>Afrezza</td>\n",
       "    </tr>\n",
       "    <tr>\n",
       "      <th>60706</th>\n",
       "      <td>89401926</td>\n",
       "      <td>23456763</td>\n",
       "      <td>Caucasian</td>\n",
       "      <td>Female</td>\n",
       "      <td>[70-80)</td>\n",
       "      <td>5</td>\n",
       "      <td>3</td>\n",
       "      <td>17</td>\n",
       "      <td>3</td>\n",
       "      <td>715</td>\n",
       "      <td>401|272</td>\n",
       "      <td>1</td>\n",
       "      <td>0</td>\n",
       "      <td>0</td>\n",
       "      <td>15</td>\n",
       "      <td>6</td>\n",
       "      <td>24</td>\n",
       "      <td>3</td>\n",
       "      <td>0009-3449</td>\n",
       "      <td>Ch</td>\n",
       "      <td>&gt;30</td>\n",
       "      <td>Glynase</td>\n",
       "    </tr>\n",
       "    <tr>\n",
       "      <th>92179</th>\n",
       "      <td>300735338</td>\n",
       "      <td>65918763</td>\n",
       "      <td>Caucasian</td>\n",
       "      <td>Male</td>\n",
       "      <td>[60-70)</td>\n",
       "      <td>1</td>\n",
       "      <td>1</td>\n",
       "      <td>7</td>\n",
       "      <td>1</td>\n",
       "      <td>420</td>\n",
       "      <td>V42|402</td>\n",
       "      <td>0</td>\n",
       "      <td>0</td>\n",
       "      <td>0</td>\n",
       "      <td>29</td>\n",
       "      <td>9</td>\n",
       "      <td>11</td>\n",
       "      <td>3</td>\n",
       "      <td>0093-9364</td>\n",
       "      <td>Ch</td>\n",
       "      <td>NO</td>\n",
       "      <td>Glyburide</td>\n",
       "    </tr>\n",
       "  </tbody>\n",
       "</table>\n",
       "</div>"
      ],
      "text/plain": [
       "        encounter_id  patient_nbr             race  gender      age  \\\n",
       "39075      190396296     43936533        Caucasian    Male  [50-60)   \n",
       "108224     104773098     24693363              nan    Male  [50-60)   \n",
       "4028        81179772     20833083        Caucasian    Male  [40-50)   \n",
       "104744      73192878      1545723        Caucasian  Female  [30-40)   \n",
       "107200     360151460     97365870        Caucasian  Female  [60-70)   \n",
       "28149       41742234     88631361        Caucasian    Male  [50-60)   \n",
       "103586      80167770      5034843        Caucasian    Male  [70-80)   \n",
       "33697      127038228     95948226  AfricanAmerican    Male  [50-60)   \n",
       "60706       89401926     23456763        Caucasian  Female  [70-80)   \n",
       "92179      300735338     65918763        Caucasian    Male  [60-70)   \n",
       "\n",
       "       admission_type_id discharge_disposition_id admission_source_id  \\\n",
       "39075                  1                        1                   7   \n",
       "108224                 1                        3                   5   \n",
       "4028                   1                        6                   7   \n",
       "104744                 1                        1                   7   \n",
       "107200                 3                        6                   1   \n",
       "28149                  6                        6                   7   \n",
       "103586                 1                        1                   7   \n",
       "33697                  2                        1                   1   \n",
       "60706                  5                        3                  17   \n",
       "92179                  1                        1                   7   \n",
       "\n",
       "        time_in_hospital primary_diagnosis_code other_diagnosis_codes  \\\n",
       "39075                  3                    786               V45|250   \n",
       "108224                10                    510               511|438   \n",
       "4028                   2                    428               425|305   \n",
       "104744                13                    682            424|250.03   \n",
       "107200                 8                    715               427|496   \n",
       "28149                  8                    428               250|272   \n",
       "103586                12                    410               511|428   \n",
       "33697                  5                    410               250|414   \n",
       "60706                  3                    715               401|272   \n",
       "92179                  1                    420               V42|402   \n",
       "\n",
       "        number_outpatient  number_inpatient  number_emergency  \\\n",
       "39075                   1                 1                 0   \n",
       "108224                  0                 1                 0   \n",
       "4028                    0                 1                 0   \n",
       "104744                  0                 0                 0   \n",
       "107200                  0                 0                 0   \n",
       "28149                   0                 1                 0   \n",
       "103586                  0                 0                 0   \n",
       "33697                   0                 0                 0   \n",
       "60706                   1                 0                 0   \n",
       "92179                   0                 0                 0   \n",
       "\n",
       "        num_lab_procedures  number_diagnoses  num_medications  num_procedures  \\\n",
       "39075                   49                 9               24               1   \n",
       "108224                  35                 9               18               2   \n",
       "4028                    43                 9               13               0   \n",
       "104744                  40                 8               22               6   \n",
       "107200                  35                 7               25               3   \n",
       "28149                   74                 5               22               0   \n",
       "103586                  82                 9               41               6   \n",
       "33697                   37                 4                8               5   \n",
       "60706                   15                 6               24               3   \n",
       "92179                   29                 9               11               3   \n",
       "\n",
       "          ndc_code change readmitted        generic_drug_name  \n",
       "39075    47918-902     Ch        >30                  Afrezza  \n",
       "108224   0378-0228     Ch         NO             Pioglitazone  \n",
       "4028    68071-1701     Ch        >30                Novolin R  \n",
       "104744   0591-2720     Ch         NO  Metformin Hydrochloride  \n",
       "107200   42291-610     Ch         NO  Metformin Hydrochloride  \n",
       "28149    47918-902     Ch         NO                  Afrezza  \n",
       "103586   42385-903     Ch         NO  Metformin Hydrochloride  \n",
       "33697    47918-902     No         NO                  Afrezza  \n",
       "60706    0009-3449     Ch        >30                  Glynase  \n",
       "92179    0093-9364     Ch         NO                Glyburide  "
      ]
     },
     "execution_count": 20,
     "metadata": {},
     "output_type": "execute_result"
    }
   ],
   "source": [
    "reduce_dim_df = reduce_dimension_ndc(df, ndc_code_df)\n",
    "reduce_dim_df.sample(10)"
   ]
  },
  {
   "cell_type": "code",
   "execution_count": 21,
   "metadata": {},
   "outputs": [],
   "source": [
    "# Number of unique values should be less for the new output field\n",
    "assert df['ndc_code'].nunique() > reduce_dim_df['generic_drug_name'].nunique()"
   ]
  },
  {
   "cell_type": "code",
   "execution_count": 22,
   "metadata": {},
   "outputs": [
    {
     "data": {
      "text/plain": [
       "((120020, 22), 78304, 56133)"
      ]
     },
     "execution_count": 22,
     "metadata": {},
     "output_type": "execute_result"
    }
   ],
   "source": [
    "reduce_dim_df.shape, reduce_dim_df.encounter_id.nunique(), reduce_dim_df.patient_nbr.nunique()"
   ]
  },
  {
   "cell_type": "markdown",
   "metadata": {},
   "source": [
    "## Select First Encounter for each Patient "
   ]
  },
  {
   "cell_type": "markdown",
   "metadata": {},
   "source": [
    "**Question 4**: In order to simplify the aggregation of data for the model, we will only select the first encounter for each patient in the dataset. This is to reduce the risk of data leakage of future patient encounters and to reduce complexity of the data transformation and modeling steps. We will assume that sorting in numerical order on the encounter_id provides the time horizon for determining which encounters come before and after another."
   ]
  },
  {
   "cell_type": "code",
   "execution_count": 23,
   "metadata": {},
   "outputs": [],
   "source": [
    "from student_utils import select_first_encounter\n",
    "first_encounter_df = select_first_encounter(reduce_dim_df)"
   ]
  },
  {
   "cell_type": "code",
   "execution_count": 24,
   "metadata": {},
   "outputs": [
    {
     "name": "stdout",
     "output_type": "stream",
     "text": [
      "Number of unique patients:56133\n",
      "Number of unique encounters:56133\n",
      "Tests passed!!\n"
     ]
    }
   ],
   "source": [
    "# unique patients in transformed dataset\n",
    "unique_patients = first_encounter_df['patient_nbr'].nunique()\n",
    "print(\"Number of unique patients:{}\".format(unique_patients))\n",
    "\n",
    "# unique encounters in transformed dataset\n",
    "unique_encounters = first_encounter_df['encounter_id'].nunique()\n",
    "print(\"Number of unique encounters:{}\".format(unique_encounters))\n",
    "\n",
    "original_unique_patient_number = reduce_dim_df['patient_nbr'].nunique()\n",
    "# number of unique patients should be equal to the number of unique encounters and patients in the final dataset\n",
    "assert original_unique_patient_number == unique_patients\n",
    "assert original_unique_patient_number == unique_encounters\n",
    "print(\"Tests passed!!\")"
   ]
  },
  {
   "cell_type": "markdown",
   "metadata": {},
   "source": [
    "## Aggregate Dataset to Right Level for Modeling "
   ]
  },
  {
   "cell_type": "markdown",
   "metadata": {},
   "source": [
    "In order to provide a broad scope of the steps and to prevent students from getting stuck with data transformations, we have selected the aggregation columns and provided a function to build the dataset at the appropriate level. The 'aggregate_dataset\" function that you can find in the 'utils.py' file can take the preceding dataframe with the 'generic_drug_name' field and transform the data appropriately for the project. \n",
    "\n",
    "To make it simpler for students, we are creating dummy columns for each unique generic drug name and adding those are input features to the model. There are other options for data representation but this is out of scope for the time constraints of the course."
   ]
  },
  {
   "cell_type": "code",
   "execution_count": 25,
   "metadata": {},
   "outputs": [
    {
     "name": "stderr",
     "output_type": "stream",
     "text": [
      "/home/workspace/starter_code/utils.py:10: FutureWarning: Indexing with multiple keys (implicitly converted to a tuple of keys) will be deprecated, use a list instead.\n",
      "  array_field].apply(lambda x: x[array_field].values.tolist()).reset_index().rename(columns={\n"
     ]
    }
   ],
   "source": [
    "exclusion_list = ['generic_drug_name']\n",
    "grouping_field_list = [c for c in first_encounter_df.columns if c not in exclusion_list]\n",
    "agg_drug_df, ndc_col_list = aggregate_dataset(first_encounter_df, grouping_field_list, 'generic_drug_name')"
   ]
  },
  {
   "cell_type": "code",
   "execution_count": 26,
   "metadata": {},
   "outputs": [],
   "source": [
    "assert len(agg_drug_df) == agg_drug_df['patient_nbr'].nunique() == agg_drug_df['encounter_id'].nunique()"
   ]
  },
  {
   "cell_type": "markdown",
   "metadata": {},
   "source": [
    "## Prepare Fields and Cast Dataset "
   ]
  },
  {
   "cell_type": "markdown",
   "metadata": {},
   "source": [
    "### Feature Selection"
   ]
  },
  {
   "cell_type": "markdown",
   "metadata": {},
   "source": [
    "**Question 5**: After you have aggregated the dataset to the right level, we can do feature selection (we will include the ndc_col_list, dummy column features too). In the block below, please select the categorical and numerical features that you will use for the model, so that we can create a dataset subset. \n",
    "\n",
    "For the payer_code and weight fields, please provide whether you think we should include/exclude the field in our model and give a justification/rationale for this based off of the statistics of the data. Feel free to use visualizations or summary statistics to support your choice."
   ]
  },
  {
   "cell_type": "markdown",
   "metadata": {},
   "source": [
    "**Response: weight, max_glu_serum, A1Cresult, medical_specialty and payer_code have a high percentage of null values at it is exluded in the model**"
   ]
  },
  {
   "cell_type": "code",
   "execution_count": 27,
   "metadata": {},
   "outputs": [],
   "source": [
    "'''\n",
    "Please update the list to include the features you think are appropriate for the model \n",
    "and the field that we will be using to train the model. There are three required demographic features for the model \n",
    "and I have inserted a list with them already in the categorical list. \n",
    "These will be required for later steps when analyzing data splits and model biases.\n",
    "'''\n",
    "\n",
    "cat_col_list = cat_col + ndc_col_list\n",
    "\n",
    "num_col_list = ['number_diagnoses', 'num_medications', 'num_procedures']\n",
    "\n",
    "PREDICTOR_FIELD = 'time_in_hospital'"
   ]
  },
  {
   "cell_type": "code",
   "execution_count": 28,
   "metadata": {},
   "outputs": [],
   "source": [
    "def select_model_features(df, cat_col_list, num_col_list, PREDICTOR_FIELD, grouping_key='patient_nbr'):\n",
    "    selected_col_list = [grouping_key] + [PREDICTOR_FIELD] + cat_col_list + num_col_list   \n",
    "    return agg_drug_df[selected_col_list]"
   ]
  },
  {
   "cell_type": "code",
   "execution_count": 29,
   "metadata": {},
   "outputs": [
    {
     "data": {
      "text/html": [
       "<div>\n",
       "<style scoped>\n",
       "    .dataframe tbody tr th:only-of-type {\n",
       "        vertical-align: middle;\n",
       "    }\n",
       "\n",
       "    .dataframe tbody tr th {\n",
       "        vertical-align: top;\n",
       "    }\n",
       "\n",
       "    .dataframe thead th {\n",
       "        text-align: right;\n",
       "    }\n",
       "</style>\n",
       "<table border=\"1\" class=\"dataframe\">\n",
       "  <thead>\n",
       "    <tr style=\"text-align: right;\">\n",
       "      <th></th>\n",
       "      <th>patient_nbr</th>\n",
       "      <th>time_in_hospital</th>\n",
       "      <th>race</th>\n",
       "      <th>gender</th>\n",
       "      <th>age</th>\n",
       "      <th>primary_diagnosis_code</th>\n",
       "      <th>other_diagnosis_codes</th>\n",
       "      <th>ndc_code</th>\n",
       "      <th>change</th>\n",
       "      <th>readmitted</th>\n",
       "      <th>admission_type_id</th>\n",
       "      <th>discharge_disposition_id</th>\n",
       "      <th>admission_source_id</th>\n",
       "      <th>Acarbose</th>\n",
       "      <th>Afrezza</th>\n",
       "      <th>Amaryl</th>\n",
       "      <th>Avandia_2MG</th>\n",
       "      <th>Avandia_4MG</th>\n",
       "      <th>Glimepiride</th>\n",
       "      <th>Glipizide</th>\n",
       "      <th>Glipizide_And_Metformin_Hydrochloride</th>\n",
       "      <th>Glucophage</th>\n",
       "      <th>Glucophage_XR</th>\n",
       "      <th>Glucotrol</th>\n",
       "      <th>Glucotrol_XL</th>\n",
       "      <th>Glyburide</th>\n",
       "      <th>Glyburide_And_Metformin_Hydrochloride</th>\n",
       "      <th>Glyburide-metformin_Hydrochloride</th>\n",
       "      <th>Glynase</th>\n",
       "      <th>Glyset</th>\n",
       "      <th>Humulin_R</th>\n",
       "      <th>Metformin_Hcl</th>\n",
       "      <th>Metformin_Hydrochloride</th>\n",
       "      <th>Metformin_Hydrochloride_Extended_Release</th>\n",
       "      <th>Miglitol</th>\n",
       "      <th>Nateglinide</th>\n",
       "      <th>Novolin_R</th>\n",
       "      <th>Pioglitazone</th>\n",
       "      <th>Pioglitazone_Hydrochloride_And_Glimepiride</th>\n",
       "      <th>Prandin</th>\n",
       "      <th>Repaglinide</th>\n",
       "      <th>Riomet</th>\n",
       "      <th>Riomet_Er</th>\n",
       "      <th>Starlix</th>\n",
       "      <th>Tolazamide</th>\n",
       "      <th>Tolbutamide</th>\n",
       "      <th>number_diagnoses</th>\n",
       "      <th>num_medications</th>\n",
       "      <th>num_procedures</th>\n",
       "    </tr>\n",
       "  </thead>\n",
       "  <tbody>\n",
       "    <tr>\n",
       "      <th>0</th>\n",
       "      <td>135</td>\n",
       "      <td>8</td>\n",
       "      <td>Caucasian</td>\n",
       "      <td>Female</td>\n",
       "      <td>[50-60)</td>\n",
       "      <td>401</td>\n",
       "      <td>997|560</td>\n",
       "      <td>68071-1701</td>\n",
       "      <td>Ch</td>\n",
       "      <td>&lt;30</td>\n",
       "      <td>2</td>\n",
       "      <td>1</td>\n",
       "      <td>1</td>\n",
       "      <td>0</td>\n",
       "      <td>0</td>\n",
       "      <td>0</td>\n",
       "      <td>0</td>\n",
       "      <td>0</td>\n",
       "      <td>0</td>\n",
       "      <td>0</td>\n",
       "      <td>0</td>\n",
       "      <td>0</td>\n",
       "      <td>0</td>\n",
       "      <td>0</td>\n",
       "      <td>0</td>\n",
       "      <td>0</td>\n",
       "      <td>0</td>\n",
       "      <td>0</td>\n",
       "      <td>0</td>\n",
       "      <td>0</td>\n",
       "      <td>0</td>\n",
       "      <td>0</td>\n",
       "      <td>0</td>\n",
       "      <td>0</td>\n",
       "      <td>0</td>\n",
       "      <td>0</td>\n",
       "      <td>1</td>\n",
       "      <td>0</td>\n",
       "      <td>0</td>\n",
       "      <td>0</td>\n",
       "      <td>0</td>\n",
       "      <td>0</td>\n",
       "      <td>0</td>\n",
       "      <td>0</td>\n",
       "      <td>0</td>\n",
       "      <td>0</td>\n",
       "      <td>8</td>\n",
       "      <td>33</td>\n",
       "      <td>6</td>\n",
       "    </tr>\n",
       "    <tr>\n",
       "      <th>1</th>\n",
       "      <td>729</td>\n",
       "      <td>4</td>\n",
       "      <td>Caucasian</td>\n",
       "      <td>Female</td>\n",
       "      <td>[80-90)</td>\n",
       "      <td>820</td>\n",
       "      <td>493|E880</td>\n",
       "      <td>0615-7982</td>\n",
       "      <td>No</td>\n",
       "      <td>NO</td>\n",
       "      <td>1</td>\n",
       "      <td>3</td>\n",
       "      <td>7</td>\n",
       "      <td>0</td>\n",
       "      <td>0</td>\n",
       "      <td>0</td>\n",
       "      <td>0</td>\n",
       "      <td>0</td>\n",
       "      <td>0</td>\n",
       "      <td>0</td>\n",
       "      <td>0</td>\n",
       "      <td>0</td>\n",
       "      <td>0</td>\n",
       "      <td>0</td>\n",
       "      <td>0</td>\n",
       "      <td>0</td>\n",
       "      <td>0</td>\n",
       "      <td>0</td>\n",
       "      <td>0</td>\n",
       "      <td>0</td>\n",
       "      <td>0</td>\n",
       "      <td>0</td>\n",
       "      <td>1</td>\n",
       "      <td>0</td>\n",
       "      <td>0</td>\n",
       "      <td>0</td>\n",
       "      <td>0</td>\n",
       "      <td>0</td>\n",
       "      <td>0</td>\n",
       "      <td>0</td>\n",
       "      <td>0</td>\n",
       "      <td>0</td>\n",
       "      <td>0</td>\n",
       "      <td>0</td>\n",
       "      <td>0</td>\n",
       "      <td>0</td>\n",
       "      <td>9</td>\n",
       "      <td>23</td>\n",
       "      <td>2</td>\n",
       "    </tr>\n",
       "    <tr>\n",
       "      <th>2</th>\n",
       "      <td>774</td>\n",
       "      <td>3</td>\n",
       "      <td>Caucasian</td>\n",
       "      <td>Female</td>\n",
       "      <td>[80-90)</td>\n",
       "      <td>274</td>\n",
       "      <td>427|416</td>\n",
       "      <td>0115-1743</td>\n",
       "      <td>Ch</td>\n",
       "      <td>NO</td>\n",
       "      <td>1</td>\n",
       "      <td>1</td>\n",
       "      <td>7</td>\n",
       "      <td>0</td>\n",
       "      <td>0</td>\n",
       "      <td>0</td>\n",
       "      <td>0</td>\n",
       "      <td>0</td>\n",
       "      <td>0</td>\n",
       "      <td>0</td>\n",
       "      <td>0</td>\n",
       "      <td>0</td>\n",
       "      <td>0</td>\n",
       "      <td>0</td>\n",
       "      <td>0</td>\n",
       "      <td>1</td>\n",
       "      <td>0</td>\n",
       "      <td>0</td>\n",
       "      <td>0</td>\n",
       "      <td>0</td>\n",
       "      <td>0</td>\n",
       "      <td>0</td>\n",
       "      <td>0</td>\n",
       "      <td>0</td>\n",
       "      <td>0</td>\n",
       "      <td>0</td>\n",
       "      <td>0</td>\n",
       "      <td>0</td>\n",
       "      <td>0</td>\n",
       "      <td>0</td>\n",
       "      <td>0</td>\n",
       "      <td>0</td>\n",
       "      <td>0</td>\n",
       "      <td>0</td>\n",
       "      <td>0</td>\n",
       "      <td>0</td>\n",
       "      <td>9</td>\n",
       "      <td>20</td>\n",
       "      <td>0</td>\n",
       "    </tr>\n",
       "    <tr>\n",
       "      <th>3</th>\n",
       "      <td>927</td>\n",
       "      <td>5</td>\n",
       "      <td>AfricanAmerican</td>\n",
       "      <td>Female</td>\n",
       "      <td>[30-40)</td>\n",
       "      <td>590</td>\n",
       "      <td>220|250</td>\n",
       "      <td>42571-104</td>\n",
       "      <td>No</td>\n",
       "      <td>NO</td>\n",
       "      <td>1</td>\n",
       "      <td>1</td>\n",
       "      <td>7</td>\n",
       "      <td>0</td>\n",
       "      <td>0</td>\n",
       "      <td>0</td>\n",
       "      <td>0</td>\n",
       "      <td>0</td>\n",
       "      <td>1</td>\n",
       "      <td>0</td>\n",
       "      <td>0</td>\n",
       "      <td>0</td>\n",
       "      <td>0</td>\n",
       "      <td>0</td>\n",
       "      <td>0</td>\n",
       "      <td>0</td>\n",
       "      <td>0</td>\n",
       "      <td>0</td>\n",
       "      <td>0</td>\n",
       "      <td>0</td>\n",
       "      <td>0</td>\n",
       "      <td>0</td>\n",
       "      <td>0</td>\n",
       "      <td>0</td>\n",
       "      <td>0</td>\n",
       "      <td>0</td>\n",
       "      <td>0</td>\n",
       "      <td>0</td>\n",
       "      <td>0</td>\n",
       "      <td>0</td>\n",
       "      <td>0</td>\n",
       "      <td>0</td>\n",
       "      <td>0</td>\n",
       "      <td>0</td>\n",
       "      <td>0</td>\n",
       "      <td>0</td>\n",
       "      <td>3</td>\n",
       "      <td>5</td>\n",
       "      <td>0</td>\n",
       "    </tr>\n",
       "    <tr>\n",
       "      <th>4</th>\n",
       "      <td>1152</td>\n",
       "      <td>6</td>\n",
       "      <td>AfricanAmerican</td>\n",
       "      <td>Female</td>\n",
       "      <td>[50-60)</td>\n",
       "      <td>282</td>\n",
       "      <td>250.01|?</td>\n",
       "      <td>47918-902</td>\n",
       "      <td>No</td>\n",
       "      <td>&gt;30</td>\n",
       "      <td>1</td>\n",
       "      <td>1</td>\n",
       "      <td>7</td>\n",
       "      <td>0</td>\n",
       "      <td>1</td>\n",
       "      <td>0</td>\n",
       "      <td>0</td>\n",
       "      <td>0</td>\n",
       "      <td>0</td>\n",
       "      <td>0</td>\n",
       "      <td>0</td>\n",
       "      <td>0</td>\n",
       "      <td>0</td>\n",
       "      <td>0</td>\n",
       "      <td>0</td>\n",
       "      <td>0</td>\n",
       "      <td>0</td>\n",
       "      <td>0</td>\n",
       "      <td>0</td>\n",
       "      <td>0</td>\n",
       "      <td>0</td>\n",
       "      <td>0</td>\n",
       "      <td>0</td>\n",
       "      <td>0</td>\n",
       "      <td>0</td>\n",
       "      <td>0</td>\n",
       "      <td>0</td>\n",
       "      <td>0</td>\n",
       "      <td>0</td>\n",
       "      <td>0</td>\n",
       "      <td>0</td>\n",
       "      <td>0</td>\n",
       "      <td>0</td>\n",
       "      <td>0</td>\n",
       "      <td>0</td>\n",
       "      <td>0</td>\n",
       "      <td>2</td>\n",
       "      <td>13</td>\n",
       "      <td>2</td>\n",
       "    </tr>\n",
       "    <tr>\n",
       "      <th>5</th>\n",
       "      <td>1305</td>\n",
       "      <td>9</td>\n",
       "      <td>Caucasian</td>\n",
       "      <td>Female</td>\n",
       "      <td>[60-70)</td>\n",
       "      <td>491</td>\n",
       "      <td>428|250.01</td>\n",
       "      <td>47918-902</td>\n",
       "      <td>No</td>\n",
       "      <td>NO</td>\n",
       "      <td>3</td>\n",
       "      <td>1</td>\n",
       "      <td>1</td>\n",
       "      <td>0</td>\n",
       "      <td>1</td>\n",
       "      <td>0</td>\n",
       "      <td>0</td>\n",
       "      <td>0</td>\n",
       "      <td>0</td>\n",
       "      <td>0</td>\n",
       "      <td>0</td>\n",
       "      <td>0</td>\n",
       "      <td>0</td>\n",
       "      <td>0</td>\n",
       "      <td>0</td>\n",
       "      <td>0</td>\n",
       "      <td>0</td>\n",
       "      <td>0</td>\n",
       "      <td>0</td>\n",
       "      <td>0</td>\n",
       "      <td>0</td>\n",
       "      <td>0</td>\n",
       "      <td>0</td>\n",
       "      <td>0</td>\n",
       "      <td>0</td>\n",
       "      <td>0</td>\n",
       "      <td>0</td>\n",
       "      <td>0</td>\n",
       "      <td>0</td>\n",
       "      <td>0</td>\n",
       "      <td>0</td>\n",
       "      <td>0</td>\n",
       "      <td>0</td>\n",
       "      <td>0</td>\n",
       "      <td>0</td>\n",
       "      <td>0</td>\n",
       "      <td>9</td>\n",
       "      <td>16</td>\n",
       "      <td>1</td>\n",
       "    </tr>\n",
       "    <tr>\n",
       "      <th>6</th>\n",
       "      <td>1314</td>\n",
       "      <td>2</td>\n",
       "      <td>Caucasian</td>\n",
       "      <td>Female</td>\n",
       "      <td>[40-50)</td>\n",
       "      <td>996</td>\n",
       "      <td>411|401</td>\n",
       "      <td>50090-0353</td>\n",
       "      <td>No</td>\n",
       "      <td>&gt;30</td>\n",
       "      <td>2</td>\n",
       "      <td>1</td>\n",
       "      <td>1</td>\n",
       "      <td>0</td>\n",
       "      <td>0</td>\n",
       "      <td>0</td>\n",
       "      <td>0</td>\n",
       "      <td>0</td>\n",
       "      <td>0</td>\n",
       "      <td>0</td>\n",
       "      <td>0</td>\n",
       "      <td>0</td>\n",
       "      <td>0</td>\n",
       "      <td>0</td>\n",
       "      <td>0</td>\n",
       "      <td>0</td>\n",
       "      <td>0</td>\n",
       "      <td>0</td>\n",
       "      <td>0</td>\n",
       "      <td>0</td>\n",
       "      <td>1</td>\n",
       "      <td>0</td>\n",
       "      <td>0</td>\n",
       "      <td>0</td>\n",
       "      <td>0</td>\n",
       "      <td>0</td>\n",
       "      <td>0</td>\n",
       "      <td>0</td>\n",
       "      <td>0</td>\n",
       "      <td>0</td>\n",
       "      <td>0</td>\n",
       "      <td>0</td>\n",
       "      <td>0</td>\n",
       "      <td>0</td>\n",
       "      <td>0</td>\n",
       "      <td>0</td>\n",
       "      <td>9</td>\n",
       "      <td>13</td>\n",
       "      <td>5</td>\n",
       "    </tr>\n",
       "    <tr>\n",
       "      <th>7</th>\n",
       "      <td>1629</td>\n",
       "      <td>14</td>\n",
       "      <td>Caucasian</td>\n",
       "      <td>Male</td>\n",
       "      <td>[70-80)</td>\n",
       "      <td>V57</td>\n",
       "      <td>719|438</td>\n",
       "      <td>50090-0353</td>\n",
       "      <td>No</td>\n",
       "      <td>&gt;30</td>\n",
       "      <td>3</td>\n",
       "      <td>6</td>\n",
       "      <td>4</td>\n",
       "      <td>0</td>\n",
       "      <td>0</td>\n",
       "      <td>0</td>\n",
       "      <td>0</td>\n",
       "      <td>0</td>\n",
       "      <td>0</td>\n",
       "      <td>0</td>\n",
       "      <td>0</td>\n",
       "      <td>0</td>\n",
       "      <td>0</td>\n",
       "      <td>0</td>\n",
       "      <td>0</td>\n",
       "      <td>0</td>\n",
       "      <td>0</td>\n",
       "      <td>0</td>\n",
       "      <td>0</td>\n",
       "      <td>0</td>\n",
       "      <td>1</td>\n",
       "      <td>0</td>\n",
       "      <td>0</td>\n",
       "      <td>0</td>\n",
       "      <td>0</td>\n",
       "      <td>0</td>\n",
       "      <td>0</td>\n",
       "      <td>0</td>\n",
       "      <td>0</td>\n",
       "      <td>0</td>\n",
       "      <td>0</td>\n",
       "      <td>0</td>\n",
       "      <td>0</td>\n",
       "      <td>0</td>\n",
       "      <td>0</td>\n",
       "      <td>0</td>\n",
       "      <td>7</td>\n",
       "      <td>15</td>\n",
       "      <td>0</td>\n",
       "    </tr>\n",
       "    <tr>\n",
       "      <th>8</th>\n",
       "      <td>2025</td>\n",
       "      <td>12</td>\n",
       "      <td>Caucasian</td>\n",
       "      <td>Female</td>\n",
       "      <td>[70-80)</td>\n",
       "      <td>682</td>\n",
       "      <td>707|560</td>\n",
       "      <td>47918-891</td>\n",
       "      <td>Ch</td>\n",
       "      <td>NO</td>\n",
       "      <td>2</td>\n",
       "      <td>3</td>\n",
       "      <td>1</td>\n",
       "      <td>0</td>\n",
       "      <td>1</td>\n",
       "      <td>0</td>\n",
       "      <td>0</td>\n",
       "      <td>0</td>\n",
       "      <td>0</td>\n",
       "      <td>0</td>\n",
       "      <td>0</td>\n",
       "      <td>0</td>\n",
       "      <td>0</td>\n",
       "      <td>0</td>\n",
       "      <td>0</td>\n",
       "      <td>0</td>\n",
       "      <td>0</td>\n",
       "      <td>0</td>\n",
       "      <td>0</td>\n",
       "      <td>0</td>\n",
       "      <td>0</td>\n",
       "      <td>0</td>\n",
       "      <td>0</td>\n",
       "      <td>0</td>\n",
       "      <td>0</td>\n",
       "      <td>0</td>\n",
       "      <td>0</td>\n",
       "      <td>0</td>\n",
       "      <td>0</td>\n",
       "      <td>0</td>\n",
       "      <td>0</td>\n",
       "      <td>0</td>\n",
       "      <td>0</td>\n",
       "      <td>0</td>\n",
       "      <td>0</td>\n",
       "      <td>0</td>\n",
       "      <td>9</td>\n",
       "      <td>18</td>\n",
       "      <td>2</td>\n",
       "    </tr>\n",
       "    <tr>\n",
       "      <th>9</th>\n",
       "      <td>3069</td>\n",
       "      <td>8</td>\n",
       "      <td>Caucasian</td>\n",
       "      <td>Male</td>\n",
       "      <td>[60-70)</td>\n",
       "      <td>414</td>\n",
       "      <td>584|285</td>\n",
       "      <td>68071-1701</td>\n",
       "      <td>No</td>\n",
       "      <td>NO</td>\n",
       "      <td>2</td>\n",
       "      <td>1</td>\n",
       "      <td>1</td>\n",
       "      <td>0</td>\n",
       "      <td>0</td>\n",
       "      <td>0</td>\n",
       "      <td>0</td>\n",
       "      <td>0</td>\n",
       "      <td>0</td>\n",
       "      <td>0</td>\n",
       "      <td>0</td>\n",
       "      <td>0</td>\n",
       "      <td>0</td>\n",
       "      <td>0</td>\n",
       "      <td>0</td>\n",
       "      <td>0</td>\n",
       "      <td>0</td>\n",
       "      <td>0</td>\n",
       "      <td>0</td>\n",
       "      <td>0</td>\n",
       "      <td>0</td>\n",
       "      <td>0</td>\n",
       "      <td>0</td>\n",
       "      <td>0</td>\n",
       "      <td>0</td>\n",
       "      <td>0</td>\n",
       "      <td>1</td>\n",
       "      <td>0</td>\n",
       "      <td>0</td>\n",
       "      <td>0</td>\n",
       "      <td>0</td>\n",
       "      <td>0</td>\n",
       "      <td>0</td>\n",
       "      <td>0</td>\n",
       "      <td>0</td>\n",
       "      <td>0</td>\n",
       "      <td>9</td>\n",
       "      <td>31</td>\n",
       "      <td>6</td>\n",
       "    </tr>\n",
       "  </tbody>\n",
       "</table>\n",
       "</div>"
      ],
      "text/plain": [
       "   patient_nbr  time_in_hospital             race  gender      age  \\\n",
       "0          135                 8        Caucasian  Female  [50-60)   \n",
       "1          729                 4        Caucasian  Female  [80-90)   \n",
       "2          774                 3        Caucasian  Female  [80-90)   \n",
       "3          927                 5  AfricanAmerican  Female  [30-40)   \n",
       "4         1152                 6  AfricanAmerican  Female  [50-60)   \n",
       "5         1305                 9        Caucasian  Female  [60-70)   \n",
       "6         1314                 2        Caucasian  Female  [40-50)   \n",
       "7         1629                14        Caucasian    Male  [70-80)   \n",
       "8         2025                12        Caucasian  Female  [70-80)   \n",
       "9         3069                 8        Caucasian    Male  [60-70)   \n",
       "\n",
       "  primary_diagnosis_code other_diagnosis_codes    ndc_code change readmitted  \\\n",
       "0                    401               997|560  68071-1701     Ch        <30   \n",
       "1                    820              493|E880   0615-7982     No         NO   \n",
       "2                    274               427|416   0115-1743     Ch         NO   \n",
       "3                    590               220|250   42571-104     No         NO   \n",
       "4                    282              250.01|?   47918-902     No        >30   \n",
       "5                    491            428|250.01   47918-902     No         NO   \n",
       "6                    996               411|401  50090-0353     No        >30   \n",
       "7                    V57               719|438  50090-0353     No        >30   \n",
       "8                    682               707|560   47918-891     Ch         NO   \n",
       "9                    414               584|285  68071-1701     No         NO   \n",
       "\n",
       "  admission_type_id discharge_disposition_id admission_source_id  Acarbose  \\\n",
       "0                 2                        1                   1         0   \n",
       "1                 1                        3                   7         0   \n",
       "2                 1                        1                   7         0   \n",
       "3                 1                        1                   7         0   \n",
       "4                 1                        1                   7         0   \n",
       "5                 3                        1                   1         0   \n",
       "6                 2                        1                   1         0   \n",
       "7                 3                        6                   4         0   \n",
       "8                 2                        3                   1         0   \n",
       "9                 2                        1                   1         0   \n",
       "\n",
       "   Afrezza  Amaryl  Avandia_2MG  Avandia_4MG  Glimepiride  Glipizide  \\\n",
       "0        0       0            0            0            0          0   \n",
       "1        0       0            0            0            0          0   \n",
       "2        0       0            0            0            0          0   \n",
       "3        0       0            0            0            1          0   \n",
       "4        1       0            0            0            0          0   \n",
       "5        1       0            0            0            0          0   \n",
       "6        0       0            0            0            0          0   \n",
       "7        0       0            0            0            0          0   \n",
       "8        1       0            0            0            0          0   \n",
       "9        0       0            0            0            0          0   \n",
       "\n",
       "   Glipizide_And_Metformin_Hydrochloride  Glucophage  Glucophage_XR  \\\n",
       "0                                      0           0              0   \n",
       "1                                      0           0              0   \n",
       "2                                      0           0              0   \n",
       "3                                      0           0              0   \n",
       "4                                      0           0              0   \n",
       "5                                      0           0              0   \n",
       "6                                      0           0              0   \n",
       "7                                      0           0              0   \n",
       "8                                      0           0              0   \n",
       "9                                      0           0              0   \n",
       "\n",
       "   Glucotrol  Glucotrol_XL  Glyburide  Glyburide_And_Metformin_Hydrochloride  \\\n",
       "0          0             0          0                                      0   \n",
       "1          0             0          0                                      0   \n",
       "2          0             0          1                                      0   \n",
       "3          0             0          0                                      0   \n",
       "4          0             0          0                                      0   \n",
       "5          0             0          0                                      0   \n",
       "6          0             0          0                                      0   \n",
       "7          0             0          0                                      0   \n",
       "8          0             0          0                                      0   \n",
       "9          0             0          0                                      0   \n",
       "\n",
       "   Glyburide-metformin_Hydrochloride  Glynase  Glyset  Humulin_R  \\\n",
       "0                                  0        0       0          0   \n",
       "1                                  0        0       0          0   \n",
       "2                                  0        0       0          0   \n",
       "3                                  0        0       0          0   \n",
       "4                                  0        0       0          0   \n",
       "5                                  0        0       0          0   \n",
       "6                                  0        0       0          1   \n",
       "7                                  0        0       0          1   \n",
       "8                                  0        0       0          0   \n",
       "9                                  0        0       0          0   \n",
       "\n",
       "   Metformin_Hcl  Metformin_Hydrochloride  \\\n",
       "0              0                        0   \n",
       "1              0                        1   \n",
       "2              0                        0   \n",
       "3              0                        0   \n",
       "4              0                        0   \n",
       "5              0                        0   \n",
       "6              0                        0   \n",
       "7              0                        0   \n",
       "8              0                        0   \n",
       "9              0                        0   \n",
       "\n",
       "   Metformin_Hydrochloride_Extended_Release  Miglitol  Nateglinide  Novolin_R  \\\n",
       "0                                         0         0            0          1   \n",
       "1                                         0         0            0          0   \n",
       "2                                         0         0            0          0   \n",
       "3                                         0         0            0          0   \n",
       "4                                         0         0            0          0   \n",
       "5                                         0         0            0          0   \n",
       "6                                         0         0            0          0   \n",
       "7                                         0         0            0          0   \n",
       "8                                         0         0            0          0   \n",
       "9                                         0         0            0          1   \n",
       "\n",
       "   Pioglitazone  Pioglitazone_Hydrochloride_And_Glimepiride  Prandin  \\\n",
       "0             0                                           0        0   \n",
       "1             0                                           0        0   \n",
       "2             0                                           0        0   \n",
       "3             0                                           0        0   \n",
       "4             0                                           0        0   \n",
       "5             0                                           0        0   \n",
       "6             0                                           0        0   \n",
       "7             0                                           0        0   \n",
       "8             0                                           0        0   \n",
       "9             0                                           0        0   \n",
       "\n",
       "   Repaglinide  Riomet  Riomet_Er  Starlix  Tolazamide  Tolbutamide  \\\n",
       "0            0       0          0        0           0            0   \n",
       "1            0       0          0        0           0            0   \n",
       "2            0       0          0        0           0            0   \n",
       "3            0       0          0        0           0            0   \n",
       "4            0       0          0        0           0            0   \n",
       "5            0       0          0        0           0            0   \n",
       "6            0       0          0        0           0            0   \n",
       "7            0       0          0        0           0            0   \n",
       "8            0       0          0        0           0            0   \n",
       "9            0       0          0        0           0            0   \n",
       "\n",
       "   number_diagnoses  num_medications  num_procedures  \n",
       "0                 8               33               6  \n",
       "1                 9               23               2  \n",
       "2                 9               20               0  \n",
       "3                 3                5               0  \n",
       "4                 2               13               2  \n",
       "5                 9               16               1  \n",
       "6                 9               13               5  \n",
       "7                 7               15               0  \n",
       "8                 9               18               2  \n",
       "9                 9               31               6  "
      ]
     },
     "execution_count": 29,
     "metadata": {},
     "output_type": "execute_result"
    }
   ],
   "source": [
    "selected_features_df = select_model_features(agg_drug_df, cat_col_list, num_col_list, PREDICTOR_FIELD)\n",
    "selected_features_df.head(10)"
   ]
  },
  {
   "cell_type": "markdown",
   "metadata": {},
   "source": [
    "### Preprocess Dataset - Casting and Imputing  "
   ]
  },
  {
   "cell_type": "markdown",
   "metadata": {},
   "source": [
    "We will cast and impute the dataset before splitting so that we do not have to repeat these steps across the splits in the next step. For imputing, there can be deeper analysis into which features to impute and how to impute but for the sake of time, we are taking a general strategy of imputing zero for only numerical features. \n",
    "\n",
    "OPTIONAL: What are some potential issues with this approach? Can you recommend a better way and also implement it?"
   ]
  },
  {
   "cell_type": "code",
   "execution_count": 30,
   "metadata": {},
   "outputs": [
    {
     "name": "stderr",
     "output_type": "stream",
     "text": [
      "/home/workspace/starter_code/utils.py:29: SettingWithCopyWarning: \n",
      "A value is trying to be set on a copy of a slice from a DataFrame.\n",
      "Try using .loc[row_indexer,col_indexer] = value instead\n",
      "\n",
      "See the caveats in the documentation: https://pandas.pydata.org/pandas-docs/stable/user_guide/indexing.html#returning-a-view-versus-a-copy\n",
      "  df[predictor] = df[predictor].astype(float)\n",
      "/home/workspace/starter_code/utils.py:31: SettingWithCopyWarning: \n",
      "A value is trying to be set on a copy of a slice from a DataFrame.\n",
      "Try using .loc[row_indexer,col_indexer] = value instead\n",
      "\n",
      "See the caveats in the documentation: https://pandas.pydata.org/pandas-docs/stable/user_guide/indexing.html#returning-a-view-versus-a-copy\n",
      "  df[c] = cast_df(df, c, d_type=str)\n",
      "/home/workspace/starter_code/utils.py:33: SettingWithCopyWarning: \n",
      "A value is trying to be set on a copy of a slice from a DataFrame.\n",
      "Try using .loc[row_indexer,col_indexer] = value instead\n",
      "\n",
      "See the caveats in the documentation: https://pandas.pydata.org/pandas-docs/stable/user_guide/indexing.html#returning-a-view-versus-a-copy\n",
      "  df[numerical_column] = impute_df(df, numerical_column, numerical_impute_value)\n"
     ]
    }
   ],
   "source": [
    "processed_df = preprocess_df(selected_features_df, cat_col_list, num_col_list, PREDICTOR_FIELD, categorical_impute_value='nan', numerical_impute_value=0)"
   ]
  },
  {
   "cell_type": "markdown",
   "metadata": {},
   "source": [
    "## Split Dataset into Train, Validation, and Test Partitions"
   ]
  },
  {
   "cell_type": "markdown",
   "metadata": {},
   "source": [
    "**Question 6**: In order to prepare the data for being trained and evaluated by a deep learning model, we will split the dataset into three partitions, with the validation partition used for optimizing the model hyperparameters during training. One of the key parts is that we need to be sure that the data does not accidently leak across partitions.\n",
    "\n",
    "Please complete the function below to split the input dataset into three partitions(train, validation, test) with the following requirements.\n",
    "- Approximately 60%/20%/20%  train/validation/test split\n",
    "- Randomly sample different patients into each data partition\n",
    "- **IMPORTANT** Make sure that a patient's data is not in more than one partition, so that we can avoid possible data leakage.\n",
    "- Make sure that the total number of unique patients across the splits is equal to the total number of unique patients in the original dataset\n",
    "- Total number of rows in original dataset = sum of rows across all three dataset partitions"
   ]
  },
  {
   "cell_type": "code",
   "execution_count": 31,
   "metadata": {},
   "outputs": [
    {
     "data": {
      "text/html": [
       "<div>\n",
       "<style scoped>\n",
       "    .dataframe tbody tr th:only-of-type {\n",
       "        vertical-align: middle;\n",
       "    }\n",
       "\n",
       "    .dataframe tbody tr th {\n",
       "        vertical-align: top;\n",
       "    }\n",
       "\n",
       "    .dataframe thead th {\n",
       "        text-align: right;\n",
       "    }\n",
       "</style>\n",
       "<table border=\"1\" class=\"dataframe\">\n",
       "  <thead>\n",
       "    <tr style=\"text-align: right;\">\n",
       "      <th></th>\n",
       "      <th>patient_nbr</th>\n",
       "      <th>time_in_hospital</th>\n",
       "      <th>race</th>\n",
       "      <th>gender</th>\n",
       "      <th>age</th>\n",
       "      <th>primary_diagnosis_code</th>\n",
       "      <th>other_diagnosis_codes</th>\n",
       "      <th>ndc_code</th>\n",
       "      <th>change</th>\n",
       "      <th>readmitted</th>\n",
       "      <th>admission_type_id</th>\n",
       "      <th>discharge_disposition_id</th>\n",
       "      <th>admission_source_id</th>\n",
       "      <th>Acarbose</th>\n",
       "      <th>Afrezza</th>\n",
       "      <th>Amaryl</th>\n",
       "      <th>Avandia_2MG</th>\n",
       "      <th>Avandia_4MG</th>\n",
       "      <th>Glimepiride</th>\n",
       "      <th>Glipizide</th>\n",
       "      <th>Glipizide_And_Metformin_Hydrochloride</th>\n",
       "      <th>Glucophage</th>\n",
       "      <th>Glucophage_XR</th>\n",
       "      <th>Glucotrol</th>\n",
       "      <th>Glucotrol_XL</th>\n",
       "      <th>Glyburide</th>\n",
       "      <th>Glyburide_And_Metformin_Hydrochloride</th>\n",
       "      <th>Glyburide-metformin_Hydrochloride</th>\n",
       "      <th>Glynase</th>\n",
       "      <th>Glyset</th>\n",
       "      <th>Humulin_R</th>\n",
       "      <th>Metformin_Hcl</th>\n",
       "      <th>Metformin_Hydrochloride</th>\n",
       "      <th>Metformin_Hydrochloride_Extended_Release</th>\n",
       "      <th>Miglitol</th>\n",
       "      <th>Nateglinide</th>\n",
       "      <th>Novolin_R</th>\n",
       "      <th>Pioglitazone</th>\n",
       "      <th>Pioglitazone_Hydrochloride_And_Glimepiride</th>\n",
       "      <th>Prandin</th>\n",
       "      <th>Repaglinide</th>\n",
       "      <th>Riomet</th>\n",
       "      <th>Riomet_Er</th>\n",
       "      <th>Starlix</th>\n",
       "      <th>Tolazamide</th>\n",
       "      <th>Tolbutamide</th>\n",
       "      <th>number_diagnoses</th>\n",
       "      <th>num_medications</th>\n",
       "      <th>num_procedures</th>\n",
       "    </tr>\n",
       "  </thead>\n",
       "  <tbody>\n",
       "    <tr>\n",
       "      <th>0</th>\n",
       "      <td>135</td>\n",
       "      <td>8.0</td>\n",
       "      <td>Caucasian</td>\n",
       "      <td>Female</td>\n",
       "      <td>[50-60)</td>\n",
       "      <td>401</td>\n",
       "      <td>997|560</td>\n",
       "      <td>68071-1701</td>\n",
       "      <td>Ch</td>\n",
       "      <td>&lt;30</td>\n",
       "      <td>2</td>\n",
       "      <td>1</td>\n",
       "      <td>1</td>\n",
       "      <td>0</td>\n",
       "      <td>0</td>\n",
       "      <td>0</td>\n",
       "      <td>0</td>\n",
       "      <td>0</td>\n",
       "      <td>0</td>\n",
       "      <td>0</td>\n",
       "      <td>0</td>\n",
       "      <td>0</td>\n",
       "      <td>0</td>\n",
       "      <td>0</td>\n",
       "      <td>0</td>\n",
       "      <td>0</td>\n",
       "      <td>0</td>\n",
       "      <td>0</td>\n",
       "      <td>0</td>\n",
       "      <td>0</td>\n",
       "      <td>0</td>\n",
       "      <td>0</td>\n",
       "      <td>0</td>\n",
       "      <td>0</td>\n",
       "      <td>0</td>\n",
       "      <td>0</td>\n",
       "      <td>1</td>\n",
       "      <td>0</td>\n",
       "      <td>0</td>\n",
       "      <td>0</td>\n",
       "      <td>0</td>\n",
       "      <td>0</td>\n",
       "      <td>0</td>\n",
       "      <td>0</td>\n",
       "      <td>0</td>\n",
       "      <td>0</td>\n",
       "      <td>8</td>\n",
       "      <td>33</td>\n",
       "      <td>6</td>\n",
       "    </tr>\n",
       "    <tr>\n",
       "      <th>1</th>\n",
       "      <td>729</td>\n",
       "      <td>4.0</td>\n",
       "      <td>Caucasian</td>\n",
       "      <td>Female</td>\n",
       "      <td>[80-90)</td>\n",
       "      <td>820</td>\n",
       "      <td>493|E880</td>\n",
       "      <td>0615-7982</td>\n",
       "      <td>No</td>\n",
       "      <td>NO</td>\n",
       "      <td>1</td>\n",
       "      <td>3</td>\n",
       "      <td>7</td>\n",
       "      <td>0</td>\n",
       "      <td>0</td>\n",
       "      <td>0</td>\n",
       "      <td>0</td>\n",
       "      <td>0</td>\n",
       "      <td>0</td>\n",
       "      <td>0</td>\n",
       "      <td>0</td>\n",
       "      <td>0</td>\n",
       "      <td>0</td>\n",
       "      <td>0</td>\n",
       "      <td>0</td>\n",
       "      <td>0</td>\n",
       "      <td>0</td>\n",
       "      <td>0</td>\n",
       "      <td>0</td>\n",
       "      <td>0</td>\n",
       "      <td>0</td>\n",
       "      <td>0</td>\n",
       "      <td>1</td>\n",
       "      <td>0</td>\n",
       "      <td>0</td>\n",
       "      <td>0</td>\n",
       "      <td>0</td>\n",
       "      <td>0</td>\n",
       "      <td>0</td>\n",
       "      <td>0</td>\n",
       "      <td>0</td>\n",
       "      <td>0</td>\n",
       "      <td>0</td>\n",
       "      <td>0</td>\n",
       "      <td>0</td>\n",
       "      <td>0</td>\n",
       "      <td>9</td>\n",
       "      <td>23</td>\n",
       "      <td>2</td>\n",
       "    </tr>\n",
       "    <tr>\n",
       "      <th>2</th>\n",
       "      <td>774</td>\n",
       "      <td>3.0</td>\n",
       "      <td>Caucasian</td>\n",
       "      <td>Female</td>\n",
       "      <td>[80-90)</td>\n",
       "      <td>274</td>\n",
       "      <td>427|416</td>\n",
       "      <td>0115-1743</td>\n",
       "      <td>Ch</td>\n",
       "      <td>NO</td>\n",
       "      <td>1</td>\n",
       "      <td>1</td>\n",
       "      <td>7</td>\n",
       "      <td>0</td>\n",
       "      <td>0</td>\n",
       "      <td>0</td>\n",
       "      <td>0</td>\n",
       "      <td>0</td>\n",
       "      <td>0</td>\n",
       "      <td>0</td>\n",
       "      <td>0</td>\n",
       "      <td>0</td>\n",
       "      <td>0</td>\n",
       "      <td>0</td>\n",
       "      <td>0</td>\n",
       "      <td>1</td>\n",
       "      <td>0</td>\n",
       "      <td>0</td>\n",
       "      <td>0</td>\n",
       "      <td>0</td>\n",
       "      <td>0</td>\n",
       "      <td>0</td>\n",
       "      <td>0</td>\n",
       "      <td>0</td>\n",
       "      <td>0</td>\n",
       "      <td>0</td>\n",
       "      <td>0</td>\n",
       "      <td>0</td>\n",
       "      <td>0</td>\n",
       "      <td>0</td>\n",
       "      <td>0</td>\n",
       "      <td>0</td>\n",
       "      <td>0</td>\n",
       "      <td>0</td>\n",
       "      <td>0</td>\n",
       "      <td>0</td>\n",
       "      <td>9</td>\n",
       "      <td>20</td>\n",
       "      <td>0</td>\n",
       "    </tr>\n",
       "    <tr>\n",
       "      <th>3</th>\n",
       "      <td>927</td>\n",
       "      <td>5.0</td>\n",
       "      <td>AfricanAmerican</td>\n",
       "      <td>Female</td>\n",
       "      <td>[30-40)</td>\n",
       "      <td>590</td>\n",
       "      <td>220|250</td>\n",
       "      <td>42571-104</td>\n",
       "      <td>No</td>\n",
       "      <td>NO</td>\n",
       "      <td>1</td>\n",
       "      <td>1</td>\n",
       "      <td>7</td>\n",
       "      <td>0</td>\n",
       "      <td>0</td>\n",
       "      <td>0</td>\n",
       "      <td>0</td>\n",
       "      <td>0</td>\n",
       "      <td>1</td>\n",
       "      <td>0</td>\n",
       "      <td>0</td>\n",
       "      <td>0</td>\n",
       "      <td>0</td>\n",
       "      <td>0</td>\n",
       "      <td>0</td>\n",
       "      <td>0</td>\n",
       "      <td>0</td>\n",
       "      <td>0</td>\n",
       "      <td>0</td>\n",
       "      <td>0</td>\n",
       "      <td>0</td>\n",
       "      <td>0</td>\n",
       "      <td>0</td>\n",
       "      <td>0</td>\n",
       "      <td>0</td>\n",
       "      <td>0</td>\n",
       "      <td>0</td>\n",
       "      <td>0</td>\n",
       "      <td>0</td>\n",
       "      <td>0</td>\n",
       "      <td>0</td>\n",
       "      <td>0</td>\n",
       "      <td>0</td>\n",
       "      <td>0</td>\n",
       "      <td>0</td>\n",
       "      <td>0</td>\n",
       "      <td>3</td>\n",
       "      <td>5</td>\n",
       "      <td>0</td>\n",
       "    </tr>\n",
       "    <tr>\n",
       "      <th>4</th>\n",
       "      <td>1152</td>\n",
       "      <td>6.0</td>\n",
       "      <td>AfricanAmerican</td>\n",
       "      <td>Female</td>\n",
       "      <td>[50-60)</td>\n",
       "      <td>282</td>\n",
       "      <td>250.01|?</td>\n",
       "      <td>47918-902</td>\n",
       "      <td>No</td>\n",
       "      <td>&gt;30</td>\n",
       "      <td>1</td>\n",
       "      <td>1</td>\n",
       "      <td>7</td>\n",
       "      <td>0</td>\n",
       "      <td>1</td>\n",
       "      <td>0</td>\n",
       "      <td>0</td>\n",
       "      <td>0</td>\n",
       "      <td>0</td>\n",
       "      <td>0</td>\n",
       "      <td>0</td>\n",
       "      <td>0</td>\n",
       "      <td>0</td>\n",
       "      <td>0</td>\n",
       "      <td>0</td>\n",
       "      <td>0</td>\n",
       "      <td>0</td>\n",
       "      <td>0</td>\n",
       "      <td>0</td>\n",
       "      <td>0</td>\n",
       "      <td>0</td>\n",
       "      <td>0</td>\n",
       "      <td>0</td>\n",
       "      <td>0</td>\n",
       "      <td>0</td>\n",
       "      <td>0</td>\n",
       "      <td>0</td>\n",
       "      <td>0</td>\n",
       "      <td>0</td>\n",
       "      <td>0</td>\n",
       "      <td>0</td>\n",
       "      <td>0</td>\n",
       "      <td>0</td>\n",
       "      <td>0</td>\n",
       "      <td>0</td>\n",
       "      <td>0</td>\n",
       "      <td>2</td>\n",
       "      <td>13</td>\n",
       "      <td>2</td>\n",
       "    </tr>\n",
       "    <tr>\n",
       "      <th>...</th>\n",
       "      <td>...</td>\n",
       "      <td>...</td>\n",
       "      <td>...</td>\n",
       "      <td>...</td>\n",
       "      <td>...</td>\n",
       "      <td>...</td>\n",
       "      <td>...</td>\n",
       "      <td>...</td>\n",
       "      <td>...</td>\n",
       "      <td>...</td>\n",
       "      <td>...</td>\n",
       "      <td>...</td>\n",
       "      <td>...</td>\n",
       "      <td>...</td>\n",
       "      <td>...</td>\n",
       "      <td>...</td>\n",
       "      <td>...</td>\n",
       "      <td>...</td>\n",
       "      <td>...</td>\n",
       "      <td>...</td>\n",
       "      <td>...</td>\n",
       "      <td>...</td>\n",
       "      <td>...</td>\n",
       "      <td>...</td>\n",
       "      <td>...</td>\n",
       "      <td>...</td>\n",
       "      <td>...</td>\n",
       "      <td>...</td>\n",
       "      <td>...</td>\n",
       "      <td>...</td>\n",
       "      <td>...</td>\n",
       "      <td>...</td>\n",
       "      <td>...</td>\n",
       "      <td>...</td>\n",
       "      <td>...</td>\n",
       "      <td>...</td>\n",
       "      <td>...</td>\n",
       "      <td>...</td>\n",
       "      <td>...</td>\n",
       "      <td>...</td>\n",
       "      <td>...</td>\n",
       "      <td>...</td>\n",
       "      <td>...</td>\n",
       "      <td>...</td>\n",
       "      <td>...</td>\n",
       "      <td>...</td>\n",
       "      <td>...</td>\n",
       "      <td>...</td>\n",
       "      <td>...</td>\n",
       "    </tr>\n",
       "    <tr>\n",
       "      <th>56128</th>\n",
       "      <td>189349430</td>\n",
       "      <td>1.0</td>\n",
       "      <td>Asian</td>\n",
       "      <td>Female</td>\n",
       "      <td>[70-80)</td>\n",
       "      <td>595</td>\n",
       "      <td>348|276</td>\n",
       "      <td>43063-630</td>\n",
       "      <td>No</td>\n",
       "      <td>NO</td>\n",
       "      <td>1</td>\n",
       "      <td>1</td>\n",
       "      <td>7</td>\n",
       "      <td>0</td>\n",
       "      <td>0</td>\n",
       "      <td>0</td>\n",
       "      <td>0</td>\n",
       "      <td>0</td>\n",
       "      <td>1</td>\n",
       "      <td>0</td>\n",
       "      <td>0</td>\n",
       "      <td>0</td>\n",
       "      <td>0</td>\n",
       "      <td>0</td>\n",
       "      <td>0</td>\n",
       "      <td>0</td>\n",
       "      <td>0</td>\n",
       "      <td>0</td>\n",
       "      <td>0</td>\n",
       "      <td>0</td>\n",
       "      <td>0</td>\n",
       "      <td>0</td>\n",
       "      <td>0</td>\n",
       "      <td>0</td>\n",
       "      <td>0</td>\n",
       "      <td>0</td>\n",
       "      <td>0</td>\n",
       "      <td>0</td>\n",
       "      <td>0</td>\n",
       "      <td>0</td>\n",
       "      <td>0</td>\n",
       "      <td>0</td>\n",
       "      <td>0</td>\n",
       "      <td>0</td>\n",
       "      <td>0</td>\n",
       "      <td>0</td>\n",
       "      <td>9</td>\n",
       "      <td>6</td>\n",
       "      <td>0</td>\n",
       "    </tr>\n",
       "    <tr>\n",
       "      <th>56129</th>\n",
       "      <td>189365864</td>\n",
       "      <td>3.0</td>\n",
       "      <td>Other</td>\n",
       "      <td>Male</td>\n",
       "      <td>[60-70)</td>\n",
       "      <td>584</td>\n",
       "      <td>250.02|403</td>\n",
       "      <td>68071-1701</td>\n",
       "      <td>No</td>\n",
       "      <td>NO</td>\n",
       "      <td>1</td>\n",
       "      <td>1</td>\n",
       "      <td>7</td>\n",
       "      <td>0</td>\n",
       "      <td>0</td>\n",
       "      <td>0</td>\n",
       "      <td>0</td>\n",
       "      <td>0</td>\n",
       "      <td>0</td>\n",
       "      <td>0</td>\n",
       "      <td>0</td>\n",
       "      <td>0</td>\n",
       "      <td>0</td>\n",
       "      <td>0</td>\n",
       "      <td>0</td>\n",
       "      <td>0</td>\n",
       "      <td>0</td>\n",
       "      <td>0</td>\n",
       "      <td>0</td>\n",
       "      <td>0</td>\n",
       "      <td>0</td>\n",
       "      <td>0</td>\n",
       "      <td>0</td>\n",
       "      <td>0</td>\n",
       "      <td>0</td>\n",
       "      <td>0</td>\n",
       "      <td>1</td>\n",
       "      <td>0</td>\n",
       "      <td>0</td>\n",
       "      <td>0</td>\n",
       "      <td>0</td>\n",
       "      <td>0</td>\n",
       "      <td>0</td>\n",
       "      <td>0</td>\n",
       "      <td>0</td>\n",
       "      <td>0</td>\n",
       "      <td>7</td>\n",
       "      <td>8</td>\n",
       "      <td>1</td>\n",
       "    </tr>\n",
       "    <tr>\n",
       "      <th>56130</th>\n",
       "      <td>189445127</td>\n",
       "      <td>3.0</td>\n",
       "      <td>Caucasian</td>\n",
       "      <td>Female</td>\n",
       "      <td>[80-90)</td>\n",
       "      <td>486</td>\n",
       "      <td>414|733</td>\n",
       "      <td>0378-1110</td>\n",
       "      <td>Ch</td>\n",
       "      <td>NO</td>\n",
       "      <td>1</td>\n",
       "      <td>1</td>\n",
       "      <td>7</td>\n",
       "      <td>0</td>\n",
       "      <td>0</td>\n",
       "      <td>0</td>\n",
       "      <td>0</td>\n",
       "      <td>0</td>\n",
       "      <td>0</td>\n",
       "      <td>1</td>\n",
       "      <td>0</td>\n",
       "      <td>0</td>\n",
       "      <td>0</td>\n",
       "      <td>0</td>\n",
       "      <td>0</td>\n",
       "      <td>0</td>\n",
       "      <td>0</td>\n",
       "      <td>0</td>\n",
       "      <td>0</td>\n",
       "      <td>0</td>\n",
       "      <td>0</td>\n",
       "      <td>0</td>\n",
       "      <td>0</td>\n",
       "      <td>0</td>\n",
       "      <td>0</td>\n",
       "      <td>0</td>\n",
       "      <td>0</td>\n",
       "      <td>0</td>\n",
       "      <td>0</td>\n",
       "      <td>0</td>\n",
       "      <td>0</td>\n",
       "      <td>0</td>\n",
       "      <td>0</td>\n",
       "      <td>0</td>\n",
       "      <td>0</td>\n",
       "      <td>0</td>\n",
       "      <td>9</td>\n",
       "      <td>18</td>\n",
       "      <td>0</td>\n",
       "    </tr>\n",
       "    <tr>\n",
       "      <th>56131</th>\n",
       "      <td>189481478</td>\n",
       "      <td>14.0</td>\n",
       "      <td>Caucasian</td>\n",
       "      <td>Female</td>\n",
       "      <td>[40-50)</td>\n",
       "      <td>295</td>\n",
       "      <td>305|250</td>\n",
       "      <td>68071-1701</td>\n",
       "      <td>Ch</td>\n",
       "      <td>&gt;30</td>\n",
       "      <td>1</td>\n",
       "      <td>4</td>\n",
       "      <td>7</td>\n",
       "      <td>0</td>\n",
       "      <td>0</td>\n",
       "      <td>0</td>\n",
       "      <td>0</td>\n",
       "      <td>0</td>\n",
       "      <td>0</td>\n",
       "      <td>0</td>\n",
       "      <td>0</td>\n",
       "      <td>0</td>\n",
       "      <td>0</td>\n",
       "      <td>0</td>\n",
       "      <td>0</td>\n",
       "      <td>0</td>\n",
       "      <td>0</td>\n",
       "      <td>0</td>\n",
       "      <td>0</td>\n",
       "      <td>0</td>\n",
       "      <td>0</td>\n",
       "      <td>0</td>\n",
       "      <td>0</td>\n",
       "      <td>0</td>\n",
       "      <td>0</td>\n",
       "      <td>0</td>\n",
       "      <td>1</td>\n",
       "      <td>0</td>\n",
       "      <td>0</td>\n",
       "      <td>0</td>\n",
       "      <td>0</td>\n",
       "      <td>0</td>\n",
       "      <td>0</td>\n",
       "      <td>0</td>\n",
       "      <td>0</td>\n",
       "      <td>0</td>\n",
       "      <td>5</td>\n",
       "      <td>16</td>\n",
       "      <td>0</td>\n",
       "    </tr>\n",
       "    <tr>\n",
       "      <th>56132</th>\n",
       "      <td>189502619</td>\n",
       "      <td>5.0</td>\n",
       "      <td>Caucasian</td>\n",
       "      <td>Male</td>\n",
       "      <td>[40-50)</td>\n",
       "      <td>553</td>\n",
       "      <td>518|V85</td>\n",
       "      <td>68071-1701</td>\n",
       "      <td>Ch</td>\n",
       "      <td>NO</td>\n",
       "      <td>2</td>\n",
       "      <td>1</td>\n",
       "      <td>1</td>\n",
       "      <td>0</td>\n",
       "      <td>0</td>\n",
       "      <td>0</td>\n",
       "      <td>0</td>\n",
       "      <td>0</td>\n",
       "      <td>0</td>\n",
       "      <td>0</td>\n",
       "      <td>0</td>\n",
       "      <td>0</td>\n",
       "      <td>0</td>\n",
       "      <td>0</td>\n",
       "      <td>0</td>\n",
       "      <td>0</td>\n",
       "      <td>0</td>\n",
       "      <td>0</td>\n",
       "      <td>0</td>\n",
       "      <td>0</td>\n",
       "      <td>0</td>\n",
       "      <td>0</td>\n",
       "      <td>0</td>\n",
       "      <td>0</td>\n",
       "      <td>0</td>\n",
       "      <td>0</td>\n",
       "      <td>1</td>\n",
       "      <td>0</td>\n",
       "      <td>0</td>\n",
       "      <td>0</td>\n",
       "      <td>0</td>\n",
       "      <td>0</td>\n",
       "      <td>0</td>\n",
       "      <td>0</td>\n",
       "      <td>0</td>\n",
       "      <td>0</td>\n",
       "      <td>8</td>\n",
       "      <td>23</td>\n",
       "      <td>4</td>\n",
       "    </tr>\n",
       "  </tbody>\n",
       "</table>\n",
       "<p>56133 rows × 49 columns</p>\n",
       "</div>"
      ],
      "text/plain": [
       "       patient_nbr  time_in_hospital             race  gender      age  \\\n",
       "0              135               8.0        Caucasian  Female  [50-60)   \n",
       "1              729               4.0        Caucasian  Female  [80-90)   \n",
       "2              774               3.0        Caucasian  Female  [80-90)   \n",
       "3              927               5.0  AfricanAmerican  Female  [30-40)   \n",
       "4             1152               6.0  AfricanAmerican  Female  [50-60)   \n",
       "...            ...               ...              ...     ...      ...   \n",
       "56128    189349430               1.0            Asian  Female  [70-80)   \n",
       "56129    189365864               3.0            Other    Male  [60-70)   \n",
       "56130    189445127               3.0        Caucasian  Female  [80-90)   \n",
       "56131    189481478              14.0        Caucasian  Female  [40-50)   \n",
       "56132    189502619               5.0        Caucasian    Male  [40-50)   \n",
       "\n",
       "      primary_diagnosis_code other_diagnosis_codes    ndc_code change  \\\n",
       "0                        401               997|560  68071-1701     Ch   \n",
       "1                        820              493|E880   0615-7982     No   \n",
       "2                        274               427|416   0115-1743     Ch   \n",
       "3                        590               220|250   42571-104     No   \n",
       "4                        282              250.01|?   47918-902     No   \n",
       "...                      ...                   ...         ...    ...   \n",
       "56128                    595               348|276   43063-630     No   \n",
       "56129                    584            250.02|403  68071-1701     No   \n",
       "56130                    486               414|733   0378-1110     Ch   \n",
       "56131                    295               305|250  68071-1701     Ch   \n",
       "56132                    553               518|V85  68071-1701     Ch   \n",
       "\n",
       "      readmitted admission_type_id discharge_disposition_id  \\\n",
       "0            <30                 2                        1   \n",
       "1             NO                 1                        3   \n",
       "2             NO                 1                        1   \n",
       "3             NO                 1                        1   \n",
       "4            >30                 1                        1   \n",
       "...          ...               ...                      ...   \n",
       "56128         NO                 1                        1   \n",
       "56129         NO                 1                        1   \n",
       "56130         NO                 1                        1   \n",
       "56131        >30                 1                        4   \n",
       "56132         NO                 2                        1   \n",
       "\n",
       "      admission_source_id Acarbose Afrezza Amaryl Avandia_2MG Avandia_4MG  \\\n",
       "0                       1        0       0      0           0           0   \n",
       "1                       7        0       0      0           0           0   \n",
       "2                       7        0       0      0           0           0   \n",
       "3                       7        0       0      0           0           0   \n",
       "4                       7        0       1      0           0           0   \n",
       "...                   ...      ...     ...    ...         ...         ...   \n",
       "56128                   7        0       0      0           0           0   \n",
       "56129                   7        0       0      0           0           0   \n",
       "56130                   7        0       0      0           0           0   \n",
       "56131                   7        0       0      0           0           0   \n",
       "56132                   1        0       0      0           0           0   \n",
       "\n",
       "      Glimepiride Glipizide Glipizide_And_Metformin_Hydrochloride Glucophage  \\\n",
       "0               0         0                                     0          0   \n",
       "1               0         0                                     0          0   \n",
       "2               0         0                                     0          0   \n",
       "3               1         0                                     0          0   \n",
       "4               0         0                                     0          0   \n",
       "...           ...       ...                                   ...        ...   \n",
       "56128           1         0                                     0          0   \n",
       "56129           0         0                                     0          0   \n",
       "56130           0         1                                     0          0   \n",
       "56131           0         0                                     0          0   \n",
       "56132           0         0                                     0          0   \n",
       "\n",
       "      Glucophage_XR Glucotrol Glucotrol_XL Glyburide  \\\n",
       "0                 0         0            0         0   \n",
       "1                 0         0            0         0   \n",
       "2                 0         0            0         1   \n",
       "3                 0         0            0         0   \n",
       "4                 0         0            0         0   \n",
       "...             ...       ...          ...       ...   \n",
       "56128             0         0            0         0   \n",
       "56129             0         0            0         0   \n",
       "56130             0         0            0         0   \n",
       "56131             0         0            0         0   \n",
       "56132             0         0            0         0   \n",
       "\n",
       "      Glyburide_And_Metformin_Hydrochloride Glyburide-metformin_Hydrochloride  \\\n",
       "0                                         0                                 0   \n",
       "1                                         0                                 0   \n",
       "2                                         0                                 0   \n",
       "3                                         0                                 0   \n",
       "4                                         0                                 0   \n",
       "...                                     ...                               ...   \n",
       "56128                                     0                                 0   \n",
       "56129                                     0                                 0   \n",
       "56130                                     0                                 0   \n",
       "56131                                     0                                 0   \n",
       "56132                                     0                                 0   \n",
       "\n",
       "      Glynase Glyset Humulin_R Metformin_Hcl Metformin_Hydrochloride  \\\n",
       "0           0      0         0             0                       0   \n",
       "1           0      0         0             0                       1   \n",
       "2           0      0         0             0                       0   \n",
       "3           0      0         0             0                       0   \n",
       "4           0      0         0             0                       0   \n",
       "...       ...    ...       ...           ...                     ...   \n",
       "56128       0      0         0             0                       0   \n",
       "56129       0      0         0             0                       0   \n",
       "56130       0      0         0             0                       0   \n",
       "56131       0      0         0             0                       0   \n",
       "56132       0      0         0             0                       0   \n",
       "\n",
       "      Metformin_Hydrochloride_Extended_Release Miglitol Nateglinide Novolin_R  \\\n",
       "0                                            0        0           0         1   \n",
       "1                                            0        0           0         0   \n",
       "2                                            0        0           0         0   \n",
       "3                                            0        0           0         0   \n",
       "4                                            0        0           0         0   \n",
       "...                                        ...      ...         ...       ...   \n",
       "56128                                        0        0           0         0   \n",
       "56129                                        0        0           0         1   \n",
       "56130                                        0        0           0         0   \n",
       "56131                                        0        0           0         1   \n",
       "56132                                        0        0           0         1   \n",
       "\n",
       "      Pioglitazone Pioglitazone_Hydrochloride_And_Glimepiride Prandin  \\\n",
       "0                0                                          0       0   \n",
       "1                0                                          0       0   \n",
       "2                0                                          0       0   \n",
       "3                0                                          0       0   \n",
       "4                0                                          0       0   \n",
       "...            ...                                        ...     ...   \n",
       "56128            0                                          0       0   \n",
       "56129            0                                          0       0   \n",
       "56130            0                                          0       0   \n",
       "56131            0                                          0       0   \n",
       "56132            0                                          0       0   \n",
       "\n",
       "      Repaglinide Riomet Riomet_Er Starlix Tolazamide Tolbutamide  \\\n",
       "0               0      0         0       0          0           0   \n",
       "1               0      0         0       0          0           0   \n",
       "2               0      0         0       0          0           0   \n",
       "3               0      0         0       0          0           0   \n",
       "4               0      0         0       0          0           0   \n",
       "...           ...    ...       ...     ...        ...         ...   \n",
       "56128           0      0         0       0          0           0   \n",
       "56129           0      0         0       0          0           0   \n",
       "56130           0      0         0       0          0           0   \n",
       "56131           0      0         0       0          0           0   \n",
       "56132           0      0         0       0          0           0   \n",
       "\n",
       "       number_diagnoses  num_medications  num_procedures  \n",
       "0                     8               33               6  \n",
       "1                     9               23               2  \n",
       "2                     9               20               0  \n",
       "3                     3                5               0  \n",
       "4                     2               13               2  \n",
       "...                 ...              ...             ...  \n",
       "56128                 9                6               0  \n",
       "56129                 7                8               1  \n",
       "56130                 9               18               0  \n",
       "56131                 5               16               0  \n",
       "56132                 8               23               4  \n",
       "\n",
       "[56133 rows x 49 columns]"
      ]
     },
     "execution_count": 31,
     "metadata": {},
     "output_type": "execute_result"
    }
   ],
   "source": [
    "processed_df = pd.DataFrame(processed_df)\n",
    "processed_df"
   ]
  },
  {
   "cell_type": "code",
   "execution_count": 32,
   "metadata": {},
   "outputs": [],
   "source": [
    "from student_utils import patient_dataset_splitter\n",
    "d_train, d_val, d_test = patient_dataset_splitter(processed_df, 'patient_nbr')"
   ]
  },
  {
   "cell_type": "code",
   "execution_count": 33,
   "metadata": {},
   "outputs": [
    {
     "name": "stdout",
     "output_type": "stream",
     "text": [
      "Test passed for number of total rows equal!\n"
     ]
    }
   ],
   "source": [
    "assert len(d_train) + len(d_val) + len(d_test) == len(processed_df)\n",
    "print(\"Test passed for number of total rows equal!\")"
   ]
  },
  {
   "cell_type": "code",
   "execution_count": 34,
   "metadata": {},
   "outputs": [
    {
     "name": "stdout",
     "output_type": "stream",
     "text": [
      "Test passed for number of unique patients being equal!\n"
     ]
    }
   ],
   "source": [
    "assert (d_train['patient_nbr'].nunique() + d_val['patient_nbr'].nunique() + d_test['patient_nbr'].nunique()) == agg_drug_df['patient_nbr'].nunique()\n",
    "print(\"Test passed for number of unique patients being equal!\")"
   ]
  },
  {
   "cell_type": "markdown",
   "metadata": {},
   "source": [
    "## Demographic Representation Analysis of Split"
   ]
  },
  {
   "cell_type": "markdown",
   "metadata": {},
   "source": [
    "After the split, we should check to see the distribution of key features/groups and make sure that there is representative samples across the partitions. The show_group_stats_viz function in the utils.py file can be used to group and visualize different groups and dataframe partitions."
   ]
  },
  {
   "cell_type": "markdown",
   "metadata": {},
   "source": [
    "### Label Distribution Across Partitions"
   ]
  },
  {
   "cell_type": "markdown",
   "metadata": {},
   "source": [
    "Below you can see the distributution of the label across your splits. Are the histogram distribution shapes similar across partitions?"
   ]
  },
  {
   "cell_type": "code",
   "execution_count": 35,
   "metadata": {},
   "outputs": [
    {
     "name": "stdout",
     "output_type": "stream",
     "text": [
      "time_in_hospital\n",
      "1.0      7532\n",
      "2.0      9473\n",
      "3.0     10028\n",
      "4.0      7681\n",
      "5.0      5566\n",
      "6.0      4122\n",
      "7.0      3231\n",
      "8.0      2419\n",
      "9.0      1655\n",
      "10.0     1292\n",
      "11.0     1054\n",
      "12.0      807\n",
      "13.0      702\n",
      "14.0      571\n",
      "dtype: int64\n",
      "AxesSubplot(0.125,0.125;0.775x0.755)\n"
     ]
    },
    {
     "data": {
      "image/png": "[encoded data removed]",
      "text/plain": [
       "<Figure size 432x288 with 1 Axes>"
      ]
     },
     "metadata": {
      "needs_background": "light"
     },
     "output_type": "display_data"
    }
   ],
   "source": [
    "show_group_stats_viz(processed_df, PREDICTOR_FIELD)"
   ]
  },
  {
   "cell_type": "code",
   "execution_count": 36,
   "metadata": {},
   "outputs": [
    {
     "name": "stdout",
     "output_type": "stream",
     "text": [
      "time_in_hospital\n",
      "1.0     4474\n",
      "2.0     5645\n",
      "3.0     6029\n",
      "4.0     4654\n",
      "5.0     3337\n",
      "6.0     2503\n",
      "7.0     1952\n",
      "8.0     1434\n",
      "9.0      990\n",
      "10.0     772\n",
      "11.0     625\n",
      "12.0     478\n",
      "13.0     415\n",
      "14.0     372\n",
      "dtype: int64\n",
      "AxesSubplot(0.125,0.125;0.775x0.755)\n"
     ]
    },
    {
     "data": {
      "image/png": "[encoded data removed]",
      "text/plain": [
       "<Figure size 432x288 with 1 Axes>"
      ]
     },
     "metadata": {
      "needs_background": "light"
     },
     "output_type": "display_data"
    }
   ],
   "source": [
    "show_group_stats_viz(d_train, PREDICTOR_FIELD)"
   ]
  },
  {
   "cell_type": "code",
   "execution_count": 37,
   "metadata": {},
   "outputs": [
    {
     "name": "stdout",
     "output_type": "stream",
     "text": [
      "time_in_hospital\n",
      "1.0     1509\n",
      "2.0     1927\n",
      "3.0     2036\n",
      "4.0     1488\n",
      "5.0     1099\n",
      "6.0      805\n",
      "7.0      624\n",
      "8.0      488\n",
      "9.0      354\n",
      "10.0     277\n",
      "11.0     211\n",
      "12.0     166\n",
      "13.0     145\n",
      "14.0      98\n",
      "dtype: int64\n",
      "AxesSubplot(0.125,0.125;0.775x0.755)\n"
     ]
    },
    {
     "data": {
      "image/png": "[encoded data removed]",
      "text/plain": [
       "<Figure size 432x288 with 1 Axes>"
      ]
     },
     "metadata": {
      "needs_background": "light"
     },
     "output_type": "display_data"
    }
   ],
   "source": [
    "show_group_stats_viz(d_test, PREDICTOR_FIELD)"
   ]
  },
  {
   "cell_type": "markdown",
   "metadata": {},
   "source": [
    "## Demographic Group Analysis"
   ]
  },
  {
   "cell_type": "markdown",
   "metadata": {},
   "source": [
    "We should check that our partitions/splits of the dataset are similar in terms of their demographic profiles. Below you can see how we might visualize and analyze the full dataset vs. the partitions."
   ]
  },
  {
   "cell_type": "code",
   "execution_count": 38,
   "metadata": {},
   "outputs": [
    {
     "name": "stdout",
     "output_type": "stream",
     "text": [
      "gender\n",
      "Female             29583\n",
      "Male               26548\n",
      "Unknown/Invalid        2\n",
      "dtype: int64\n",
      "AxesSubplot(0.125,0.125;0.775x0.755)\n"
     ]
    },
    {
     "data": {
      "image/png": "[encoded data removed]",
      "text/plain": [
       "<Figure size 432x288 with 1 Axes>"
      ]
     },
     "metadata": {
      "needs_background": "light"
     },
     "output_type": "display_data"
    }
   ],
   "source": [
    "# Full dataset before splitting\n",
    "patient_demo_features = ['race', 'gender', 'age', 'patient_nbr']\n",
    "patient_group_analysis_df = processed_df[patient_demo_features].groupby('patient_nbr').head(1).reset_index(drop=True)\n",
    "show_group_stats_viz(patient_group_analysis_df, 'gender')"
   ]
  },
  {
   "cell_type": "code",
   "execution_count": 39,
   "metadata": {},
   "outputs": [
    {
     "name": "stdout",
     "output_type": "stream",
     "text": [
      "gender\n",
      "Female             17833\n",
      "Male               15846\n",
      "Unknown/Invalid        1\n",
      "dtype: int64\n",
      "AxesSubplot(0.125,0.125;0.775x0.755)\n"
     ]
    },
    {
     "data": {
      "image/png": "[encoded data removed]",
      "text/plain": [
       "<Figure size 432x288 with 1 Axes>"
      ]
     },
     "metadata": {
      "needs_background": "light"
     },
     "output_type": "display_data"
    }
   ],
   "source": [
    "# Training partition\n",
    "show_group_stats_viz(d_train, 'gender')"
   ]
  },
  {
   "cell_type": "code",
   "execution_count": 40,
   "metadata": {},
   "outputs": [
    {
     "name": "stdout",
     "output_type": "stream",
     "text": [
      "gender\n",
      "Female             5922\n",
      "Male               5304\n",
      "Unknown/Invalid       1\n",
      "dtype: int64\n",
      "AxesSubplot(0.125,0.125;0.775x0.755)\n"
     ]
    },
    {
     "data": {
      "image/png": "[encoded data removed]",
      "text/plain": [
       "<Figure size 432x288 with 1 Axes>"
      ]
     },
     "metadata": {
      "needs_background": "light"
     },
     "output_type": "display_data"
    }
   ],
   "source": [
    "# Test partition\n",
    "show_group_stats_viz(d_test, 'gender')"
   ]
  },
  {
   "cell_type": "markdown",
   "metadata": {},
   "source": [
    "## Convert Dataset Splits to TF Dataset"
   ]
  },
  {
   "cell_type": "markdown",
   "metadata": {},
   "source": [
    "We have provided you the function to convert the Pandas dataframe to TF tensors using the TF Dataset API. \n",
    "Please note that this is not a scalable method and for larger datasets, the 'make_csv_dataset' method is recommended -https://www.tensorflow.org/api_docs/python/tf/data/experimental/make_csv_dataset."
   ]
  },
  {
   "cell_type": "code",
   "execution_count": 41,
   "metadata": {},
   "outputs": [],
   "source": [
    "# Convert dataset from Pandas dataframes to TF dataset \n",
    "batch_size = 128\n",
    "diabetes_train_ds = df_to_dataset(d_train, PREDICTOR_FIELD, batch_size=batch_size)\n",
    "diabetes_val_ds = df_to_dataset(d_val, PREDICTOR_FIELD, batch_size=batch_size)\n",
    "diabetes_test_ds = df_to_dataset(d_test, PREDICTOR_FIELD, batch_size=batch_size)"
   ]
  },
  {
   "cell_type": "code",
   "execution_count": 42,
   "metadata": {},
   "outputs": [],
   "source": [
    "# We use this sample of the dataset to show transformations later\n",
    "diabetes_batch = next(iter(diabetes_train_ds))[0]\n",
    "def demo(feature_column, example_batch):\n",
    "    feature_layer = layers.DenseFeatures(feature_column)\n",
    "    print(feature_layer(example_batch))"
   ]
  },
  {
   "cell_type": "markdown",
   "metadata": {},
   "source": [
    "# 4. Create Categorical Features with TF Feature Columns"
   ]
  },
  {
   "cell_type": "markdown",
   "metadata": {},
   "source": [
    "## Build Vocabulary for Categorical Features"
   ]
  },
  {
   "cell_type": "markdown",
   "metadata": {},
   "source": [
    "Before we can create the TF categorical features, we must first create the vocab files with the unique values for a given field that are from the **training** dataset. Below we have provided a function that you can use that only requires providing the pandas train dataset partition and the list of the categorical columns in a list format. The output variable 'vocab_file_list' will be a list of the file paths that can be used in the next step for creating the categorical features."
   ]
  },
  {
   "cell_type": "code",
   "execution_count": 43,
   "metadata": {},
   "outputs": [],
   "source": [
    "vocab_file_list = build_vocab_files(d_train, cat_col_list)"
   ]
  },
  {
   "cell_type": "markdown",
   "metadata": {},
   "source": [
    "## Create Categorical Features with Tensorflow Feature Column API"
   ]
  },
  {
   "cell_type": "markdown",
   "metadata": {},
   "source": [
    "**Question 7**: Using the vocab file list from above that was derived fromt the features you selected earlier, please create categorical features with the Tensorflow Feature Column API, https://www.tensorflow.org/api_docs/python/tf/feature_column. Below is a function to help guide you."
   ]
  },
  {
   "cell_type": "code",
   "execution_count": 44,
   "metadata": {},
   "outputs": [
    {
     "name": "stdout",
     "output_type": "stream",
     "text": [
      "INFO:tensorflow:vocabulary_size = 7 in race is inferred from the number of elements in the vocabulary_file ./diabetes_vocab/race_vocab.txt.\n",
      "INFO:tensorflow:vocabulary_size = 4 in gender is inferred from the number of elements in the vocabulary_file ./diabetes_vocab/gender_vocab.txt.\n",
      "INFO:tensorflow:vocabulary_size = 11 in age is inferred from the number of elements in the vocabulary_file ./diabetes_vocab/age_vocab.txt.\n",
      "INFO:tensorflow:vocabulary_size = 612 in primary_diagnosis_code is inferred from the number of elements in the vocabulary_file ./diabetes_vocab/primary_diagnosis_code_vocab.txt.\n",
      "INFO:tensorflow:vocabulary_size = 9588 in other_diagnosis_codes is inferred from the number of elements in the vocabulary_file ./diabetes_vocab/other_diagnosis_codes_vocab.txt.\n",
      "INFO:tensorflow:vocabulary_size = 219 in ndc_code is inferred from the number of elements in the vocabulary_file ./diabetes_vocab/ndc_code_vocab.txt.\n",
      "INFO:tensorflow:vocabulary_size = 3 in change is inferred from the number of elements in the vocabulary_file ./diabetes_vocab/change_vocab.txt.\n",
      "INFO:tensorflow:vocabulary_size = 4 in readmitted is inferred from the number of elements in the vocabulary_file ./diabetes_vocab/readmitted_vocab.txt.\n",
      "INFO:tensorflow:vocabulary_size = 9 in admission_type_id is inferred from the number of elements in the vocabulary_file ./diabetes_vocab/admission_type_id_vocab.txt.\n",
      "INFO:tensorflow:vocabulary_size = 26 in discharge_disposition_id is inferred from the number of elements in the vocabulary_file ./diabetes_vocab/discharge_disposition_id_vocab.txt.\n",
      "INFO:tensorflow:vocabulary_size = 18 in admission_source_id is inferred from the number of elements in the vocabulary_file ./diabetes_vocab/admission_source_id_vocab.txt.\n",
      "INFO:tensorflow:vocabulary_size = 3 in Acarbose is inferred from the number of elements in the vocabulary_file ./diabetes_vocab/Acarbose_vocab.txt.\n",
      "INFO:tensorflow:vocabulary_size = 3 in Afrezza is inferred from the number of elements in the vocabulary_file ./diabetes_vocab/Afrezza_vocab.txt.\n",
      "INFO:tensorflow:vocabulary_size = 3 in Amaryl is inferred from the number of elements in the vocabulary_file ./diabetes_vocab/Amaryl_vocab.txt.\n",
      "INFO:tensorflow:vocabulary_size = 3 in Avandia_2MG is inferred from the number of elements in the vocabulary_file ./diabetes_vocab/Avandia_2MG_vocab.txt.\n",
      "INFO:tensorflow:vocabulary_size = 3 in Avandia_4MG is inferred from the number of elements in the vocabulary_file ./diabetes_vocab/Avandia_4MG_vocab.txt.\n",
      "INFO:tensorflow:vocabulary_size = 3 in Glimepiride is inferred from the number of elements in the vocabulary_file ./diabetes_vocab/Glimepiride_vocab.txt.\n",
      "INFO:tensorflow:vocabulary_size = 3 in Glipizide is inferred from the number of elements in the vocabulary_file ./diabetes_vocab/Glipizide_vocab.txt.\n",
      "INFO:tensorflow:vocabulary_size = 2 in Glipizide_And_Metformin_Hydrochloride is inferred from the number of elements in the vocabulary_file ./diabetes_vocab/Glipizide_And_Metformin_Hydrochloride_vocab.txt.\n",
      "INFO:tensorflow:vocabulary_size = 3 in Glucophage is inferred from the number of elements in the vocabulary_file ./diabetes_vocab/Glucophage_vocab.txt.\n",
      "INFO:tensorflow:vocabulary_size = 3 in Glucophage_XR is inferred from the number of elements in the vocabulary_file ./diabetes_vocab/Glucophage_XR_vocab.txt.\n",
      "INFO:tensorflow:vocabulary_size = 3 in Glucotrol is inferred from the number of elements in the vocabulary_file ./diabetes_vocab/Glucotrol_vocab.txt.\n",
      "INFO:tensorflow:vocabulary_size = 3 in Glucotrol_XL is inferred from the number of elements in the vocabulary_file ./diabetes_vocab/Glucotrol_XL_vocab.txt.\n",
      "INFO:tensorflow:vocabulary_size = 3 in Glyburide is inferred from the number of elements in the vocabulary_file ./diabetes_vocab/Glyburide_vocab.txt.\n",
      "INFO:tensorflow:vocabulary_size = 3 in Glyburide_And_Metformin_Hydrochloride is inferred from the number of elements in the vocabulary_file ./diabetes_vocab/Glyburide_And_Metformin_Hydrochloride_vocab.txt.\n",
      "INFO:tensorflow:vocabulary_size = 3 in Glyburide-metformin_Hydrochloride is inferred from the number of elements in the vocabulary_file ./diabetes_vocab/Glyburide-metformin_Hydrochloride_vocab.txt.\n",
      "INFO:tensorflow:vocabulary_size = 3 in Glynase is inferred from the number of elements in the vocabulary_file ./diabetes_vocab/Glynase_vocab.txt.\n",
      "INFO:tensorflow:vocabulary_size = 3 in Glyset is inferred from the number of elements in the vocabulary_file ./diabetes_vocab/Glyset_vocab.txt.\n",
      "INFO:tensorflow:vocabulary_size = 3 in Humulin_R is inferred from the number of elements in the vocabulary_file ./diabetes_vocab/Humulin_R_vocab.txt.\n",
      "INFO:tensorflow:vocabulary_size = 3 in Metformin_Hcl is inferred from the number of elements in the vocabulary_file ./diabetes_vocab/Metformin_Hcl_vocab.txt.\n",
      "INFO:tensorflow:vocabulary_size = 3 in Metformin_Hydrochloride is inferred from the number of elements in the vocabulary_file ./diabetes_vocab/Metformin_Hydrochloride_vocab.txt.\n",
      "INFO:tensorflow:vocabulary_size = 3 in Metformin_Hydrochloride_Extended_Release is inferred from the number of elements in the vocabulary_file ./diabetes_vocab/Metformin_Hydrochloride_Extended_Release_vocab.txt.\n",
      "INFO:tensorflow:vocabulary_size = 3 in Miglitol is inferred from the number of elements in the vocabulary_file ./diabetes_vocab/Miglitol_vocab.txt.\n",
      "INFO:tensorflow:vocabulary_size = 3 in Nateglinide is inferred from the number of elements in the vocabulary_file ./diabetes_vocab/Nateglinide_vocab.txt.\n",
      "INFO:tensorflow:vocabulary_size = 3 in Novolin_R is inferred from the number of elements in the vocabulary_file ./diabetes_vocab/Novolin_R_vocab.txt.\n",
      "INFO:tensorflow:vocabulary_size = 3 in Pioglitazone is inferred from the number of elements in the vocabulary_file ./diabetes_vocab/Pioglitazone_vocab.txt.\n",
      "INFO:tensorflow:vocabulary_size = 3 in Pioglitazone_Hydrochloride_And_Glimepiride is inferred from the number of elements in the vocabulary_file ./diabetes_vocab/Pioglitazone_Hydrochloride_And_Glimepiride_vocab.txt.\n",
      "INFO:tensorflow:vocabulary_size = 3 in Prandin is inferred from the number of elements in the vocabulary_file ./diabetes_vocab/Prandin_vocab.txt.\n",
      "INFO:tensorflow:vocabulary_size = 3 in Repaglinide is inferred from the number of elements in the vocabulary_file ./diabetes_vocab/Repaglinide_vocab.txt.\n",
      "INFO:tensorflow:vocabulary_size = 3 in Riomet is inferred from the number of elements in the vocabulary_file ./diabetes_vocab/Riomet_vocab.txt.\n",
      "INFO:tensorflow:vocabulary_size = 3 in Riomet_Er is inferred from the number of elements in the vocabulary_file ./diabetes_vocab/Riomet_Er_vocab.txt.\n",
      "INFO:tensorflow:vocabulary_size = 3 in Starlix is inferred from the number of elements in the vocabulary_file ./diabetes_vocab/Starlix_vocab.txt.\n",
      "INFO:tensorflow:vocabulary_size = 3 in Tolazamide is inferred from the number of elements in the vocabulary_file ./diabetes_vocab/Tolazamide_vocab.txt.\n",
      "INFO:tensorflow:vocabulary_size = 3 in Tolbutamide is inferred from the number of elements in the vocabulary_file ./diabetes_vocab/Tolbutamide_vocab.txt.\n"
     ]
    }
   ],
   "source": [
    "from student_utils import create_tf_categorical_feature_cols\n",
    "tf_cat_col_list = create_tf_categorical_feature_cols(cat_col_list)"
   ]
  },
  {
   "cell_type": "code",
   "execution_count": 45,
   "metadata": {},
   "outputs": [
    {
     "name": "stdout",
     "output_type": "stream",
     "text": [
      "Example categorical field:\n",
      "IndicatorColumn(categorical_column=VocabularyFileCategoricalColumn(key='race', vocabulary_file='./diabetes_vocab/race_vocab.txt', vocabulary_size=7, num_oov_buckets=1, dtype=tf.string, default_value=-1))\n",
      "WARNING:tensorflow:From /opt/conda/lib/python3.7/site-packages/tensorflow_core/python/feature_column/feature_column_v2.py:4267: IndicatorColumn._variable_shape (from tensorflow.python.feature_column.feature_column_v2) is deprecated and will be removed in a future version.\n",
      "Instructions for updating:\n",
      "The old _FeatureColumn APIs are being deprecated. Please use the new FeatureColumn APIs instead.\n",
      "WARNING:tensorflow:From /opt/conda/lib/python3.7/site-packages/tensorflow_core/python/feature_column/feature_column_v2.py:4322: VocabularyFileCategoricalColumn._num_buckets (from tensorflow.python.feature_column.feature_column_v2) is deprecated and will be removed in a future version.\n",
      "Instructions for updating:\n",
      "The old _FeatureColumn APIs are being deprecated. Please use the new FeatureColumn APIs instead.\n",
      "tf.Tensor(\n",
      "[[0. 0. 1. ... 0. 0. 0.]\n",
      " [0. 1. 0. ... 0. 0. 0.]\n",
      " [0. 0. 1. ... 0. 0. 0.]\n",
      " ...\n",
      " [0. 1. 0. ... 0. 0. 0.]\n",
      " [0. 0. 1. ... 0. 0. 0.]\n",
      " [0. 1. 0. ... 0. 0. 0.]], shape=(128, 8), dtype=float32)\n"
     ]
    }
   ],
   "source": [
    "test_cat_var1 = tf_cat_col_list[0]\n",
    "print(\"Example categorical field:\\n{}\".format(test_cat_var1))\n",
    "demo(test_cat_var1, diabetes_batch)"
   ]
  },
  {
   "cell_type": "markdown",
   "metadata": {},
   "source": [
    "# 5. Create Numerical Features with TF Feature Columns"
   ]
  },
  {
   "cell_type": "markdown",
   "metadata": {},
   "source": [
    "**Question 8**: Using the TF Feature Column API(https://www.tensorflow.org/api_docs/python/tf/feature_column/), please create normalized Tensorflow numeric features for the model. Try to use the z-score normalizer function below to help as well as the 'calculate_stats_from_train_data' function."
   ]
  },
  {
   "cell_type": "code",
   "execution_count": 46,
   "metadata": {},
   "outputs": [],
   "source": [
    "from student_utils import create_tf_numeric_feature"
   ]
  },
  {
   "cell_type": "markdown",
   "metadata": {},
   "source": [
    "For simplicity the create_tf_numerical_feature_cols function below uses the same normalizer function across all features(z-score normalization) but if you have time feel free to analyze and adapt the normalizer based off the statistical distributions. You may find this as a good resource in determining which transformation fits best for the data https://developers.google.com/machine-learning/data-prep/transform/normalization.\n"
   ]
  },
  {
   "cell_type": "code",
   "execution_count": 47,
   "metadata": {},
   "outputs": [],
   "source": [
    "def calculate_stats_from_train_data(df, col):\n",
    "    mean = df[col].describe()['mean']\n",
    "    std = df[col].describe()['std']\n",
    "    return mean, std\n",
    "\n",
    "def create_tf_numerical_feature_cols(numerical_col_list, train_df):\n",
    "    tf_numeric_col_list = []\n",
    "    for c in numerical_col_list:\n",
    "        mean, std = calculate_stats_from_train_data(train_df, c)\n",
    "        tf_numeric_feature = create_tf_numeric_feature(c, mean, std)\n",
    "        tf_numeric_col_list.append(tf_numeric_feature)\n",
    "    return tf_numeric_col_list"
   ]
  },
  {
   "cell_type": "code",
   "execution_count": 48,
   "metadata": {},
   "outputs": [],
   "source": [
    "tf_cont_col_list = create_tf_numerical_feature_cols(num_col_list, d_train)"
   ]
  },
  {
   "cell_type": "code",
   "execution_count": 49,
   "metadata": {},
   "outputs": [
    {
     "name": "stdout",
     "output_type": "stream",
     "text": [
      "Example continuous field:\n",
      "NumericColumn(key='number_diagnoses', shape=(1,), default_value=(0,), dtype=tf.float64, normalizer_fn=functools.partial(<function normalize_numeric_with_zscore at 0x7fd076d70680>, mean=7.282511876484561, std=1.9945209809038897))\n",
      "\n",
      "tf.Tensor(\n",
      "[[ 2.]\n",
      " [ 2.]\n",
      " [ 2.]\n",
      " [ 2.]\n",
      " [ 2.]\n",
      " [ 1.]\n",
      " [-2.]\n",
      " [-4.]\n",
      " [ 2.]\n",
      " [ 1.]\n",
      " [ 2.]\n",
      " [-2.]\n",
      " [-4.]\n",
      " [-2.]\n",
      " [-4.]\n",
      " [-2.]\n",
      " [ 0.]\n",
      " [ 2.]\n",
      " [-1.]\n",
      " [ 2.]\n",
      " [ 2.]\n",
      " [-2.]\n",
      " [ 2.]\n",
      " [ 2.]\n",
      " [-1.]\n",
      " [-2.]\n",
      " [-1.]\n",
      " [-4.]\n",
      " [ 2.]\n",
      " [-1.]\n",
      " [ 1.]\n",
      " [ 2.]\n",
      " [ 2.]\n",
      " [ 2.]\n",
      " [ 1.]\n",
      " [ 2.]\n",
      " [ 2.]\n",
      " [ 2.]\n",
      " [ 2.]\n",
      " [-2.]\n",
      " [ 0.]\n",
      " [ 2.]\n",
      " [ 1.]\n",
      " [ 2.]\n",
      " [ 0.]\n",
      " [-2.]\n",
      " [ 2.]\n",
      " [ 2.]\n",
      " [-1.]\n",
      " [ 0.]\n",
      " [-2.]\n",
      " [-3.]\n",
      " [-2.]\n",
      " [-3.]\n",
      " [-1.]\n",
      " [ 2.]\n",
      " [-1.]\n",
      " [-3.]\n",
      " [-2.]\n",
      " [ 2.]\n",
      " [ 2.]\n",
      " [ 2.]\n",
      " [ 2.]\n",
      " [ 2.]\n",
      " [-3.]\n",
      " [-3.]\n",
      " [-2.]\n",
      " [-2.]\n",
      " [-4.]\n",
      " [ 2.]\n",
      " [ 2.]\n",
      " [-2.]\n",
      " [ 2.]\n",
      " [ 2.]\n",
      " [ 2.]\n",
      " [ 0.]\n",
      " [ 2.]\n",
      " [ 0.]\n",
      " [ 2.]\n",
      " [ 2.]\n",
      " [ 2.]\n",
      " [ 2.]\n",
      " [ 1.]\n",
      " [ 2.]\n",
      " [ 1.]\n",
      " [ 2.]\n",
      " [ 2.]\n",
      " [ 2.]\n",
      " [ 2.]\n",
      " [ 0.]\n",
      " [ 1.]\n",
      " [-3.]\n",
      " [-1.]\n",
      " [-2.]\n",
      " [ 2.]\n",
      " [-3.]\n",
      " [ 2.]\n",
      " [-2.]\n",
      " [ 2.]\n",
      " [ 1.]\n",
      " [ 1.]\n",
      " [ 2.]\n",
      " [-2.]\n",
      " [-2.]\n",
      " [ 0.]\n",
      " [ 1.]\n",
      " [ 2.]\n",
      " [ 2.]\n",
      " [ 0.]\n",
      " [ 2.]\n",
      " [ 2.]\n",
      " [ 2.]\n",
      " [ 0.]\n",
      " [ 2.]\n",
      " [ 2.]\n",
      " [-1.]\n",
      " [ 2.]\n",
      " [ 2.]\n",
      " [ 1.]\n",
      " [ 2.]\n",
      " [ 2.]\n",
      " [ 2.]\n",
      " [ 0.]\n",
      " [ 2.]\n",
      " [-1.]\n",
      " [ 0.]\n",
      " [-2.]\n",
      " [ 2.]], shape=(128, 1), dtype=float32)\n"
     ]
    }
   ],
   "source": [
    "test_cont_var1 = tf_cont_col_list[0]\n",
    "print(\"Example continuous field:\\n{}\\n\".format(test_cont_var1))\n",
    "demo(test_cont_var1, diabetes_batch)"
   ]
  },
  {
   "cell_type": "markdown",
   "metadata": {},
   "source": [
    "# 6. Build Deep Learning Regression Model with Sequential API and TF Probability Layers"
   ]
  },
  {
   "cell_type": "markdown",
   "metadata": {},
   "source": [
    "## Use DenseFeatures to combine features for model"
   ]
  },
  {
   "cell_type": "markdown",
   "metadata": {},
   "source": [
    "Now that we have prepared categorical and numerical features using Tensorflow's Feature Column API, we can combine them into a dense vector representation for the model. Below we will create this new input layer, which we will call 'claim_feature_layer'."
   ]
  },
  {
   "cell_type": "code",
   "execution_count": 50,
   "metadata": {},
   "outputs": [],
   "source": [
    "claim_feature_columns = tf_cat_col_list + tf_cont_col_list\n",
    "claim_feature_layer = tf.keras.layers.DenseFeatures(claim_feature_columns)"
   ]
  },
  {
   "cell_type": "markdown",
   "metadata": {},
   "source": [
    "## Build Sequential API Model from DenseFeatures and TF Probability Layers"
   ]
  },
  {
   "cell_type": "markdown",
   "metadata": {},
   "source": [
    "Below we have provided some boilerplate code for building a model that connects the Sequential API, DenseFeatures, and Tensorflow Probability layers into a deep learning model. There are many opportunities to further optimize and explore different architectures through benchmarking and testing approaches in various research papers, loss and evaluation metrics, learning curves, hyperparameter tuning, TF probability layers, etc. Feel free to modify and explore as you wish."
   ]
  },
  {
   "cell_type": "markdown",
   "metadata": {},
   "source": [
    "**OPTIONAL**: Come up with a more optimal neural network architecture and hyperparameters. Share the process in discovering the architecture and hyperparameters."
   ]
  },
  {
   "cell_type": "code",
   "execution_count": 51,
   "metadata": {},
   "outputs": [],
   "source": [
    "def build_sequential_model(feature_layer):\n",
    "    model = tf.keras.Sequential([\n",
    "        feature_layer,\n",
    "        tf.keras.layers.Dense(150, activation='relu'),\n",
    "        tf.keras.layers.Dense(75, activation='relu'),\n",
    "        tfp.layers.DenseVariational(1+1, posterior_mean_field, prior_trainable),\n",
    "        tfp.layers.DistributionLambda(\n",
    "            lambda t:tfp.distributions.Normal(loc=t[..., :1],\n",
    "                                             scale=1e-3 + tf.math.softplus(0.01 * t[...,1:])\n",
    "                                             )\n",
    "        ),\n",
    "    ])\n",
    "    return model\n",
    "\n",
    "def build_diabetes_model(train_ds, val_ds,  feature_layer,  epochs=5, loss_metric='mse'):\n",
    "    model = build_sequential_model(feature_layer)\n",
    "    model.compile(optimizer='rmsprop', loss=loss_metric, metrics=[loss_metric])\n",
    "    early_stop = tf.keras.callbacks.EarlyStopping(monitor=loss_metric, patience=3)     \n",
    "    history = model.fit(train_ds, validation_data=val_ds,\n",
    "                        callbacks=[early_stop],\n",
    "                        epochs=epochs)\n",
    "    return model, history "
   ]
  },
  {
   "cell_type": "code",
   "execution_count": 52,
   "metadata": {},
   "outputs": [
    {
     "name": "stdout",
     "output_type": "stream",
     "text": [
      "Train for 264 steps, validate for 88 steps\n",
      "Epoch 1/50\n",
      "264/264 [==============================] - 20s 75ms/step - loss: 26.1031 - mse: 26.0674 - val_loss: 25.9521 - val_mse: 25.8258\n",
      "Epoch 2/50\n",
      "264/264 [==============================] - 14s 55ms/step - loss: 19.7801 - mse: 19.2460 - val_loss: 15.1583 - val_mse: 14.3937\n",
      "Epoch 3/50\n",
      "264/264 [==============================] - 14s 55ms/step - loss: 14.3526 - mse: 13.4976 - val_loss: 15.0049 - val_mse: 14.1402\n",
      "Epoch 4/50\n",
      "264/264 [==============================] - 15s 55ms/step - loss: 13.7298 - mse: 12.8371 - val_loss: 12.4789 - val_mse: 11.4396\n",
      "Epoch 5/50\n",
      "264/264 [==============================] - 15s 56ms/step - loss: 11.7330 - mse: 10.7601 - val_loss: 11.8994 - val_mse: 11.0355\n",
      "Epoch 6/50\n",
      "264/264 [==============================] - 15s 56ms/step - loss: 11.0423 - mse: 10.1423 - val_loss: 9.5814 - val_mse: 8.5512\n",
      "Epoch 7/50\n",
      "264/264 [==============================] - 15s 57ms/step - loss: 10.6015 - mse: 9.7583 - val_loss: 10.3457 - val_mse: 9.2544\n",
      "Epoch 8/50\n",
      "264/264 [==============================] - 15s 56ms/step - loss: 9.5662 - mse: 8.6536 - val_loss: 9.9661 - val_mse: 8.9501\n",
      "Epoch 9/50\n",
      "264/264 [==============================] - 15s 56ms/step - loss: 9.3119 - mse: 8.3744 - val_loss: 9.3783 - val_mse: 8.6891\n",
      "Epoch 10/50\n",
      "264/264 [==============================] - 15s 56ms/step - loss: 9.3672 - mse: 8.3915 - val_loss: 9.0394 - val_mse: 8.3812\n",
      "Epoch 11/50\n",
      "264/264 [==============================] - 15s 55ms/step - loss: 8.8250 - mse: 7.9422 - val_loss: 9.8878 - val_mse: 9.2885\n",
      "Epoch 12/50\n",
      "264/264 [==============================] - 15s 57ms/step - loss: 8.3758 - mse: 7.7236 - val_loss: 9.2182 - val_mse: 8.6126\n",
      "Epoch 13/50\n",
      "264/264 [==============================] - 15s 57ms/step - loss: 8.9139 - mse: 7.9462 - val_loss: 8.7900 - val_mse: 7.8122\n",
      "Epoch 14/50\n",
      "264/264 [==============================] - 14s 54ms/step - loss: 8.5992 - mse: 7.7936 - val_loss: 9.2921 - val_mse: 8.4282\n",
      "Epoch 15/50\n",
      "264/264 [==============================] - 15s 56ms/step - loss: 8.3287 - mse: 7.3958 - val_loss: 9.0965 - val_mse: 8.2918\n",
      "Epoch 16/50\n",
      "264/264 [==============================] - 14s 54ms/step - loss: 7.8157 - mse: 6.9782 - val_loss: 8.5987 - val_mse: 7.6538\n",
      "Epoch 17/50\n",
      "264/264 [==============================] - 15s 57ms/step - loss: 7.8776 - mse: 7.0407 - val_loss: 7.8911 - val_mse: 7.0842\n",
      "Epoch 18/50\n",
      "264/264 [==============================] - 15s 55ms/step - loss: 8.0018 - mse: 7.2722 - val_loss: 8.7152 - val_mse: 7.6320\n",
      "Epoch 19/50\n",
      "264/264 [==============================] - 15s 58ms/step - loss: 8.2618 - mse: 7.2297 - val_loss: 8.4128 - val_mse: 7.6780\n"
     ]
    }
   ],
   "source": [
    "diabetes_model, history = build_diabetes_model(diabetes_train_ds, diabetes_val_ds,  claim_feature_layer,  epochs=50)"
   ]
  },
  {
   "cell_type": "markdown",
   "metadata": {},
   "source": [
    "## Show Model Uncertainty Range with TF Probability"
   ]
  },
  {
   "cell_type": "markdown",
   "metadata": {},
   "source": [
    "**Question 9**: Now that we have trained a model with TF Probability layers, we can extract the mean and standard deviation for each prediction. Please fill in the answer for the m and s variables below. The code for getting the predictions is provided for you below."
   ]
  },
  {
   "cell_type": "code",
   "execution_count": 53,
   "metadata": {},
   "outputs": [],
   "source": [
    "feature_list = cat_col_list + num_col_list\n",
    "diabetes_x_tst = dict(d_test[feature_list])\n",
    "diabetes_yhat = diabetes_model(diabetes_x_tst)\n",
    "preds = diabetes_model.predict(diabetes_test_ds)"
   ]
  },
  {
   "cell_type": "code",
   "execution_count": 54,
   "metadata": {},
   "outputs": [],
   "source": [
    "from student_utils import get_mean_std_from_preds\n",
    "m, s = get_mean_std_from_preds(diabetes_yhat)"
   ]
  },
  {
   "cell_type": "markdown",
   "metadata": {},
   "source": [
    "## Show Prediction Output "
   ]
  },
  {
   "cell_type": "code",
   "execution_count": 55,
   "metadata": {},
   "outputs": [],
   "source": [
    "prob_outputs = {\n",
    "    \"pred\": preds.flatten(),\n",
    "    \"actual_value\": d_test['time_in_hospital'].values,\n",
    "    \"pred_mean\": m.numpy().flatten(),\n",
    "    \"pred_std\": s.numpy().flatten()\n",
    "}\n",
    "prob_output_df = pd.DataFrame(prob_outputs)"
   ]
  },
  {
   "cell_type": "code",
   "execution_count": 56,
   "metadata": {},
   "outputs": [
    {
     "data": {
      "text/html": [
       "<div>\n",
       "<style scoped>\n",
       "    .dataframe tbody tr th:only-of-type {\n",
       "        vertical-align: middle;\n",
       "    }\n",
       "\n",
       "    .dataframe tbody tr th {\n",
       "        vertical-align: top;\n",
       "    }\n",
       "\n",
       "    .dataframe thead th {\n",
       "        text-align: right;\n",
       "    }\n",
       "</style>\n",
       "<table border=\"1\" class=\"dataframe\">\n",
       "  <thead>\n",
       "    <tr style=\"text-align: right;\">\n",
       "      <th></th>\n",
       "      <th>pred</th>\n",
       "      <th>actual_value</th>\n",
       "      <th>pred_mean</th>\n",
       "      <th>pred_std</th>\n",
       "    </tr>\n",
       "  </thead>\n",
       "  <tbody>\n",
       "    <tr>\n",
       "      <th>0</th>\n",
       "      <td>3.677943</td>\n",
       "      <td>13.0</td>\n",
       "      <td>8.971863</td>\n",
       "      <td>0.718199</td>\n",
       "    </tr>\n",
       "    <tr>\n",
       "      <th>1</th>\n",
       "      <td>4.064531</td>\n",
       "      <td>6.0</td>\n",
       "      <td>3.164281</td>\n",
       "      <td>0.699578</td>\n",
       "    </tr>\n",
       "    <tr>\n",
       "      <th>2</th>\n",
       "      <td>6.244419</td>\n",
       "      <td>12.0</td>\n",
       "      <td>10.559544</td>\n",
       "      <td>0.720241</td>\n",
       "    </tr>\n",
       "    <tr>\n",
       "      <th>3</th>\n",
       "      <td>0.617162</td>\n",
       "      <td>8.0</td>\n",
       "      <td>6.610940</td>\n",
       "      <td>0.709859</td>\n",
       "    </tr>\n",
       "    <tr>\n",
       "      <th>4</th>\n",
       "      <td>7.026981</td>\n",
       "      <td>3.0</td>\n",
       "      <td>7.581267</td>\n",
       "      <td>0.711902</td>\n",
       "    </tr>\n",
       "  </tbody>\n",
       "</table>\n",
       "</div>"
      ],
      "text/plain": [
       "       pred  actual_value  pred_mean  pred_std\n",
       "0  3.677943          13.0   8.971863  0.718199\n",
       "1  4.064531           6.0   3.164281  0.699578\n",
       "2  6.244419          12.0  10.559544  0.720241\n",
       "3  0.617162           8.0   6.610940  0.709859\n",
       "4  7.026981           3.0   7.581267  0.711902"
      ]
     },
     "execution_count": 56,
     "metadata": {},
     "output_type": "execute_result"
    }
   ],
   "source": [
    "prob_output_df.head()"
   ]
  },
  {
   "cell_type": "markdown",
   "metadata": {},
   "source": [
    "## Convert Regression Output to Classification Output for Patient Selection"
   ]
  },
  {
   "cell_type": "markdown",
   "metadata": {},
   "source": [
    "**Question 10**: Given the output predictions, convert it to a binary label for whether the patient meets the time criteria or does not (HINT: use the mean prediction numpy array). The expected output is a numpy array with a 1 or 0 based off if the prediction meets or doesnt meet the criteria."
   ]
  },
  {
   "cell_type": "code",
   "execution_count": 57,
   "metadata": {},
   "outputs": [
    {
     "data": {
      "text/html": [
       "<div>\n",
       "<style scoped>\n",
       "    .dataframe tbody tr th:only-of-type {\n",
       "        vertical-align: middle;\n",
       "    }\n",
       "\n",
       "    .dataframe tbody tr th {\n",
       "        vertical-align: top;\n",
       "    }\n",
       "\n",
       "    .dataframe thead th {\n",
       "        text-align: right;\n",
       "    }\n",
       "</style>\n",
       "<table border=\"1\" class=\"dataframe\">\n",
       "  <thead>\n",
       "    <tr style=\"text-align: right;\">\n",
       "      <th></th>\n",
       "      <th>score</th>\n",
       "      <th>label_value</th>\n",
       "    </tr>\n",
       "  </thead>\n",
       "  <tbody>\n",
       "    <tr>\n",
       "      <th>0</th>\n",
       "      <td>1</td>\n",
       "      <td>1</td>\n",
       "    </tr>\n",
       "    <tr>\n",
       "      <th>1</th>\n",
       "      <td>0</td>\n",
       "      <td>1</td>\n",
       "    </tr>\n",
       "    <tr>\n",
       "      <th>2</th>\n",
       "      <td>1</td>\n",
       "      <td>1</td>\n",
       "    </tr>\n",
       "    <tr>\n",
       "      <th>3</th>\n",
       "      <td>1</td>\n",
       "      <td>1</td>\n",
       "    </tr>\n",
       "    <tr>\n",
       "      <th>4</th>\n",
       "      <td>1</td>\n",
       "      <td>0</td>\n",
       "    </tr>\n",
       "  </tbody>\n",
       "</table>\n",
       "</div>"
      ],
      "text/plain": [
       "   score  label_value\n",
       "0      1            1\n",
       "1      0            1\n",
       "2      1            1\n",
       "3      1            1\n",
       "4      1            0"
      ]
     },
     "execution_count": 57,
     "metadata": {},
     "output_type": "execute_result"
    }
   ],
   "source": [
    "from student_utils import get_binary_prediction\n",
    "binary_prediction = get_binary_prediction(prob_output_df, 'pred_mean', 'actual_value', 5)\n",
    "binary_prediction.head()"
   ]
  },
  {
   "cell_type": "markdown",
   "metadata": {},
   "source": [
    "### Add Binary Prediction to Test Dataframe"
   ]
  },
  {
   "cell_type": "markdown",
   "metadata": {},
   "source": [
    "Using the Binary_prediction output that is a numpy array with binary labels, we can use this to add to a dataframe to better visualize and also to prepare the data for the Aequitas toolkit. The Aequitas toolkit requires that the predictions be mapped to a binary label for the predictions (called 'score' field) and the actual value (called 'label_value')."
   ]
  },
  {
   "cell_type": "code",
   "execution_count": 58,
   "metadata": {},
   "outputs": [],
   "source": [
    "def add_pred_to_test(test_df, binary_prediction, demo_col_list):\n",
    "    for c in demo_col_list:\n",
    "        test_df[c] = test_df[c].astype(str)\n",
    "    test_df.reset_index(inplace=True)\n",
    "    test_df = pd.concat([test_df, binary_prediction], axis=1)\n",
    "    return test_df\n",
    "\n",
    "pred_test_df = add_pred_to_test(d_test, binary_prediction, ['race', 'gender'])"
   ]
  },
  {
   "cell_type": "code",
   "execution_count": 59,
   "metadata": {},
   "outputs": [
    {
     "data": {
      "text/html": [
       "<div>\n",
       "<style scoped>\n",
       "    .dataframe tbody tr th:only-of-type {\n",
       "        vertical-align: middle;\n",
       "    }\n",
       "\n",
       "    .dataframe tbody tr th {\n",
       "        vertical-align: top;\n",
       "    }\n",
       "\n",
       "    .dataframe thead th {\n",
       "        text-align: right;\n",
       "    }\n",
       "</style>\n",
       "<table border=\"1\" class=\"dataframe\">\n",
       "  <thead>\n",
       "    <tr style=\"text-align: right;\">\n",
       "      <th></th>\n",
       "      <th>patient_nbr</th>\n",
       "      <th>gender</th>\n",
       "      <th>race</th>\n",
       "      <th>time_in_hospital</th>\n",
       "      <th>score</th>\n",
       "      <th>label_value</th>\n",
       "    </tr>\n",
       "  </thead>\n",
       "  <tbody>\n",
       "    <tr>\n",
       "      <th>0</th>\n",
       "      <td>40130235</td>\n",
       "      <td>Female</td>\n",
       "      <td>AfricanAmerican</td>\n",
       "      <td>13.0</td>\n",
       "      <td>1</td>\n",
       "      <td>1</td>\n",
       "    </tr>\n",
       "    <tr>\n",
       "      <th>1</th>\n",
       "      <td>23369526</td>\n",
       "      <td>Male</td>\n",
       "      <td>Caucasian</td>\n",
       "      <td>6.0</td>\n",
       "      <td>0</td>\n",
       "      <td>1</td>\n",
       "    </tr>\n",
       "    <tr>\n",
       "      <th>2</th>\n",
       "      <td>100289754</td>\n",
       "      <td>Female</td>\n",
       "      <td>Caucasian</td>\n",
       "      <td>12.0</td>\n",
       "      <td>1</td>\n",
       "      <td>1</td>\n",
       "    </tr>\n",
       "    <tr>\n",
       "      <th>3</th>\n",
       "      <td>956691</td>\n",
       "      <td>Female</td>\n",
       "      <td>AfricanAmerican</td>\n",
       "      <td>8.0</td>\n",
       "      <td>1</td>\n",
       "      <td>1</td>\n",
       "    </tr>\n",
       "    <tr>\n",
       "      <th>4</th>\n",
       "      <td>64966311</td>\n",
       "      <td>Female</td>\n",
       "      <td>Caucasian</td>\n",
       "      <td>3.0</td>\n",
       "      <td>1</td>\n",
       "      <td>0</td>\n",
       "    </tr>\n",
       "  </tbody>\n",
       "</table>\n",
       "</div>"
      ],
      "text/plain": [
       "   patient_nbr  gender             race  time_in_hospital  score  label_value\n",
       "0     40130235  Female  AfricanAmerican              13.0      1            1\n",
       "1     23369526    Male        Caucasian               6.0      0            1\n",
       "2    100289754  Female        Caucasian              12.0      1            1\n",
       "3       956691  Female  AfricanAmerican               8.0      1            1\n",
       "4     64966311  Female        Caucasian               3.0      1            0"
      ]
     },
     "execution_count": 59,
     "metadata": {},
     "output_type": "execute_result"
    }
   ],
   "source": [
    "pred_test_df[['patient_nbr', 'gender', 'race', 'time_in_hospital', 'score', 'label_value']].head()"
   ]
  },
  {
   "cell_type": "markdown",
   "metadata": {},
   "source": [
    "## Model Evaluation Metrics "
   ]
  },
  {
   "cell_type": "markdown",
   "metadata": {},
   "source": [
    "**Question 11**: Now it is time to use the newly created binary labels in the 'pred_test_df' dataframe to evaluate the model with some common classification metrics. Please create a report summary of the performance of the model and be sure to give the ROC AUC, F1 score(weighted), class precision and recall scores. "
   ]
  },
  {
   "cell_type": "markdown",
   "metadata": {},
   "source": [
    "For the report please be sure to include the following three parts:\n",
    "- With a non-technical audience in mind, explain the precision-recall tradeoff in regard to how you have optimized your model.\n",
    "\n",
    "- What are some areas of improvement for future iterations?"
   ]
  },
  {
   "cell_type": "code",
   "execution_count": 60,
   "metadata": {},
   "outputs": [
    {
     "name": "stdout",
     "output_type": "stream",
     "text": [
      "accuracy_score: 0.7167542531397524\n",
      "\n",
      "f1_score: 0.6939953810623557\n",
      "\n",
      "classification_report:\n",
      "              precision    recall  f1-score   support\n",
      "\n",
      "           0       0.87      0.64      0.74      6960\n",
      "           1       0.59      0.85      0.69      4267\n",
      "\n",
      "    accuracy                           0.72     11227\n",
      "   macro avg       0.73      0.74      0.72     11227\n",
      "weighted avg       0.76      0.72      0.72     11227\n",
      "\n",
      "\n",
      "roc_auc_score: 0.7415824699848341\n"
     ]
    }
   ],
   "source": [
    "y_true = pred_test_df['label_value'].values \n",
    "y_pred = pred_test_df['score'].values\n",
    "print('accuracy_score:', accuracy_score(y_true, y_pred))\n",
    "print()\n",
    "print('f1_score:', f1_score(y_true, y_pred))\n",
    "print()\n",
    "print('classification_report:')\n",
    "print(classification_report(y_true, y_pred))\n",
    "print()\n",
    "print('roc_auc_score:', roc_auc_score(y_true, y_pred))"
   ]
  },
  {
   "cell_type": "code",
   "execution_count": 61,
   "metadata": {},
   "outputs": [
    {
     "data": {
      "image/png": "[encoded data removed]",
      "text/plain": [
       "<Figure size 648x648 with 1 Axes>"
      ]
     },
     "metadata": {
      "needs_background": "light"
     },
     "output_type": "display_data"
    }
   ],
   "source": [
    "def plot_auc(t_y, p_y):\n",
    "    fig, c_ax = plt.subplots(1,1, figsize = (9, 9))\n",
    "    fpr, tpr, thresholds = roc_curve(t_y, p_y)\n",
    "    c_ax.plot(fpr, tpr, label = '%s (AUC:%0.2f)'  % ('Patient Selection for Diabetes Drug', auc(fpr, tpr)))\n",
    "    c_ax.legend()\n",
    "    c_ax.set_xlabel('False Positive Rate')\n",
    "    c_ax.set_ylabel('True Positive Rate')\n",
    "    \n",
    "plot_auc(y_true, y_pred)"
   ]
  },
  {
   "cell_type": "code",
   "execution_count": 62,
   "metadata": {},
   "outputs": [
    {
     "data": {
      "image/png": "[encoded data removed]",
      "text/plain": [
       "<Figure size 648x648 with 1 Axes>"
      ]
     },
     "metadata": {
      "needs_background": "light"
     },
     "output_type": "display_data"
    }
   ],
   "source": [
    "def plot_pr(t_y, p_y):\n",
    "    fig, c_ax = plt.subplots(1,1, figsize = (9, 9))\n",
    "    precision, recall, thresholds = precision_recall_curve(t_y, p_y)\n",
    "    c_ax.plot(precision, recall, label = '%s (AP Score:%0.2f)'  % ('Patient Selection for Diabetes Drug', average_precision_score(t_y,p_y)))\n",
    "    c_ax.legend()\n",
    "    c_ax.set_xlabel('Precision')\n",
    "    c_ax.set_ylabel('Recall')\n",
    "    \n",
    "plot_pr(y_true, y_pred)"
   ]
  },
  {
   "attachments": {},
   "cell_type": "markdown",
   "metadata": {},
   "source": [
    "**Responce(a) : By increasing the Threshold value, the number of true positives will decrease or stay the same and will cause the number of false negatives to increase or stay the same, thus recall will either stay constant or decrease and raise the precision. While precision refers to the percentage of results which are relevant, recall refers to the percentage of total relevant results correctly classified by this algorithm. Unfortunately, it is not possible to maximize both these metrics at the same time, as one comes at the cost of another. I have computed F-1 score, which is a harmonic mean of precision and recall. A higher F-1 score provide a better trade-off between precision and recall for this model**"
   ]
  },
  {
   "attachments": {},
   "cell_type": "markdown",
   "metadata": {},
   "source": [
    "**Responce(b): To improve future iteration, we can consider other model architecture like decision tree classification and gradient boosting classification by varying the training and test sizes. Further by using Adam optimizer instead of rmsprop and starting with small learning rates and then slowly increasing the learning rates can be looked at improving precision, recall, accuracy, roc score of the model**"
   ]
  },
  {
   "cell_type": "markdown",
   "metadata": {},
   "source": [
    "# 7. Evaluating Potential Model Biases with Aequitas Toolkit"
   ]
  },
  {
   "cell_type": "markdown",
   "metadata": {},
   "source": [
    "## Prepare Data For Aequitas Bias Toolkit "
   ]
  },
  {
   "cell_type": "markdown",
   "metadata": {},
   "source": [
    "Using the gender and race fields, we will prepare the data for the Aequitas Toolkit."
   ]
  },
  {
   "cell_type": "code",
   "execution_count": 63,
   "metadata": {},
   "outputs": [
    {
     "name": "stderr",
     "output_type": "stream",
     "text": [
      "/opt/conda/lib/python3.7/site-packages/aequitas/group.py:143: SettingWithCopyWarning: \n",
      "A value is trying to be set on a copy of a slice from a DataFrame.\n",
      "Try using .loc[row_indexer,col_indexer] = value instead\n",
      "\n",
      "See the caveats in the documentation: https://pandas.pydata.org/pandas-docs/stable/user_guide/indexing.html#returning-a-view-versus-a-copy\n",
      "  df['score'] = df['score'].astype(float)\n"
     ]
    },
    {
     "name": "stdout",
     "output_type": "stream",
     "text": [
      "model_id, score_thresholds 1 {'rank_abs': [6125]}\n"
     ]
    },
    {
     "name": "stderr",
     "output_type": "stream",
     "text": [
      "/opt/conda/lib/python3.7/site-packages/aequitas/group.py:30: FutureWarning: The pandas.np module is deprecated and will be removed from pandas in a future version. Import numpy directly instead\n",
      "  divide = lambda x, y: x / y if y != 0 else pd.np.nan\n"
     ]
    }
   ],
   "source": [
    "# Aequitas\n",
    "from aequitas.preprocessing import preprocess_input_df\n",
    "from aequitas.group import Group\n",
    "from aequitas.plotting import Plot\n",
    "from aequitas.bias import Bias\n",
    "from aequitas.fairness import Fairness\n",
    "\n",
    "ae_subset_df = pred_test_df[['race', 'gender', 'score', 'label_value']]\n",
    "ae_df, _ = preprocess_input_df(ae_subset_df)\n",
    "g = Group()\n",
    "xtab, _ = g.get_crosstabs(ae_df)\n",
    "absolute_metrics = g.list_absolute_metrics(xtab)\n",
    "clean_xtab = xtab.fillna(-1)\n",
    "aqp = Plot()\n",
    "b = Bias()\n"
   ]
  },
  {
   "cell_type": "code",
   "execution_count": 65,
   "metadata": {},
   "outputs": [
    {
     "data": {
      "text/html": [
       "<div>\n",
       "<style scoped>\n",
       "    .dataframe tbody tr th:only-of-type {\n",
       "        vertical-align: middle;\n",
       "    }\n",
       "\n",
       "    .dataframe tbody tr th {\n",
       "        vertical-align: top;\n",
       "    }\n",
       "\n",
       "    .dataframe thead th {\n",
       "        text-align: right;\n",
       "    }\n",
       "</style>\n",
       "<table border=\"1\" class=\"dataframe\">\n",
       "  <thead>\n",
       "    <tr style=\"text-align: right;\">\n",
       "      <th></th>\n",
       "      <th>model_id</th>\n",
       "      <th>score_threshold</th>\n",
       "      <th>k</th>\n",
       "      <th>attribute_name</th>\n",
       "      <th>attribute_value</th>\n",
       "      <th>pp</th>\n",
       "      <th>pn</th>\n",
       "      <th>fp</th>\n",
       "      <th>fn</th>\n",
       "      <th>tn</th>\n",
       "      <th>tp</th>\n",
       "      <th>group_label_pos</th>\n",
       "      <th>group_label_neg</th>\n",
       "      <th>group_size</th>\n",
       "      <th>total_entities</th>\n",
       "    </tr>\n",
       "  </thead>\n",
       "  <tbody>\n",
       "    <tr>\n",
       "      <th>0</th>\n",
       "      <td>1</td>\n",
       "      <td>binary 0/1</td>\n",
       "      <td>6125</td>\n",
       "      <td>race</td>\n",
       "      <td>AfricanAmerican</td>\n",
       "      <td>1119</td>\n",
       "      <td>954</td>\n",
       "      <td>432</td>\n",
       "      <td>128</td>\n",
       "      <td>826</td>\n",
       "      <td>687</td>\n",
       "      <td>815</td>\n",
       "      <td>1258</td>\n",
       "      <td>2073</td>\n",
       "      <td>11227</td>\n",
       "    </tr>\n",
       "    <tr>\n",
       "      <th>1</th>\n",
       "      <td>1</td>\n",
       "      <td>binary 0/1</td>\n",
       "      <td>6125</td>\n",
       "      <td>race</td>\n",
       "      <td>Asian</td>\n",
       "      <td>32</td>\n",
       "      <td>50</td>\n",
       "      <td>15</td>\n",
       "      <td>6</td>\n",
       "      <td>44</td>\n",
       "      <td>17</td>\n",
       "      <td>23</td>\n",
       "      <td>59</td>\n",
       "      <td>82</td>\n",
       "      <td>11227</td>\n",
       "    </tr>\n",
       "    <tr>\n",
       "      <th>2</th>\n",
       "      <td>1</td>\n",
       "      <td>binary 0/1</td>\n",
       "      <td>6125</td>\n",
       "      <td>race</td>\n",
       "      <td>Caucasian</td>\n",
       "      <td>4569</td>\n",
       "      <td>3723</td>\n",
       "      <td>1897</td>\n",
       "      <td>485</td>\n",
       "      <td>3238</td>\n",
       "      <td>2672</td>\n",
       "      <td>3157</td>\n",
       "      <td>5135</td>\n",
       "      <td>8292</td>\n",
       "      <td>11227</td>\n",
       "    </tr>\n",
       "    <tr>\n",
       "      <th>3</th>\n",
       "      <td>1</td>\n",
       "      <td>binary 0/1</td>\n",
       "      <td>6125</td>\n",
       "      <td>race</td>\n",
       "      <td>Hispanic</td>\n",
       "      <td>110</td>\n",
       "      <td>138</td>\n",
       "      <td>48</td>\n",
       "      <td>18</td>\n",
       "      <td>120</td>\n",
       "      <td>62</td>\n",
       "      <td>80</td>\n",
       "      <td>168</td>\n",
       "      <td>248</td>\n",
       "      <td>11227</td>\n",
       "    </tr>\n",
       "    <tr>\n",
       "      <th>4</th>\n",
       "      <td>1</td>\n",
       "      <td>binary 0/1</td>\n",
       "      <td>6125</td>\n",
       "      <td>race</td>\n",
       "      <td>Other</td>\n",
       "      <td>117</td>\n",
       "      <td>88</td>\n",
       "      <td>46</td>\n",
       "      <td>6</td>\n",
       "      <td>82</td>\n",
       "      <td>71</td>\n",
       "      <td>77</td>\n",
       "      <td>128</td>\n",
       "      <td>205</td>\n",
       "      <td>11227</td>\n",
       "    </tr>\n",
       "    <tr>\n",
       "      <th>5</th>\n",
       "      <td>1</td>\n",
       "      <td>binary 0/1</td>\n",
       "      <td>6125</td>\n",
       "      <td>race</td>\n",
       "      <td>nan</td>\n",
       "      <td>178</td>\n",
       "      <td>149</td>\n",
       "      <td>81</td>\n",
       "      <td>18</td>\n",
       "      <td>131</td>\n",
       "      <td>97</td>\n",
       "      <td>115</td>\n",
       "      <td>212</td>\n",
       "      <td>327</td>\n",
       "      <td>11227</td>\n",
       "    </tr>\n",
       "    <tr>\n",
       "      <th>6</th>\n",
       "      <td>1</td>\n",
       "      <td>binary 0/1</td>\n",
       "      <td>6125</td>\n",
       "      <td>gender</td>\n",
       "      <td>Female</td>\n",
       "      <td>3341</td>\n",
       "      <td>2581</td>\n",
       "      <td>1390</td>\n",
       "      <td>322</td>\n",
       "      <td>2259</td>\n",
       "      <td>1951</td>\n",
       "      <td>2273</td>\n",
       "      <td>3649</td>\n",
       "      <td>5922</td>\n",
       "      <td>11227</td>\n",
       "    </tr>\n",
       "    <tr>\n",
       "      <th>7</th>\n",
       "      <td>1</td>\n",
       "      <td>binary 0/1</td>\n",
       "      <td>6125</td>\n",
       "      <td>gender</td>\n",
       "      <td>Male</td>\n",
       "      <td>2784</td>\n",
       "      <td>2520</td>\n",
       "      <td>1129</td>\n",
       "      <td>339</td>\n",
       "      <td>2181</td>\n",
       "      <td>1655</td>\n",
       "      <td>1994</td>\n",
       "      <td>3310</td>\n",
       "      <td>5304</td>\n",
       "      <td>11227</td>\n",
       "    </tr>\n",
       "    <tr>\n",
       "      <th>8</th>\n",
       "      <td>1</td>\n",
       "      <td>binary 0/1</td>\n",
       "      <td>6125</td>\n",
       "      <td>gender</td>\n",
       "      <td>Unknown/Invalid</td>\n",
       "      <td>0</td>\n",
       "      <td>1</td>\n",
       "      <td>0</td>\n",
       "      <td>0</td>\n",
       "      <td>1</td>\n",
       "      <td>0</td>\n",
       "      <td>0</td>\n",
       "      <td>1</td>\n",
       "      <td>1</td>\n",
       "      <td>11227</td>\n",
       "    </tr>\n",
       "  </tbody>\n",
       "</table>\n",
       "</div>"
      ],
      "text/plain": [
       "   model_id score_threshold     k attribute_name  attribute_value    pp    pn  \\\n",
       "0         1      binary 0/1  6125           race  AfricanAmerican  1119   954   \n",
       "1         1      binary 0/1  6125           race            Asian    32    50   \n",
       "2         1      binary 0/1  6125           race        Caucasian  4569  3723   \n",
       "3         1      binary 0/1  6125           race         Hispanic   110   138   \n",
       "4         1      binary 0/1  6125           race            Other   117    88   \n",
       "5         1      binary 0/1  6125           race              nan   178   149   \n",
       "6         1      binary 0/1  6125         gender           Female  3341  2581   \n",
       "7         1      binary 0/1  6125         gender             Male  2784  2520   \n",
       "8         1      binary 0/1  6125         gender  Unknown/Invalid     0     1   \n",
       "\n",
       "     fp   fn    tn    tp  group_label_pos  group_label_neg  group_size  \\\n",
       "0   432  128   826   687              815             1258        2073   \n",
       "1    15    6    44    17               23               59          82   \n",
       "2  1897  485  3238  2672             3157             5135        8292   \n",
       "3    48   18   120    62               80              168         248   \n",
       "4    46    6    82    71               77              128         205   \n",
       "5    81   18   131    97              115              212         327   \n",
       "6  1390  322  2259  1951             2273             3649        5922   \n",
       "7  1129  339  2181  1655             1994             3310        5304   \n",
       "8     0    0     1     0                0                1           1   \n",
       "\n",
       "   total_entities  \n",
       "0           11227  \n",
       "1           11227  \n",
       "2           11227  \n",
       "3           11227  \n",
       "4           11227  \n",
       "5           11227  \n",
       "6           11227  \n",
       "7           11227  \n",
       "8           11227  "
      ]
     },
     "execution_count": 65,
     "metadata": {},
     "output_type": "execute_result"
    }
   ],
   "source": [
    "absolute_metrics = g.list_absolute_metrics(xtab)\n",
    "xtab[[col for col in xtab.columns if col not in absolute_metrics]]"
   ]
  },
  {
   "cell_type": "code",
   "execution_count": 66,
   "metadata": {},
   "outputs": [
    {
     "data": {
      "text/html": [
       "<div>\n",
       "<style scoped>\n",
       "    .dataframe tbody tr th:only-of-type {\n",
       "        vertical-align: middle;\n",
       "    }\n",
       "\n",
       "    .dataframe tbody tr th {\n",
       "        vertical-align: top;\n",
       "    }\n",
       "\n",
       "    .dataframe thead th {\n",
       "        text-align: right;\n",
       "    }\n",
       "</style>\n",
       "<table border=\"1\" class=\"dataframe\">\n",
       "  <thead>\n",
       "    <tr style=\"text-align: right;\">\n",
       "      <th></th>\n",
       "      <th>attribute_name</th>\n",
       "      <th>attribute_value</th>\n",
       "      <th>tpr</th>\n",
       "      <th>tnr</th>\n",
       "      <th>for</th>\n",
       "      <th>fdr</th>\n",
       "      <th>fpr</th>\n",
       "      <th>fnr</th>\n",
       "      <th>npv</th>\n",
       "      <th>precision</th>\n",
       "      <th>ppr</th>\n",
       "      <th>pprev</th>\n",
       "      <th>prev</th>\n",
       "    </tr>\n",
       "  </thead>\n",
       "  <tbody>\n",
       "    <tr>\n",
       "      <th>0</th>\n",
       "      <td>race</td>\n",
       "      <td>AfricanAmerican</td>\n",
       "      <td>0.84</td>\n",
       "      <td>0.66</td>\n",
       "      <td>0.13</td>\n",
       "      <td>0.39</td>\n",
       "      <td>0.34</td>\n",
       "      <td>0.16</td>\n",
       "      <td>0.87</td>\n",
       "      <td>0.61</td>\n",
       "      <td>0.18</td>\n",
       "      <td>0.54</td>\n",
       "      <td>0.39</td>\n",
       "    </tr>\n",
       "    <tr>\n",
       "      <th>1</th>\n",
       "      <td>race</td>\n",
       "      <td>Asian</td>\n",
       "      <td>0.74</td>\n",
       "      <td>0.75</td>\n",
       "      <td>0.12</td>\n",
       "      <td>0.47</td>\n",
       "      <td>0.25</td>\n",
       "      <td>0.26</td>\n",
       "      <td>0.88</td>\n",
       "      <td>0.53</td>\n",
       "      <td>0.01</td>\n",
       "      <td>0.39</td>\n",
       "      <td>0.28</td>\n",
       "    </tr>\n",
       "    <tr>\n",
       "      <th>2</th>\n",
       "      <td>race</td>\n",
       "      <td>Caucasian</td>\n",
       "      <td>0.85</td>\n",
       "      <td>0.63</td>\n",
       "      <td>0.13</td>\n",
       "      <td>0.42</td>\n",
       "      <td>0.37</td>\n",
       "      <td>0.15</td>\n",
       "      <td>0.87</td>\n",
       "      <td>0.58</td>\n",
       "      <td>0.75</td>\n",
       "      <td>0.55</td>\n",
       "      <td>0.38</td>\n",
       "    </tr>\n",
       "    <tr>\n",
       "      <th>3</th>\n",
       "      <td>race</td>\n",
       "      <td>Hispanic</td>\n",
       "      <td>0.78</td>\n",
       "      <td>0.71</td>\n",
       "      <td>0.13</td>\n",
       "      <td>0.44</td>\n",
       "      <td>0.29</td>\n",
       "      <td>0.22</td>\n",
       "      <td>0.87</td>\n",
       "      <td>0.56</td>\n",
       "      <td>0.02</td>\n",
       "      <td>0.44</td>\n",
       "      <td>0.32</td>\n",
       "    </tr>\n",
       "    <tr>\n",
       "      <th>4</th>\n",
       "      <td>race</td>\n",
       "      <td>Other</td>\n",
       "      <td>0.92</td>\n",
       "      <td>0.64</td>\n",
       "      <td>0.07</td>\n",
       "      <td>0.39</td>\n",
       "      <td>0.36</td>\n",
       "      <td>0.08</td>\n",
       "      <td>0.93</td>\n",
       "      <td>0.61</td>\n",
       "      <td>0.02</td>\n",
       "      <td>0.57</td>\n",
       "      <td>0.38</td>\n",
       "    </tr>\n",
       "    <tr>\n",
       "      <th>5</th>\n",
       "      <td>race</td>\n",
       "      <td>nan</td>\n",
       "      <td>0.84</td>\n",
       "      <td>0.62</td>\n",
       "      <td>0.12</td>\n",
       "      <td>0.46</td>\n",
       "      <td>0.38</td>\n",
       "      <td>0.16</td>\n",
       "      <td>0.88</td>\n",
       "      <td>0.54</td>\n",
       "      <td>0.03</td>\n",
       "      <td>0.54</td>\n",
       "      <td>0.35</td>\n",
       "    </tr>\n",
       "    <tr>\n",
       "      <th>6</th>\n",
       "      <td>gender</td>\n",
       "      <td>Female</td>\n",
       "      <td>0.86</td>\n",
       "      <td>0.62</td>\n",
       "      <td>0.12</td>\n",
       "      <td>0.42</td>\n",
       "      <td>0.38</td>\n",
       "      <td>0.14</td>\n",
       "      <td>0.88</td>\n",
       "      <td>0.58</td>\n",
       "      <td>0.55</td>\n",
       "      <td>0.56</td>\n",
       "      <td>0.38</td>\n",
       "    </tr>\n",
       "    <tr>\n",
       "      <th>7</th>\n",
       "      <td>gender</td>\n",
       "      <td>Male</td>\n",
       "      <td>0.83</td>\n",
       "      <td>0.66</td>\n",
       "      <td>0.13</td>\n",
       "      <td>0.41</td>\n",
       "      <td>0.34</td>\n",
       "      <td>0.17</td>\n",
       "      <td>0.87</td>\n",
       "      <td>0.59</td>\n",
       "      <td>0.45</td>\n",
       "      <td>0.52</td>\n",
       "      <td>0.38</td>\n",
       "    </tr>\n",
       "    <tr>\n",
       "      <th>8</th>\n",
       "      <td>gender</td>\n",
       "      <td>Unknown/Invalid</td>\n",
       "      <td>NaN</td>\n",
       "      <td>1.00</td>\n",
       "      <td>0.00</td>\n",
       "      <td>NaN</td>\n",
       "      <td>0.00</td>\n",
       "      <td>NaN</td>\n",
       "      <td>1.00</td>\n",
       "      <td>NaN</td>\n",
       "      <td>0.00</td>\n",
       "      <td>0.00</td>\n",
       "      <td>0.00</td>\n",
       "    </tr>\n",
       "  </tbody>\n",
       "</table>\n",
       "</div>"
      ],
      "text/plain": [
       "  attribute_name  attribute_value   tpr   tnr   for   fdr   fpr   fnr   npv  \\\n",
       "0           race  AfricanAmerican  0.84  0.66  0.13  0.39  0.34  0.16  0.87   \n",
       "1           race            Asian  0.74  0.75  0.12  0.47  0.25  0.26  0.88   \n",
       "2           race        Caucasian  0.85  0.63  0.13  0.42  0.37  0.15  0.87   \n",
       "3           race         Hispanic  0.78  0.71  0.13  0.44  0.29  0.22  0.87   \n",
       "4           race            Other  0.92  0.64  0.07  0.39  0.36  0.08  0.93   \n",
       "5           race              nan  0.84  0.62  0.12  0.46  0.38  0.16  0.88   \n",
       "6         gender           Female  0.86  0.62  0.12  0.42  0.38  0.14  0.88   \n",
       "7         gender             Male  0.83  0.66  0.13  0.41  0.34  0.17  0.87   \n",
       "8         gender  Unknown/Invalid   NaN  1.00  0.00   NaN  0.00   NaN  1.00   \n",
       "\n",
       "   precision   ppr  pprev  prev  \n",
       "0       0.61  0.18   0.54  0.39  \n",
       "1       0.53  0.01   0.39  0.28  \n",
       "2       0.58  0.75   0.55  0.38  \n",
       "3       0.56  0.02   0.44  0.32  \n",
       "4       0.61  0.02   0.57  0.38  \n",
       "5       0.54  0.03   0.54  0.35  \n",
       "6       0.58  0.55   0.56  0.38  \n",
       "7       0.59  0.45   0.52  0.38  \n",
       "8        NaN  0.00   0.00  0.00  "
      ]
     },
     "execution_count": 66,
     "metadata": {},
     "output_type": "execute_result"
    }
   ],
   "source": [
    "xtab[['attribute_name', 'attribute_value'] + absolute_metrics].round(2)"
   ]
  },
  {
   "cell_type": "code",
   "execution_count": 67,
   "metadata": {},
   "outputs": [
    {
     "data": {
      "image/png": "[encoded data removed]",
      "text/plain": [
       "<Figure size 1800x1296 with 6 Axes>"
      ]
     },
     "metadata": {
      "needs_background": "light"
     },
     "output_type": "display_data"
    }
   ],
   "source": [
    "p = aqp.plot_group_metric_all(xtab, metrics=['tpr', 'fpr', 'ppr', 'pprev', 'fnr'], ncols=2)"
   ]
  },
  {
   "cell_type": "markdown",
   "metadata": {},
   "source": [
    "## Reference Group Selection"
   ]
  },
  {
   "cell_type": "markdown",
   "metadata": {},
   "source": [
    "Below we have chosen the reference group for our analysis but feel free to select another one."
   ]
  },
  {
   "cell_type": "code",
   "execution_count": 64,
   "metadata": {},
   "outputs": [
    {
     "name": "stdout",
     "output_type": "stream",
     "text": [
      "get_disparity_predefined_group()\n"
     ]
    },
    {
     "name": "stderr",
     "output_type": "stream",
     "text": [
      "/opt/conda/lib/python3.7/site-packages/aequitas/bias.py:368: FutureWarning: The pandas.np module is deprecated and will be removed from pandas in a future version. Import numpy directly instead\n",
      "  df = df.replace(pd.np.inf, fill_divbyzero)\n",
      "/opt/conda/lib/python3.7/site-packages/aequitas/fairness.py:32: FutureWarning: The pandas.np module is deprecated and will be removed from pandas in a future version. Import numpy directly instead\n",
      "  self.fair_eval = lambda tau: lambda x: pd.np.nan if pd.np.isnan(x) else \\\n",
      "/opt/conda/lib/python3.7/site-packages/aequitas/fairness.py:45: FutureWarning: The pandas.np module is deprecated and will be removed from pandas in a future version. Import numpy directly instead\n",
      "  self.high_level_pair_eval = lambda col1, col2: lambda x: pd.np.nan if (pd.np.isnan(x[col1]) and pd.np.isnan(x[col2])) \\\n"
     ]
    }
   ],
   "source": [
    "# test reference group with Caucasian Male\n",
    "bdf = b.get_disparity_predefined_groups(clean_xtab, \n",
    "                    original_df=ae_df, \n",
    "                    ref_groups_dict={'race':'Caucasian', 'gender':'Male'\n",
    "                                     }, \n",
    "                    alpha=0.05, \n",
    "                    check_significance=False)\n",
    "\n",
    "\n",
    "f = Fairness()\n",
    "fdf = f.get_group_value_fairness(bdf)"
   ]
  },
  {
   "cell_type": "markdown",
   "metadata": {},
   "source": [
    "## Race and Gender Bias Analysis for Patient Selection"
   ]
  },
  {
   "cell_type": "markdown",
   "metadata": {},
   "source": [
    "**Question 12**: For the gender and race fields, please plot two metrics that are important for patient selection below and state whether there is a significant bias in your model across any of the groups along with justification for your statement."
   ]
  },
  {
   "cell_type": "code",
   "execution_count": 69,
   "metadata": {},
   "outputs": [
    {
     "data": {
      "image/png": "[encoded data removed]",
      "text/plain": [
       "<Figure size 360x288 with 2 Axes>"
      ]
     },
     "metadata": {
      "needs_background": "light"
     },
     "output_type": "display_data"
    }
   ],
   "source": [
    "fpr_disparity = aqp.plot_disparity(bdf, group_metric='fpr_disparity', \n",
    "                                       attribute_name='race')"
   ]
  },
  {
   "cell_type": "markdown",
   "metadata": {},
   "source": [
    "**Except for Caucasians other races are less likely to be falsely identified**"
   ]
  },
  {
   "cell_type": "code",
   "execution_count": 70,
   "metadata": {},
   "outputs": [
    {
     "data": {
      "image/png": "[encoded data removed]",
      "text/plain": [
       "<Figure size 360x288 with 2 Axes>"
      ]
     },
     "metadata": {
      "needs_background": "light"
     },
     "output_type": "display_data"
    }
   ],
   "source": [
    "fpr_disparity = aqp.plot_disparity(bdf, group_metric='fpr_disparity', \n",
    "                                       attribute_name='gender')"
   ]
  },
  {
   "cell_type": "markdown",
   "metadata": {},
   "source": [
    "**Females are 1.12X likely to be falsely identified compared to males**"
   ]
  },
  {
   "cell_type": "markdown",
   "metadata": {},
   "source": [
    "## Fairness Analysis Example - Relative to a Reference Group "
   ]
  },
  {
   "cell_type": "markdown",
   "metadata": {},
   "source": [
    "**Question 13**: Earlier we defined our reference group and then calculated disparity metrics relative to this grouping. Please provide a visualization of the fairness evaluation for this reference group and analyze whether there is disparity."
   ]
  },
  {
   "cell_type": "code",
   "execution_count": 71,
   "metadata": {},
   "outputs": [
    {
     "data": {
      "image/png": "[encoded data removed]",
      "text/plain": [
       "<Figure size 720x360 with 1 Axes>"
      ]
     },
     "metadata": {
      "needs_background": "light"
     },
     "output_type": "display_data"
    }
   ],
   "source": [
    "fpr_fairness = aqp.plot_fairness_group(fdf, group_metric='fpr', title=True)"
   ]
  },
  {
   "cell_type": "markdown",
   "metadata": {},
   "source": [
    "**Compared to Caucasians, other race groups have lower false positive rates.  Compared to males, females have a slightly higher false positive rate.** "
   ]
  },
  {
   "cell_type": "code",
   "execution_count": null,
   "metadata": {},
   "outputs": [],
   "source": []
  }
 ],
 "metadata": {
  "kernelspec": {
   "display_name": "Python 3",
   "language": "python",
   "name": "python3"
  },
  "language_info": {
   "codemirror_mode": {
    "name": "ipython",
    "version": 3
   },
   "file_extension": ".py",
   "mimetype": "text/x-python",
   "name": "python",
   "nbconvert_exporter": "python",
   "pygments_lexer": "ipython3",
   "version": "3.7.2"
  }
 },
 "nbformat": 4,
 "nbformat_minor": 2
}
