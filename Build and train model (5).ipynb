{
 "cells": [
  {
   "cell_type": "markdown",
   "metadata": {},
   "source": [
    "## Skeleton Code\n",
    "\n",
    "The code below provides a skeleton for the model building & training component of your project. You can add/remove/build on code however you see fit, this is meant as a starting point."
   ]
  },
  {
   "cell_type": "code",
   "execution_count": 1,
   "metadata": {},
   "outputs": [
    {
     "name": "stderr",
     "output_type": "stream",
     "text": [
      "Using TensorFlow backend.\n"
     ]
    }
   ],
   "source": [
    "##Importing required stats/DL/ML packages. E.g. Keras, scikit-learn, etc.\n",
    "\n",
    "%matplotlib inline\n",
    "\n",
    "import numpy as np # linear algebra\n",
    "import pandas as pd # data processing, CSV file I/O (e.g. pd.read_csv)\n",
    "import matplotlib.pyplot as plt\n",
    "import os\n",
    "import scipy\n",
    "import seaborn as sns\n",
    "import sklearn.model_selection as skl\n",
    "import tensorflow as tf\n",
    "\n",
    "from glob import glob\n",
    "from random import sample\n",
    "from itertools import chain\n",
    "from random import sample \n",
    "from skimage import io\n",
    "\n",
    "from keras.preprocessing.image import ImageDataGenerator\n",
    "from keras.layers import GlobalAveragePooling2D, Dense, Dropout, Flatten, Conv2D, MaxPooling2D\n",
    "from keras.models import Sequential, Model\n",
    "from keras.applications.vgg16 import VGG16\n",
    "from keras.applications.resnet import ResNet50 \n",
    "from keras.optimizers import Adam\n",
    "from keras.callbacks import ModelCheckpoint, LearningRateScheduler, EarlyStopping, ReduceLROnPlateau"
   ]
  },
  {
   "cell_type": "markdown",
   "metadata": {},
   "source": [
    "## Do some early processing of your metadata for easier model training:"
   ]
  },
  {
   "cell_type": "code",
   "execution_count": 2,
   "metadata": {
    "scrolled": true
   },
   "outputs": [
    {
     "data": {
      "text/html": [
       "<div>\n",
       "<style scoped>\n",
       "    .dataframe tbody tr th:only-of-type {\n",
       "        vertical-align: middle;\n",
       "    }\n",
       "\n",
       "    .dataframe tbody tr th {\n",
       "        vertical-align: top;\n",
       "    }\n",
       "\n",
       "    .dataframe thead th {\n",
       "        text-align: right;\n",
       "    }\n",
       "</style>\n",
       "<table border=\"1\" class=\"dataframe\">\n",
       "  <thead>\n",
       "    <tr style=\"text-align: right;\">\n",
       "      <th></th>\n",
       "      <th>Image Index</th>\n",
       "      <th>Finding Labels</th>\n",
       "      <th>Follow-up #</th>\n",
       "      <th>Patient ID</th>\n",
       "      <th>Patient Age</th>\n",
       "      <th>Patient Gender</th>\n",
       "      <th>View Position</th>\n",
       "      <th>OriginalImage[Width</th>\n",
       "      <th>Height]</th>\n",
       "      <th>OriginalImagePixelSpacing[x</th>\n",
       "      <th>y]</th>\n",
       "      <th>Unnamed: 11</th>\n",
       "    </tr>\n",
       "  </thead>\n",
       "  <tbody>\n",
       "    <tr>\n",
       "      <th>0</th>\n",
       "      <td>00000001_000.png</td>\n",
       "      <td>Cardiomegaly</td>\n",
       "      <td>0</td>\n",
       "      <td>1</td>\n",
       "      <td>58</td>\n",
       "      <td>M</td>\n",
       "      <td>PA</td>\n",
       "      <td>2682</td>\n",
       "      <td>2749</td>\n",
       "      <td>0.143</td>\n",
       "      <td>0.143</td>\n",
       "      <td>NaN</td>\n",
       "    </tr>\n",
       "    <tr>\n",
       "      <th>1</th>\n",
       "      <td>00000001_001.png</td>\n",
       "      <td>Cardiomegaly|Emphysema</td>\n",
       "      <td>1</td>\n",
       "      <td>1</td>\n",
       "      <td>58</td>\n",
       "      <td>M</td>\n",
       "      <td>PA</td>\n",
       "      <td>2894</td>\n",
       "      <td>2729</td>\n",
       "      <td>0.143</td>\n",
       "      <td>0.143</td>\n",
       "      <td>NaN</td>\n",
       "    </tr>\n",
       "    <tr>\n",
       "      <th>2</th>\n",
       "      <td>00000001_002.png</td>\n",
       "      <td>Cardiomegaly|Effusion</td>\n",
       "      <td>2</td>\n",
       "      <td>1</td>\n",
       "      <td>58</td>\n",
       "      <td>M</td>\n",
       "      <td>PA</td>\n",
       "      <td>2500</td>\n",
       "      <td>2048</td>\n",
       "      <td>0.168</td>\n",
       "      <td>0.168</td>\n",
       "      <td>NaN</td>\n",
       "    </tr>\n",
       "  </tbody>\n",
       "</table>\n",
       "</div>"
      ],
      "text/plain": [
       "        Image Index          Finding Labels  Follow-up #  Patient ID  \\\n",
       "0  00000001_000.png            Cardiomegaly            0           1   \n",
       "1  00000001_001.png  Cardiomegaly|Emphysema            1           1   \n",
       "2  00000001_002.png   Cardiomegaly|Effusion            2           1   \n",
       "\n",
       "   Patient Age Patient Gender View Position  OriginalImage[Width  Height]  \\\n",
       "0           58              M            PA                 2682     2749   \n",
       "1           58              M            PA                 2894     2729   \n",
       "2           58              M            PA                 2500     2048   \n",
       "\n",
       "   OriginalImagePixelSpacing[x     y]  Unnamed: 11  \n",
       "0                        0.143  0.143          NaN  \n",
       "1                        0.143  0.143          NaN  \n",
       "2                        0.168  0.168          NaN  "
      ]
     },
     "execution_count": 2,
     "metadata": {},
     "output_type": "execute_result"
    }
   ],
   "source": [
    "## Loading the NIH data to all_xray_df\n",
    "all_xray_df = pd.read_csv('/data/Data_Entry_2017.csv')\n",
    "all_xray_df.head(3)"
   ]
  },
  {
   "cell_type": "code",
   "execution_count": 3,
   "metadata": {},
   "outputs": [
    {
     "name": "stdout",
     "output_type": "stream",
     "text": [
      "All Labels (15): ['Atelectasis', 'Cardiomegaly', 'Consolidation', 'Edema', 'Effusion', 'Emphysema', 'Fibrosis', 'Hernia', 'Infiltration', 'Mass', 'No Finding', 'Nodule', 'Pleural_Thickening', 'Pneumonia', 'Pneumothorax']\n"
     ]
    },
    {
     "data": {
      "text/html": [
       "<div>\n",
       "<style scoped>\n",
       "    .dataframe tbody tr th:only-of-type {\n",
       "        vertical-align: middle;\n",
       "    }\n",
       "\n",
       "    .dataframe tbody tr th {\n",
       "        vertical-align: top;\n",
       "    }\n",
       "\n",
       "    .dataframe thead th {\n",
       "        text-align: right;\n",
       "    }\n",
       "</style>\n",
       "<table border=\"1\" class=\"dataframe\">\n",
       "  <thead>\n",
       "    <tr style=\"text-align: right;\">\n",
       "      <th></th>\n",
       "      <th>Image Index</th>\n",
       "      <th>Finding Labels</th>\n",
       "      <th>Follow-up #</th>\n",
       "      <th>Patient ID</th>\n",
       "      <th>Patient Age</th>\n",
       "      <th>Patient Gender</th>\n",
       "      <th>View Position</th>\n",
       "      <th>OriginalImage[Width</th>\n",
       "      <th>Height]</th>\n",
       "      <th>OriginalImagePixelSpacing[x</th>\n",
       "      <th>...</th>\n",
       "      <th>Emphysema</th>\n",
       "      <th>Fibrosis</th>\n",
       "      <th>Hernia</th>\n",
       "      <th>Infiltration</th>\n",
       "      <th>Mass</th>\n",
       "      <th>No Finding</th>\n",
       "      <th>Nodule</th>\n",
       "      <th>Pleural_Thickening</th>\n",
       "      <th>Pneumonia</th>\n",
       "      <th>Pneumothorax</th>\n",
       "    </tr>\n",
       "  </thead>\n",
       "  <tbody>\n",
       "    <tr>\n",
       "      <th>0</th>\n",
       "      <td>00000001_000.png</td>\n",
       "      <td>Cardiomegaly</td>\n",
       "      <td>0</td>\n",
       "      <td>1</td>\n",
       "      <td>58</td>\n",
       "      <td>M</td>\n",
       "      <td>PA</td>\n",
       "      <td>2682</td>\n",
       "      <td>2749</td>\n",
       "      <td>0.143</td>\n",
       "      <td>...</td>\n",
       "      <td>0</td>\n",
       "      <td>0</td>\n",
       "      <td>0</td>\n",
       "      <td>0</td>\n",
       "      <td>0</td>\n",
       "      <td>0</td>\n",
       "      <td>0</td>\n",
       "      <td>0</td>\n",
       "      <td>0</td>\n",
       "      <td>0</td>\n",
       "    </tr>\n",
       "    <tr>\n",
       "      <th>1</th>\n",
       "      <td>00000001_001.png</td>\n",
       "      <td>Cardiomegaly|Emphysema</td>\n",
       "      <td>1</td>\n",
       "      <td>1</td>\n",
       "      <td>58</td>\n",
       "      <td>M</td>\n",
       "      <td>PA</td>\n",
       "      <td>2894</td>\n",
       "      <td>2729</td>\n",
       "      <td>0.143</td>\n",
       "      <td>...</td>\n",
       "      <td>1</td>\n",
       "      <td>0</td>\n",
       "      <td>0</td>\n",
       "      <td>0</td>\n",
       "      <td>0</td>\n",
       "      <td>0</td>\n",
       "      <td>0</td>\n",
       "      <td>0</td>\n",
       "      <td>0</td>\n",
       "      <td>0</td>\n",
       "    </tr>\n",
       "    <tr>\n",
       "      <th>2</th>\n",
       "      <td>00000001_002.png</td>\n",
       "      <td>Cardiomegaly|Effusion</td>\n",
       "      <td>2</td>\n",
       "      <td>1</td>\n",
       "      <td>58</td>\n",
       "      <td>M</td>\n",
       "      <td>PA</td>\n",
       "      <td>2500</td>\n",
       "      <td>2048</td>\n",
       "      <td>0.168</td>\n",
       "      <td>...</td>\n",
       "      <td>0</td>\n",
       "      <td>0</td>\n",
       "      <td>0</td>\n",
       "      <td>0</td>\n",
       "      <td>0</td>\n",
       "      <td>0</td>\n",
       "      <td>0</td>\n",
       "      <td>0</td>\n",
       "      <td>0</td>\n",
       "      <td>0</td>\n",
       "    </tr>\n",
       "  </tbody>\n",
       "</table>\n",
       "<p>3 rows × 27 columns</p>\n",
       "</div>"
      ],
      "text/plain": [
       "        Image Index          Finding Labels  Follow-up #  Patient ID  \\\n",
       "0  00000001_000.png            Cardiomegaly            0           1   \n",
       "1  00000001_001.png  Cardiomegaly|Emphysema            1           1   \n",
       "2  00000001_002.png   Cardiomegaly|Effusion            2           1   \n",
       "\n",
       "   Patient Age Patient Gender View Position  OriginalImage[Width  Height]  \\\n",
       "0           58              M            PA                 2682     2749   \n",
       "1           58              M            PA                 2894     2729   \n",
       "2           58              M            PA                 2500     2048   \n",
       "\n",
       "   OriginalImagePixelSpacing[x  ...  Emphysema  Fibrosis  Hernia  \\\n",
       "0                        0.143  ...          0         0       0   \n",
       "1                        0.143  ...          1         0       0   \n",
       "2                        0.168  ...          0         0       0   \n",
       "\n",
       "   Infiltration  Mass  No Finding  Nodule  Pleural_Thickening  Pneumonia  \\\n",
       "0             0     0           0       0                   0          0   \n",
       "1             0     0           0       0                   0          0   \n",
       "2             0     0           0       0                   0          0   \n",
       "\n",
       "   Pneumothorax  \n",
       "0             0  \n",
       "1             0  \n",
       "2             0  \n",
       "\n",
       "[3 rows x 27 columns]"
      ]
     },
     "execution_count": 3,
     "metadata": {},
     "output_type": "execute_result"
    }
   ],
   "source": [
    "## Creating extra columns in table with binary indicators of certain diseases \n",
    "\n",
    "all_labels = np.unique(list(chain(*all_xray_df['Finding Labels'].map(lambda x: x.split('|')).tolist())))\n",
    "all_labels = [x for x in all_labels if len(x)>0]\n",
    "print('All Labels ({}): {}'.format(len(all_labels), all_labels))\n",
    "for c_label in all_labels:\n",
    "    if len(c_label)>1: # leave out empty labels\n",
    "        all_xray_df[c_label] = all_xray_df['Finding Labels'].map(lambda finding: 1 if c_label in finding else 0)\n",
    "all_xray_df.head(3)"
   ]
  },
  {
   "cell_type": "code",
   "execution_count": 4,
   "metadata": {},
   "outputs": [
    {
     "name": "stdout",
     "output_type": "stream",
     "text": [
      "Scans found: 112120 , Total Headers 112120\n"
     ]
    },
    {
     "data": {
      "text/html": [
       "<div>\n",
       "<style scoped>\n",
       "    .dataframe tbody tr th:only-of-type {\n",
       "        vertical-align: middle;\n",
       "    }\n",
       "\n",
       "    .dataframe tbody tr th {\n",
       "        vertical-align: top;\n",
       "    }\n",
       "\n",
       "    .dataframe thead th {\n",
       "        text-align: right;\n",
       "    }\n",
       "</style>\n",
       "<table border=\"1\" class=\"dataframe\">\n",
       "  <thead>\n",
       "    <tr style=\"text-align: right;\">\n",
       "      <th></th>\n",
       "      <th>Image Index</th>\n",
       "      <th>Finding Labels</th>\n",
       "      <th>Follow-up #</th>\n",
       "      <th>Patient ID</th>\n",
       "      <th>Patient Age</th>\n",
       "      <th>Patient Gender</th>\n",
       "      <th>View Position</th>\n",
       "      <th>OriginalImage[Width</th>\n",
       "      <th>Height]</th>\n",
       "      <th>OriginalImagePixelSpacing[x</th>\n",
       "      <th>...</th>\n",
       "      <th>Fibrosis</th>\n",
       "      <th>Hernia</th>\n",
       "      <th>Infiltration</th>\n",
       "      <th>Mass</th>\n",
       "      <th>No Finding</th>\n",
       "      <th>Nodule</th>\n",
       "      <th>Pleural_Thickening</th>\n",
       "      <th>Pneumonia</th>\n",
       "      <th>Pneumothorax</th>\n",
       "      <th>Image_Path</th>\n",
       "    </tr>\n",
       "  </thead>\n",
       "  <tbody>\n",
       "    <tr>\n",
       "      <th>0</th>\n",
       "      <td>00000001_000.png</td>\n",
       "      <td>Cardiomegaly</td>\n",
       "      <td>0</td>\n",
       "      <td>1</td>\n",
       "      <td>58</td>\n",
       "      <td>M</td>\n",
       "      <td>PA</td>\n",
       "      <td>2682</td>\n",
       "      <td>2749</td>\n",
       "      <td>0.143</td>\n",
       "      <td>...</td>\n",
       "      <td>0</td>\n",
       "      <td>0</td>\n",
       "      <td>0</td>\n",
       "      <td>0</td>\n",
       "      <td>0</td>\n",
       "      <td>0</td>\n",
       "      <td>0</td>\n",
       "      <td>0</td>\n",
       "      <td>0</td>\n",
       "      <td>/data/images_001/images/00000001_000.png</td>\n",
       "    </tr>\n",
       "    <tr>\n",
       "      <th>1</th>\n",
       "      <td>00000001_001.png</td>\n",
       "      <td>Cardiomegaly|Emphysema</td>\n",
       "      <td>1</td>\n",
       "      <td>1</td>\n",
       "      <td>58</td>\n",
       "      <td>M</td>\n",
       "      <td>PA</td>\n",
       "      <td>2894</td>\n",
       "      <td>2729</td>\n",
       "      <td>0.143</td>\n",
       "      <td>...</td>\n",
       "      <td>0</td>\n",
       "      <td>0</td>\n",
       "      <td>0</td>\n",
       "      <td>0</td>\n",
       "      <td>0</td>\n",
       "      <td>0</td>\n",
       "      <td>0</td>\n",
       "      <td>0</td>\n",
       "      <td>0</td>\n",
       "      <td>/data/images_001/images/00000001_001.png</td>\n",
       "    </tr>\n",
       "    <tr>\n",
       "      <th>2</th>\n",
       "      <td>00000001_002.png</td>\n",
       "      <td>Cardiomegaly|Effusion</td>\n",
       "      <td>2</td>\n",
       "      <td>1</td>\n",
       "      <td>58</td>\n",
       "      <td>M</td>\n",
       "      <td>PA</td>\n",
       "      <td>2500</td>\n",
       "      <td>2048</td>\n",
       "      <td>0.168</td>\n",
       "      <td>...</td>\n",
       "      <td>0</td>\n",
       "      <td>0</td>\n",
       "      <td>0</td>\n",
       "      <td>0</td>\n",
       "      <td>0</td>\n",
       "      <td>0</td>\n",
       "      <td>0</td>\n",
       "      <td>0</td>\n",
       "      <td>0</td>\n",
       "      <td>/data/images_001/images/00000001_002.png</td>\n",
       "    </tr>\n",
       "  </tbody>\n",
       "</table>\n",
       "<p>3 rows × 28 columns</p>\n",
       "</div>"
      ],
      "text/plain": [
       "        Image Index          Finding Labels  Follow-up #  Patient ID  \\\n",
       "0  00000001_000.png            Cardiomegaly            0           1   \n",
       "1  00000001_001.png  Cardiomegaly|Emphysema            1           1   \n",
       "2  00000001_002.png   Cardiomegaly|Effusion            2           1   \n",
       "\n",
       "   Patient Age Patient Gender View Position  OriginalImage[Width  Height]  \\\n",
       "0           58              M            PA                 2682     2749   \n",
       "1           58              M            PA                 2894     2729   \n",
       "2           58              M            PA                 2500     2048   \n",
       "\n",
       "   OriginalImagePixelSpacing[x  ...  Fibrosis  Hernia  Infiltration  Mass  \\\n",
       "0                        0.143  ...         0       0             0     0   \n",
       "1                        0.143  ...         0       0             0     0   \n",
       "2                        0.168  ...         0       0             0     0   \n",
       "\n",
       "   No Finding  Nodule  Pleural_Thickening  Pneumonia  Pneumothorax  \\\n",
       "0           0       0                   0          0             0   \n",
       "1           0       0                   0          0             0   \n",
       "2           0       0                   0          0             0   \n",
       "\n",
       "                                 Image_Path  \n",
       "0  /data/images_001/images/00000001_000.png  \n",
       "1  /data/images_001/images/00000001_001.png  \n",
       "2  /data/images_001/images/00000001_002.png  \n",
       "\n",
       "[3 rows x 28 columns]"
      ]
     },
     "execution_count": 4,
     "metadata": {},
     "output_type": "execute_result"
    }
   ],
   "source": [
    "## Below is some helper code to read all of your full image filepaths into a dataframe for easier manipulation\n",
    "\n",
    "all_image_paths = {os.path.basename(x): x for x in \n",
    "                   glob(os.path.join('/data','images*', '*', '*.png'))}\n",
    "\n",
    "print('Scans found:', len(all_image_paths), ', Total Headers', all_xray_df.shape[0])\n",
    "all_xray_df['Image_Path'] = all_xray_df['Image Index'].map(all_image_paths.get)\n",
    "all_xray_df.head(3)"
   ]
  },
  {
   "cell_type": "markdown",
   "metadata": {},
   "source": [
    "## Create your training and testing data:"
   ]
  },
  {
   "cell_type": "code",
   "execution_count": null,
   "metadata": {},
   "outputs": [],
   "source": [
    "def create_splits():\n",
    "    \n",
    "    ## Either build your own or use a built-in library to split your original dataframe into two sets \n",
    "    ## that can be used for training and testing your model\n",
    "    ## It's important to consider here how balanced or imbalanced you want each of those sets to be\n",
    "    ## for the presence of pneumonia\n",
    "    \n",
    "\n",
    "   \n",
    "    return train_df, valid_df"
   ]
  },
  {
   "cell_type": "code",
   "execution_count": 5,
   "metadata": {},
   "outputs": [],
   "source": [
    "train_df, valid_df = skl.train_test_split(all_xray_df, \n",
    "                                   test_size = 0.2, \n",
    "                                   stratify = all_xray_df['Pneumonia'])"
   ]
  },
  {
   "cell_type": "code",
   "execution_count": 6,
   "metadata": {},
   "outputs": [
    {
     "data": {
      "text/plain": [
       "0.012765340706386016"
      ]
     },
     "execution_count": 6,
     "metadata": {},
     "output_type": "execute_result"
    }
   ],
   "source": [
    "train_df['Pneumonia'].sum()/len(train_df)"
   ]
  },
  {
   "cell_type": "code",
   "execution_count": 7,
   "metadata": {},
   "outputs": [
    {
     "data": {
      "text/plain": [
       "0.012754191937210132"
      ]
     },
     "execution_count": 7,
     "metadata": {},
     "output_type": "execute_result"
    }
   ],
   "source": [
    "valid_df['Pneumonia'].sum()/len(valid_df)"
   ]
  },
  {
   "cell_type": "code",
   "execution_count": 8,
   "metadata": {},
   "outputs": [],
   "source": [
    "p_inds = train_df[train_df.Pneumonia==1].index.tolist()\n",
    "np_inds = train_df[train_df.Pneumonia==0].index.tolist()\n",
    "\n",
    "np_sample = sample(np_inds,len(p_inds))\n",
    "train_df = train_df.loc[p_inds + np_sample]"
   ]
  },
  {
   "cell_type": "code",
   "execution_count": 9,
   "metadata": {},
   "outputs": [
    {
     "data": {
      "text/plain": [
       "0.5"
      ]
     },
     "execution_count": 9,
     "metadata": {},
     "output_type": "execute_result"
    }
   ],
   "source": [
    "train_df['Pneumonia'].sum()/len(train_df)"
   ]
  },
  {
   "cell_type": "code",
   "execution_count": 10,
   "metadata": {},
   "outputs": [],
   "source": [
    "p_inds = valid_df[valid_df.Pneumonia==1].index.tolist()\n",
    "np_inds = valid_df[valid_df.Pneumonia==0].index.tolist()\n",
    "\n",
    "np_sample = sample(np_inds,len(p_inds))\n",
    "valid_df = valid_df.loc[p_inds + np_sample]"
   ]
  },
  {
   "cell_type": "code",
   "execution_count": 11,
   "metadata": {},
   "outputs": [
    {
     "data": {
      "text/plain": [
       "0.5"
      ]
     },
     "execution_count": 11,
     "metadata": {},
     "output_type": "execute_result"
    }
   ],
   "source": [
    "valid_df['Pneumonia'].sum()/len(valid_df)"
   ]
  },
  {
   "cell_type": "code",
   "execution_count": null,
   "metadata": {},
   "outputs": [],
   "source": [
    "def check_for_image_in_train_valid(train_df, valid_df):\n",
    "    \n",
    "    \n",
    "    train_df_image_unique = set(train_df['Image Index'].values)\n",
    "    valid_df_image_unique = set(valid_df['Image Index'].values)\n",
    "    \n",
    "    \n",
    "    image_in_both_sets = list(train_df_image_unique.intersection(valid_df_image_unique))\n",
    "\n",
    "    \n",
    "    if (len(image_in_both_sets)!=0):\n",
    "        duplicate = True\n",
    "    else:\n",
    "        duplicate = False\n",
    "    \n",
    "    return duplicate"
   ]
  },
  {
   "cell_type": "code",
   "execution_count": null,
   "metadata": {},
   "outputs": [],
   "source": [
    "check_for_image_in_train_valid(train_df, valid_df)"
   ]
  },
  {
   "cell_type": "code",
   "execution_count": null,
   "metadata": {},
   "outputs": [],
   "source": [
    "def check_for_patient_in_train_valid(train_df, valid_df):\n",
    "    \n",
    "    \n",
    "    train_df_patients_unique = set(train_df['Patient ID'].values)\n",
    "    valid_df_patients_unique = set(valid_df['Patient ID'].values)\n",
    "    \n",
    "    \n",
    "    patients_in_both_sets = list(train_df_patients_unique.intersection(valid_df_patients_unique))\n",
    "\n",
    "    \n",
    "    if (len(patients_in_both_sets)!=0):\n",
    "        duplicate = True\n",
    "    else:\n",
    "        duplicate = False\n",
    "    \n",
    "    return duplicate"
   ]
  },
  {
   "cell_type": "code",
   "execution_count": null,
   "metadata": {},
   "outputs": [],
   "source": [
    "check_for_patient_in_train_valid(train_df, valid_df)"
   ]
  },
  {
   "cell_type": "markdown",
   "metadata": {},
   "source": [
    "# Now we can begin our model-building & training"
   ]
  },
  {
   "cell_type": "markdown",
   "metadata": {},
   "source": [
    "#First suggestion: perform some image augmentation on your data"
   ]
  },
  {
   "cell_type": "code",
   "execution_count": null,
   "metadata": {
    "scrolled": false
   },
   "outputs": [],
   "source": [
    "#First, let's look at what our plan images look like\n",
    "\n",
    "fig, m_axs = plt.subplots(5,4, figsize = (16, 16))\n",
    "m_axs = m_axs.flatten()\n",
    "plt.tight_layout()\n",
    "imgs = all_xray_df['Image_Path']\n",
    "ind=0\n",
    "\n",
    "for img, ax in zip(imgs, m_axs):\n",
    "    img = io.imread(img)\n",
    "    ax.imshow(img,cmap='bone')\n",
    "    ax.set_title(all_xray_df.iloc[ind]['Pneumonia'])\n",
    "    ind=ind+1"
   ]
  },
  {
   "cell_type": "code",
   "execution_count": null,
   "metadata": {},
   "outputs": [],
   "source": [
    "## you can choose an image size to resize your images to during augmentation, which comes in handy later when you\n",
    "## want to do deep learning using a pre-trained CNN that has a specified size input layer\n",
    "#IMG_SIZE = (320, 320)"
   ]
  },
  {
   "cell_type": "code",
   "execution_count": 12,
   "metadata": {},
   "outputs": [],
   "source": [
    "def get_train_gen(train_df, image_dir, x_cols, y_cols, shuffle=True, batch_size=64, seed=1, target_w = 224, target_h = 224):\n",
    "    print(\"getting train generator...\") \n",
    "    # normalize images\n",
    "    image_gen = ImageDataGenerator(rescale=1./255, \n",
    "                                         zoom_range=0.3, \n",
    "                                         vertical_flip=True,\n",
    "                                         samplewise_center=True,\n",
    "                                         samplewise_std_normalization= True)\n",
    "    \n",
    "    # flow from directory with specified batch size\n",
    "    # and target image size\n",
    "    train_gen = image_gen.flow_from_dataframe(\n",
    "            dataframe=train_df,\n",
    "            directory=image_dir,\n",
    "            x_col=x_cols,\n",
    "            y_col=y_cols,\n",
    "            class_mode=\"raw\",\n",
    "            shuffle=shuffle,\n",
    "            batch_size=batch_size,\n",
    "            seed=seed,\n",
    "            target_size=(target_w,target_h))\n",
    "    \n",
    "    return train_gen\n"
   ]
  },
  {
   "cell_type": "code",
   "execution_count": 13,
   "metadata": {},
   "outputs": [],
   "source": [
    "def get_valid_gen(valid_df, train_df, image_dir, x_cols, y_cols, sample_size=64, batch_size=32, seed=1, target_w = 224, target_h = 224):\n",
    "    print(\"getting valid generators...\")\n",
    "\n",
    "    # get data sample\n",
    "    batch = train_gen.next()\n",
    "    data_sample = batch[0]\n",
    "\n",
    "    # use sample to fit mean and std for test set generator\n",
    "    image_gen = ImageDataGenerator(rescale=1./255,\n",
    "                                    featurewise_center=True,\n",
    "                                    featurewise_std_normalization= True)\n",
    "    \n",
    "    # fit generator to sample from training data\n",
    "    image_gen.fit(data_sample)\n",
    "\n",
    "    # get test generator\n",
    "    valid_gen = image_gen.flow_from_dataframe(\n",
    "            dataframe=valid_df,\n",
    "            directory=image_dir,\n",
    "            x_col=x_cols,\n",
    "            y_col=y_cols,\n",
    "            class_mode=\"raw\",\n",
    "            batch_size=batch_size,\n",
    "            shuffle=False,\n",
    "            seed=seed,\n",
    "            target_size=(target_w,target_h))\n",
    "\n",
    "    return valid_gen"
   ]
  },
  {
   "cell_type": "code",
   "execution_count": 14,
   "metadata": {},
   "outputs": [
    {
     "name": "stdout",
     "output_type": "stream",
     "text": [
      "getting train generator...\n",
      "Found 2290 validated image filenames.\n",
      "getting valid generators...\n",
      "Found 572 validated image filenames.\n"
     ]
    }
   ],
   "source": [
    "train_gen = get_train_gen(train_df, None, 'Image_Path', 'Pneumonia')\n",
    "valid_gen= get_valid_gen(valid_df, train_df, None, 'Image_Path', 'Pneumonia')"
   ]
  },
  {
   "cell_type": "code",
   "execution_count": 15,
   "metadata": {},
   "outputs": [],
   "source": [
    "valX, valY = valid_gen.next()"
   ]
  },
  {
   "cell_type": "code",
   "execution_count": 16,
   "metadata": {
    "scrolled": true
   },
   "outputs": [
    {
     "data": {
      "text/plain": [
       "array([[[[ 4.7098301e-02,  4.7098301e-02,  4.7098301e-02],\n",
       "         [ 4.7098301e-02,  4.7098301e-02,  4.7098301e-02],\n",
       "         [ 6.2797837e-02,  6.2797837e-02,  6.2797837e-02],\n",
       "         ...,\n",
       "         [ 1.9624108e-02,  1.9624108e-02,  1.9624108e-02],\n",
       "         [ 1.9624108e-02,  1.9624108e-02,  1.9624108e-02],\n",
       "         [ 1.9624108e-02,  1.9624108e-02,  1.9624108e-02]],\n",
       "\n",
       "        [[ 4.7098301e-02,  4.7098301e-02,  4.7098301e-02],\n",
       "         [ 4.3173414e-02,  4.3173414e-02,  4.3173414e-02],\n",
       "         [ 5.4948069e-02,  5.4948069e-02,  5.4948069e-02],\n",
       "         ...,\n",
       "         [ 1.9624108e-02,  1.9624108e-02,  1.9624108e-02],\n",
       "         [ 1.9624108e-02,  1.9624108e-02,  1.9624108e-02],\n",
       "         [ 1.9624108e-02,  1.9624108e-02,  1.9624108e-02]],\n",
       "\n",
       "        [[ 3.9248530e-02,  3.9248530e-02,  3.9248530e-02],\n",
       "         [ 3.9248530e-02,  3.9248530e-02,  3.9248530e-02],\n",
       "         [ 4.3173414e-02,  4.3173414e-02,  4.3173414e-02],\n",
       "         ...,\n",
       "         [ 1.9624108e-02,  1.9624108e-02,  1.9624108e-02],\n",
       "         [ 1.9624108e-02,  1.9624108e-02,  1.9624108e-02],\n",
       "         [ 1.5699225e-02,  1.5699225e-02,  1.5699225e-02]],\n",
       "\n",
       "        ...,\n",
       "\n",
       "        [[ 2.6689181e-01,  2.6689181e-01,  2.6689181e-01],\n",
       "         [ 2.5511718e-01,  2.5511718e-01,  2.5511718e-01],\n",
       "         [ 2.1979323e-01,  2.1979323e-01,  2.1979323e-01],\n",
       "         ...,\n",
       "         [ 2.7473878e-02,  2.7473878e-02,  2.7473878e-02],\n",
       "         [ 2.3548994e-02,  2.3548994e-02,  2.3548994e-02],\n",
       "         [ 2.3548994e-02,  2.3548994e-02,  2.3548994e-02]],\n",
       "\n",
       "        [[ 2.6296693e-01,  2.6296693e-01,  2.6296693e-01],\n",
       "         [ 2.2371811e-01,  2.2371811e-01,  2.2371811e-01],\n",
       "         [ 2.0016880e-01,  2.0016880e-01,  2.0016880e-01],\n",
       "         ...,\n",
       "         [ 2.7473878e-02,  2.7473878e-02,  2.7473878e-02],\n",
       "         [ 2.3548994e-02,  2.3548994e-02,  2.3548994e-02],\n",
       "         [ 2.3548994e-02,  2.3548994e-02,  2.3548994e-02]],\n",
       "\n",
       "        [[ 2.6689181e-01,  2.6689181e-01,  2.6689181e-01],\n",
       "         [ 2.1979323e-01,  2.1979323e-01,  2.1979323e-01],\n",
       "         [ 1.7661949e-01,  1.7661949e-01,  1.7661949e-01],\n",
       "         ...,\n",
       "         [ 2.7473878e-02,  2.7473878e-02,  2.7473878e-02],\n",
       "         [ 2.3548994e-02,  2.3548994e-02,  2.3548994e-02],\n",
       "         [ 2.3548994e-02,  2.3548994e-02,  2.3548994e-02]]],\n",
       "\n",
       "\n",
       "       [[[-3.1393128e-07, -3.1393128e-07, -3.1393128e-07],\n",
       "         [-3.1393128e-07, -3.1393128e-07, -3.1393128e-07],\n",
       "         [-3.1393128e-07, -3.1393128e-07, -3.1393128e-07],\n",
       "         ...,\n",
       "         [-3.1393128e-07, -3.1393128e-07, -3.1393128e-07],\n",
       "         [ 3.9245705e-03,  3.9245705e-03,  3.9245705e-03],\n",
       "         [ 2.3548994e-02,  2.3548994e-02,  2.3548994e-02]],\n",
       "\n",
       "        [[-3.1393128e-07, -3.1393128e-07, -3.1393128e-07],\n",
       "         [-3.1393128e-07, -3.1393128e-07, -3.1393128e-07],\n",
       "         [-3.1393128e-07, -3.1393128e-07, -3.1393128e-07],\n",
       "         ...,\n",
       "         [-3.1393128e-07, -3.1393128e-07, -3.1393128e-07],\n",
       "         [ 3.9245705e-03,  3.9245705e-03,  3.9245705e-03],\n",
       "         [ 2.3548994e-02,  2.3548994e-02,  2.3548994e-02]],\n",
       "\n",
       "        [[-3.1393128e-07, -3.1393128e-07, -3.1393128e-07],\n",
       "         [-3.1393128e-07, -3.1393128e-07, -3.1393128e-07],\n",
       "         [-3.1393128e-07, -3.1393128e-07, -3.1393128e-07],\n",
       "         ...,\n",
       "         [-3.1393128e-07, -3.1393128e-07, -3.1393128e-07],\n",
       "         [ 3.9245705e-03,  3.9245705e-03,  3.9245705e-03],\n",
       "         [ 2.3548994e-02,  2.3548994e-02,  2.3548994e-02]],\n",
       "\n",
       "        ...,\n",
       "\n",
       "        [[ 3.9245705e-03,  3.9245705e-03,  3.9245705e-03],\n",
       "         [ 3.9245705e-03,  3.9245705e-03,  3.9245705e-03],\n",
       "         [ 3.9245705e-03,  3.9245705e-03,  3.9245705e-03],\n",
       "         ...,\n",
       "         [-3.1393128e-07, -3.1393128e-07, -3.1393128e-07],\n",
       "         [-3.1393128e-07, -3.1393128e-07, -3.1393128e-07],\n",
       "         [ 2.3548994e-02,  2.3548994e-02,  2.3548994e-02]],\n",
       "\n",
       "        [[ 3.9245705e-03,  3.9245705e-03,  3.9245705e-03],\n",
       "         [ 3.9245705e-03,  3.9245705e-03,  3.9245705e-03],\n",
       "         [ 3.9245705e-03,  3.9245705e-03,  3.9245705e-03],\n",
       "         ...,\n",
       "         [-3.1393128e-07, -3.1393128e-07, -3.1393128e-07],\n",
       "         [ 3.1398762e-02,  3.1398762e-02,  3.1398762e-02],\n",
       "         [ 5.8872957e-02,  5.8872957e-02,  5.8872957e-02]],\n",
       "\n",
       "        [[ 7.8494549e-03,  7.8494549e-03,  7.8494549e-03],\n",
       "         [ 7.8494549e-03,  7.8494549e-03,  7.8494549e-03],\n",
       "         [ 7.8494549e-03,  7.8494549e-03,  7.8494549e-03],\n",
       "         ...,\n",
       "         [ 1.9624108e-02,  1.9624108e-02,  1.9624108e-02],\n",
       "         [ 9.0272024e-02,  9.0272024e-02,  9.0272024e-02],\n",
       "         [ 1.2952088e-01,  1.2952088e-01,  1.2952088e-01]]],\n",
       "\n",
       "\n",
       "       [[[ 7.3002821e-01,  7.3002821e-01,  7.3002821e-01],\n",
       "         [ 5.6518304e-01,  5.6518304e-01,  5.6518304e-01],\n",
       "         [ 2.7081671e-01,  2.7081671e-01,  2.7081671e-01],\n",
       "         ...,\n",
       "         [ 4.9453512e-01,  4.9453512e-01,  4.9453512e-01],\n",
       "         [ 5.3770888e-01,  5.3770888e-01,  5.3770888e-01],\n",
       "         [ 5.5340838e-01,  5.5340838e-01,  5.5340838e-01]],\n",
       "\n",
       "        [[ 5.2985913e-01,  5.2985913e-01,  5.2985913e-01],\n",
       "         [ 2.9044113e-01,  2.9044113e-01,  2.9044113e-01],\n",
       "         [ 7.8497373e-02,  7.8497373e-02,  7.8497373e-02],\n",
       "         ...,\n",
       "         [ 5.4948069e-02,  5.4948069e-02,  5.4948069e-02],\n",
       "         [ 8.2422256e-02,  8.2422256e-02,  8.2422256e-02],\n",
       "         [ 1.3344575e-01,  1.3344575e-01,  1.3344575e-01]],\n",
       "\n",
       "        [[ 2.4726741e-01,  2.4726741e-01,  2.4726741e-01],\n",
       "         [ 7.8497373e-02,  7.8497373e-02,  7.8497373e-02],\n",
       "         [ 3.9245705e-03,  3.9245705e-03,  3.9245705e-03],\n",
       "         ...,\n",
       "         [-3.1393128e-07, -3.1393128e-07, -3.1393128e-07],\n",
       "         [-3.1393128e-07, -3.1393128e-07, -3.1393128e-07],\n",
       "         [-3.1393128e-07, -3.1393128e-07, -3.1393128e-07]],\n",
       "\n",
       "        ...,\n",
       "\n",
       "        [[ 4.7098301e-02,  4.7098301e-02,  4.7098301e-02],\n",
       "         [ 7.8494549e-03,  7.8494549e-03,  7.8494549e-03],\n",
       "         [ 3.9245705e-03,  3.9245705e-03,  3.9245705e-03],\n",
       "         ...,\n",
       "         [ 7.8494549e-03,  7.8494549e-03,  7.8494549e-03],\n",
       "         [ 7.8494549e-03,  7.8494549e-03,  7.8494549e-03],\n",
       "         [ 1.1774340e-02,  1.1774340e-02,  1.1774340e-02]],\n",
       "\n",
       "        [[ 6.6722721e-02,  6.6722721e-02,  6.6722721e-02],\n",
       "         [ 1.1774340e-02,  1.1774340e-02,  1.1774340e-02],\n",
       "         [ 3.9245705e-03,  3.9245705e-03,  3.9245705e-03],\n",
       "         ...,\n",
       "         [ 7.8494549e-03,  7.8494549e-03,  7.8494549e-03],\n",
       "         [ 7.8494549e-03,  7.8494549e-03,  7.8494549e-03],\n",
       "         [ 1.1774340e-02,  1.1774340e-02,  1.1774340e-02]],\n",
       "\n",
       "        [[ 5.8872957e-02,  5.8872957e-02,  5.8872957e-02],\n",
       "         [ 1.1774340e-02,  1.1774340e-02,  1.1774340e-02],\n",
       "         [ 3.9245705e-03,  3.9245705e-03,  3.9245705e-03],\n",
       "         ...,\n",
       "         [ 7.8494549e-03,  7.8494549e-03,  7.8494549e-03],\n",
       "         [ 7.8494549e-03,  7.8494549e-03,  7.8494549e-03],\n",
       "         [ 1.1774340e-02,  1.1774340e-02,  1.1774340e-02]]],\n",
       "\n",
       "\n",
       "       ...,\n",
       "\n",
       "\n",
       "       [[[ 8.8702363e-01,  8.8702363e-01,  8.8702363e-01],\n",
       "         [ 8.6739922e-01,  8.6739922e-01,  8.6739922e-01],\n",
       "         [ 7.1432865e-01,  7.1432865e-01,  7.1432865e-01],\n",
       "         ...,\n",
       "         [ 4.7098301e-02,  4.7098301e-02,  4.7098301e-02],\n",
       "         [ 4.7098301e-02,  4.7098301e-02,  4.7098301e-02],\n",
       "         [ 4.7098301e-02,  4.7098301e-02,  4.7098301e-02]],\n",
       "\n",
       "        [[ 8.7524897e-01,  8.7524897e-01,  8.7524897e-01],\n",
       "         [ 7.9282641e-01,  7.9282641e-01,  7.9282641e-01],\n",
       "         [ 5.3770888e-01,  5.3770888e-01,  5.3770888e-01],\n",
       "         ...,\n",
       "         [ 4.7098301e-02,  4.7098301e-02,  4.7098301e-02],\n",
       "         [ 4.7098301e-02,  4.7098301e-02,  4.7098301e-02],\n",
       "         [ 4.7098301e-02,  4.7098301e-02,  4.7098301e-02]],\n",
       "\n",
       "        [[ 8.3992499e-01,  8.3992499e-01,  8.3992499e-01],\n",
       "         [ 7.3002821e-01,  7.3002821e-01,  7.3002821e-01],\n",
       "         [ 4.6313605e-01,  4.6313605e-01,  4.6313605e-01],\n",
       "         ...,\n",
       "         [ 4.3173414e-02,  4.3173414e-02,  4.3173414e-02],\n",
       "         [ 3.9248530e-02,  3.9248530e-02,  3.9248530e-02],\n",
       "         [ 3.9248530e-02,  3.9248530e-02,  3.9248530e-02]],\n",
       "\n",
       "        ...,\n",
       "\n",
       "        [[ 9.4589686e-01,  9.4589686e-01,  9.4589686e-01],\n",
       "         [ 8.6739922e-01,  8.6739922e-01,  8.6739922e-01],\n",
       "         [ 5.7303286e-01,  5.7303286e-01,  5.7303286e-01],\n",
       "         ...,\n",
       "         [ 6.6722721e-02,  6.6722721e-02,  6.6722721e-02],\n",
       "         [ 6.2797837e-02,  6.2797837e-02,  6.2797837e-02],\n",
       "         [ 6.6722721e-02,  6.6722721e-02,  6.6722721e-02]],\n",
       "\n",
       "        [[ 9.4589686e-01,  9.4589686e-01,  9.4589686e-01],\n",
       "         [ 8.7917387e-01,  8.7917387e-01,  8.7917387e-01],\n",
       "         [ 5.8480746e-01,  5.8480746e-01,  5.8480746e-01],\n",
       "         ...,\n",
       "         [ 9.0272024e-02,  9.0272024e-02,  9.0272024e-02],\n",
       "         [ 9.0272024e-02,  9.0272024e-02,  9.0272024e-02],\n",
       "         [ 9.4196916e-02,  9.4196916e-02,  9.4196916e-02]],\n",
       "\n",
       "        [[ 9.6552128e-01,  9.6552128e-01,  9.6552128e-01],\n",
       "         [ 8.9879829e-01,  8.9879829e-01,  8.9879829e-01],\n",
       "         [ 5.9265727e-01,  5.9265727e-01,  5.9265727e-01],\n",
       "         ...,\n",
       "         [ 1.2559599e-01,  1.2559599e-01,  1.2559599e-01],\n",
       "         [ 1.2559599e-01,  1.2559599e-01,  1.2559599e-01],\n",
       "         [ 1.2559599e-01,  1.2559599e-01,  1.2559599e-01]]],\n",
       "\n",
       "\n",
       "       [[[ 1.0008452e+00,  1.0008452e+00,  1.0008452e+00],\n",
       "         [ 9.8907059e-01,  9.8907059e-01,  9.8907059e-01],\n",
       "         [ 9.8514569e-01,  9.8514569e-01,  9.8514569e-01],\n",
       "         ...,\n",
       "         [-3.1393128e-07, -3.1393128e-07, -3.1393128e-07],\n",
       "         [-3.1393128e-07, -3.1393128e-07, -3.1393128e-07],\n",
       "         [-3.1393128e-07, -3.1393128e-07, -3.1393128e-07]],\n",
       "\n",
       "        [[ 9.7729594e-01,  9.7729594e-01,  9.7729594e-01],\n",
       "         [ 9.7729594e-01,  9.7729594e-01,  9.7729594e-01],\n",
       "         [ 9.7337109e-01,  9.7337109e-01,  9.7337109e-01],\n",
       "         ...,\n",
       "         [-3.1393128e-07, -3.1393128e-07, -3.1393128e-07],\n",
       "         [-3.1393128e-07, -3.1393128e-07, -3.1393128e-07],\n",
       "         [-3.1393128e-07, -3.1393128e-07, -3.1393128e-07]],\n",
       "\n",
       "        [[ 9.7337109e-01,  9.7337109e-01,  9.7337109e-01],\n",
       "         [ 9.7337109e-01,  9.7337109e-01,  9.7337109e-01],\n",
       "         [ 9.7337109e-01,  9.7337109e-01,  9.7337109e-01],\n",
       "         ...,\n",
       "         [-3.1393128e-07, -3.1393128e-07, -3.1393128e-07],\n",
       "         [-3.1393128e-07, -3.1393128e-07, -3.1393128e-07],\n",
       "         [-3.1393128e-07, -3.1393128e-07, -3.1393128e-07]],\n",
       "\n",
       "        ...,\n",
       "\n",
       "        [[ 8.0067617e-01,  8.0067617e-01,  8.0067617e-01],\n",
       "         [ 7.3395306e-01,  7.3395306e-01,  7.3395306e-01],\n",
       "         [ 6.7507982e-01,  6.7507982e-01,  6.7507982e-01],\n",
       "         ...,\n",
       "         [-3.1393128e-07, -3.1393128e-07, -3.1393128e-07],\n",
       "         [-3.1393128e-07, -3.1393128e-07, -3.1393128e-07],\n",
       "         [-3.1393128e-07, -3.1393128e-07, -3.1393128e-07]],\n",
       "\n",
       "        [[ 7.9675126e-01,  7.9675126e-01,  7.9675126e-01],\n",
       "         [ 7.3787796e-01,  7.3787796e-01,  7.3787796e-01],\n",
       "         [ 6.7115492e-01,  6.7115492e-01,  6.7115492e-01],\n",
       "         ...,\n",
       "         [-3.1393128e-07, -3.1393128e-07, -3.1393128e-07],\n",
       "         [-3.1393128e-07, -3.1393128e-07, -3.1393128e-07],\n",
       "         [-3.1393128e-07, -3.1393128e-07, -3.1393128e-07]],\n",
       "\n",
       "        [[ 7.8497660e-01,  7.8497660e-01,  7.8497660e-01],\n",
       "         [ 7.4572772e-01,  7.4572772e-01,  7.4572772e-01],\n",
       "         [ 6.7507982e-01,  6.7507982e-01,  6.7507982e-01],\n",
       "         ...,\n",
       "         [-3.1393128e-07, -3.1393128e-07, -3.1393128e-07],\n",
       "         [-3.1393128e-07, -3.1393128e-07, -3.1393128e-07],\n",
       "         [-3.1393128e-07, -3.1393128e-07, -3.1393128e-07]]],\n",
       "\n",
       "\n",
       "       [[[ 4.1996232e-01,  4.1996232e-01,  4.1996232e-01],\n",
       "         [ 2.7081671e-01,  2.7081671e-01,  2.7081671e-01],\n",
       "         [ 1.3737065e-01,  1.3737065e-01,  1.3737065e-01],\n",
       "         ...,\n",
       "         [ 5.8872957e-02,  5.8872957e-02,  5.8872957e-02],\n",
       "         [ 5.8872957e-02,  5.8872957e-02,  5.8872957e-02],\n",
       "         [ 5.8872957e-02,  5.8872957e-02,  5.8872957e-02]],\n",
       "\n",
       "        [[ 4.1996232e-01,  4.1996232e-01,  4.1996232e-01],\n",
       "         [ 2.6689181e-01,  2.6689181e-01,  2.6689181e-01],\n",
       "         [ 1.3344575e-01,  1.3344575e-01,  1.3344575e-01],\n",
       "         ...,\n",
       "         [ 5.8872957e-02,  5.8872957e-02,  5.8872957e-02],\n",
       "         [ 5.8872957e-02,  5.8872957e-02,  5.8872957e-02],\n",
       "         [ 5.8872957e-02,  5.8872957e-02,  5.8872957e-02]],\n",
       "\n",
       "        [[ 4.1211256e-01,  4.1211256e-01,  4.1211256e-01],\n",
       "         [ 2.6689181e-01,  2.6689181e-01,  2.6689181e-01],\n",
       "         [ 1.3344575e-01,  1.3344575e-01,  1.3344575e-01],\n",
       "         ...,\n",
       "         [ 5.8872957e-02,  5.8872957e-02,  5.8872957e-02],\n",
       "         [ 5.8872957e-02,  5.8872957e-02,  5.8872957e-02],\n",
       "         [ 5.8872957e-02,  5.8872957e-02,  5.8872957e-02]],\n",
       "\n",
       "        ...,\n",
       "\n",
       "        [[ 8.9879829e-01,  8.9879829e-01,  8.9879829e-01],\n",
       "         [ 8.8702363e-01,  8.8702363e-01,  8.8702363e-01],\n",
       "         [ 8.6739922e-01,  8.6739922e-01,  8.6739922e-01],\n",
       "         ...,\n",
       "         [ 9.6159643e-01,  9.6159643e-01,  9.6159643e-01],\n",
       "         [ 9.6159643e-01,  9.6159643e-01,  9.6159643e-01],\n",
       "         [ 9.6552128e-01,  9.6552128e-01,  9.6552128e-01]],\n",
       "\n",
       "        [[ 9.1842270e-01,  9.1842270e-01,  9.1842270e-01],\n",
       "         [ 9.1842270e-01,  9.1842270e-01,  9.1842270e-01],\n",
       "         [ 8.8309872e-01,  8.8309872e-01,  8.8309872e-01],\n",
       "         ...,\n",
       "         [ 9.6159643e-01,  9.6159643e-01,  9.6159643e-01],\n",
       "         [ 9.6159643e-01,  9.6159643e-01,  9.6159643e-01],\n",
       "         [ 9.6944618e-01,  9.6944618e-01,  9.6944618e-01]],\n",
       "\n",
       "        [[ 9.2234755e-01,  9.2234755e-01,  9.2234755e-01],\n",
       "         [ 9.2234755e-01,  9.2234755e-01,  9.2234755e-01],\n",
       "         [ 9.1057295e-01,  9.1057295e-01,  9.1057295e-01],\n",
       "         ...,\n",
       "         [ 9.7337109e-01,  9.7337109e-01,  9.7337109e-01],\n",
       "         [ 9.6944618e-01,  9.6944618e-01,  9.6944618e-01],\n",
       "         [ 9.6944618e-01,  9.6944618e-01,  9.6944618e-01]]]],\n",
       "      dtype=float32)"
      ]
     },
     "execution_count": 16,
     "metadata": {},
     "output_type": "execute_result"
    }
   ],
   "source": [
    "valX"
   ]
  },
  {
   "cell_type": "code",
   "execution_count": 17,
   "metadata": {},
   "outputs": [
    {
     "data": {
      "text/plain": [
       "array([1, 1, 1, 1, 1, 1, 1, 1, 1, 1, 1, 1, 1, 1, 1, 1, 1, 1, 1, 1, 1, 1,\n",
       "       1, 1, 1, 1, 1, 1, 1, 1, 1, 1])"
      ]
     },
     "execution_count": 17,
     "metadata": {},
     "output_type": "execute_result"
    }
   ],
   "source": [
    "valY"
   ]
  },
  {
   "cell_type": "code",
   "execution_count": null,
   "metadata": {},
   "outputs": [],
   "source": [
    "## X-ray images for Training Sets\n",
    "\n",
    "t_x, t_y = next(train_gen)\n",
    "fig, m_axs = plt.subplots(4, 4, figsize = (16, 16))\n",
    "plt.tight_layout()\n",
    "for (c_x, c_y, c_ax) in zip(t_x, t_y, m_axs.flatten()):\n",
    "    c_ax.imshow(c_x[:,:,0], cmap = 'bone')\n",
    "    if c_y == 1: \n",
    "        c_ax.set_title('Pneumonia')\n",
    "    else:\n",
    "        c_ax.set_title('No Pneumonia')\n",
    "    c_ax.axis('off')"
   ]
  },
  {
   "cell_type": "code",
   "execution_count": null,
   "metadata": {},
   "outputs": [],
   "source": [
    "## X-ray images for Valdiation Sets\n",
    "\n",
    "\n",
    "\n",
    "t_x, t_y = next(valid_gen)\n",
    "fig, m_axs = plt.subplots(4, 4, figsize = (16, 16))\n",
    "plt.tight_layout()\n",
    "for (c_x, c_y, c_ax) in zip(t_x, t_y, m_axs.flatten()):\n",
    "    c_ax.imshow(c_x[:,:,0], cmap = 'bone')\n",
    "    if c_y == 1: \n",
    "        c_ax.set_title('Pneumonia')\n",
    "        label = 1\n",
    "    else:\n",
    "        c_ax.set_title('No Pneumonia')\n",
    "        label = 0\n",
    "    \n",
    "    \n",
    "    c_ax.axis('off')"
   ]
  },
  {
   "cell_type": "code",
   "execution_count": null,
   "metadata": {},
   "outputs": [],
   "source": []
  },
  {
   "cell_type": "markdown",
   "metadata": {},
   "source": [
    "## Build your model: \n",
    "\n",
    "Recommendation here to use a pre-trained network downloaded from Keras for fine-tuning"
   ]
  },
  {
   "cell_type": "code",
   "execution_count": 18,
   "metadata": {},
   "outputs": [],
   "source": [
    "def load_pretrained_model(include_top, weights, lay_of_interest ):\n",
    "    \n",
    "    # model = VGG16(include_top=True, weights='imagenet')\n",
    "    # transfer_layer = model.get_layer(lay_of_interest)\n",
    "    # vgg_model = Model(inputs = model.input, outputs = transfer_layer.output)\n",
    "    \n",
    "    model = VGG16(include_top=include_top, weights=weights)\n",
    "    model.summary()\n",
    "    transfer_layer = model.get_layer(lay_of_interest)\n",
    "    vgg_model = Model(inputs=model.input,\n",
    "                       outputs=transfer_layer.output)\n",
    "    \n",
    "    return vgg_model\n"
   ]
  },
  {
   "cell_type": "code",
   "execution_count": 19,
   "metadata": {},
   "outputs": [
    {
     "name": "stdout",
     "output_type": "stream",
     "text": [
      "Model: \"vgg16\"\n",
      "_________________________________________________________________\n",
      "Layer (type)                 Output Shape              Param #   \n",
      "=================================================================\n",
      "input_1 (InputLayer)         (None, 224, 224, 3)       0         \n",
      "_________________________________________________________________\n",
      "block1_conv1 (Conv2D)        (None, 224, 224, 64)      1792      \n",
      "_________________________________________________________________\n",
      "block1_conv2 (Conv2D)        (None, 224, 224, 64)      36928     \n",
      "_________________________________________________________________\n",
      "block1_pool (MaxPooling2D)   (None, 112, 112, 64)      0         \n",
      "_________________________________________________________________\n",
      "block2_conv1 (Conv2D)        (None, 112, 112, 128)     73856     \n",
      "_________________________________________________________________\n",
      "block2_conv2 (Conv2D)        (None, 112, 112, 128)     147584    \n",
      "_________________________________________________________________\n",
      "block2_pool (MaxPooling2D)   (None, 56, 56, 128)       0         \n",
      "_________________________________________________________________\n",
      "block3_conv1 (Conv2D)        (None, 56, 56, 256)       295168    \n",
      "_________________________________________________________________\n",
      "block3_conv2 (Conv2D)        (None, 56, 56, 256)       590080    \n",
      "_________________________________________________________________\n",
      "block3_conv3 (Conv2D)        (None, 56, 56, 256)       590080    \n",
      "_________________________________________________________________\n",
      "block3_pool (MaxPooling2D)   (None, 28, 28, 256)       0         \n",
      "_________________________________________________________________\n",
      "block4_conv1 (Conv2D)        (None, 28, 28, 512)       1180160   \n",
      "_________________________________________________________________\n",
      "block4_conv2 (Conv2D)        (None, 28, 28, 512)       2359808   \n",
      "_________________________________________________________________\n",
      "block4_conv3 (Conv2D)        (None, 28, 28, 512)       2359808   \n",
      "_________________________________________________________________\n",
      "block4_pool (MaxPooling2D)   (None, 14, 14, 512)       0         \n",
      "_________________________________________________________________\n",
      "block5_conv1 (Conv2D)        (None, 14, 14, 512)       2359808   \n",
      "_________________________________________________________________\n",
      "block5_conv2 (Conv2D)        (None, 14, 14, 512)       2359808   \n",
      "_________________________________________________________________\n",
      "block5_conv3 (Conv2D)        (None, 14, 14, 512)       2359808   \n",
      "_________________________________________________________________\n",
      "block5_pool (MaxPooling2D)   (None, 7, 7, 512)         0         \n",
      "_________________________________________________________________\n",
      "flatten (Flatten)            (None, 25088)             0         \n",
      "_________________________________________________________________\n",
      "fc1 (Dense)                  (None, 4096)              102764544 \n",
      "_________________________________________________________________\n",
      "fc2 (Dense)                  (None, 4096)              16781312  \n",
      "_________________________________________________________________\n",
      "predictions (Dense)          (None, 1000)              4097000   \n",
      "=================================================================\n",
      "Total params: 138,357,544\n",
      "Trainable params: 138,357,544\n",
      "Non-trainable params: 0\n",
      "_________________________________________________________________\n"
     ]
    }
   ],
   "source": [
    "vgg_model = load_pretrained_model(True,'imagenet', 'block5_pool')"
   ]
  },
  {
   "cell_type": "code",
   "execution_count": 20,
   "metadata": {},
   "outputs": [
    {
     "data": {
      "text/plain": [
       "[<keras.engine.input_layer.InputLayer at 0x7f1a073111d0>,\n",
       " <keras.layers.convolutional.Conv2D at 0x7f1a891482d0>,\n",
       " <keras.layers.convolutional.Conv2D at 0x7f1a06f17190>,\n",
       " <keras.layers.pooling.MaxPooling2D at 0x7f1a08a5e990>,\n",
       " <keras.layers.convolutional.Conv2D at 0x7f1a07311bd0>,\n",
       " <keras.layers.convolutional.Conv2D at 0x7f1a072bd910>,\n",
       " <keras.layers.pooling.MaxPooling2D at 0x7f1a072c7d50>,\n",
       " <keras.layers.convolutional.Conv2D at 0x7f1a072c7dd0>,\n",
       " <keras.layers.convolutional.Conv2D at 0x7f1a072cdcd0>,\n",
       " <keras.layers.convolutional.Conv2D at 0x7f1a072d3d50>,\n",
       " <keras.layers.pooling.MaxPooling2D at 0x7f1a072d8fd0>,\n",
       " <keras.layers.convolutional.Conv2D at 0x7f1a072d8f50>,\n",
       " <keras.layers.convolutional.Conv2D at 0x7f1a072deed0>,\n",
       " <keras.layers.convolutional.Conv2D at 0x7f1a072586d0>,\n",
       " <keras.layers.pooling.MaxPooling2D at 0x7f1a07255b90>,\n",
       " <keras.layers.convolutional.Conv2D at 0x7f1a07258850>,\n",
       " <keras.layers.convolutional.Conv2D at 0x7f1a07264ed0>,\n",
       " <keras.layers.convolutional.Conv2D at 0x7f1a07264850>,\n",
       " <keras.layers.pooling.MaxPooling2D at 0x7f1a072689d0>]"
      ]
     },
     "execution_count": 20,
     "metadata": {},
     "output_type": "execute_result"
    }
   ],
   "source": [
    "vgg_model.layers"
   ]
  },
  {
   "cell_type": "code",
   "execution_count": 21,
   "metadata": {},
   "outputs": [],
   "source": [
    "for layer in vgg_model.layers[0:17]:\n",
    "    layer.trainable = False"
   ]
  },
  {
   "cell_type": "code",
   "execution_count": 22,
   "metadata": {},
   "outputs": [
    {
     "name": "stdout",
     "output_type": "stream",
     "text": [
      "input_1 False\n",
      "block1_conv1 False\n",
      "block1_conv2 False\n",
      "block1_pool False\n",
      "block2_conv1 False\n",
      "block2_conv2 False\n",
      "block2_pool False\n",
      "block3_conv1 False\n",
      "block3_conv2 False\n",
      "block3_conv3 False\n",
      "block3_pool False\n",
      "block4_conv1 False\n",
      "block4_conv2 False\n",
      "block4_conv3 False\n",
      "block4_pool False\n",
      "block5_conv1 False\n",
      "block5_conv2 False\n",
      "block5_conv3 True\n",
      "block5_pool True\n"
     ]
    }
   ],
   "source": [
    "for layer in vgg_model.layers:\n",
    "    print(layer.name, layer.trainable)"
   ]
  },
  {
   "cell_type": "code",
   "execution_count": 23,
   "metadata": {},
   "outputs": [],
   "source": [
    "new_model = Sequential()\n",
    "\n",
    "# Add the convolutional part of the VGG16 model from above.\n",
    "new_model.add(vgg_model)\n",
    "\n",
    "# Flatten the output of the VGG16 model because it is from a\n",
    "# convolutional layer.\n",
    "new_model.add(Flatten())\n",
    "\n",
    "# Add a dense (aka. fully-connected) layer.\n",
    "# This is for combining features that the VGG16 model has\n",
    "# recognized in the image.\n",
    "new_model.add(Dense(1, activation='sigmoid'))"
   ]
  },
  {
   "cell_type": "code",
   "execution_count": 24,
   "metadata": {},
   "outputs": [],
   "source": [
    "## Set our optimizer, loss function, and learning rate\n",
    "optimizer = Adam(lr=1e-4)\n",
    "loss = 'binary_crossentropy'\n",
    "metrics = ['binary_accuracy']"
   ]
  },
  {
   "cell_type": "code",
   "execution_count": 25,
   "metadata": {},
   "outputs": [],
   "source": [
    "new_model.compile(optimizer=optimizer, loss=loss, metrics=metrics)"
   ]
  },
  {
   "cell_type": "code",
   "execution_count": 26,
   "metadata": {},
   "outputs": [],
   "source": [
    "##Callbacks\n",
    "\n",
    "weight_path=\"{}_my_model.best.hdf5\".format('xray_class')\n",
    "\n",
    "checkpoint = ModelCheckpoint(weight_path, monitor= 'val_acc', verbose=1, save_best_only=True, mode= 'max', save_weights_only = True)\n",
    "early = EarlyStopping(monitor= 'val_loss', mode= 'min', patience=10)\n",
    "reduce_lr = ReduceLROnPlateau(monitor='val_loss', factor=0.2, patience=10, min_lr=0.001)\n",
    "\n",
    "callbacks_list = [checkpoint, early, reduce_lr]"
   ]
  },
  {
   "cell_type": "code",
   "execution_count": 27,
   "metadata": {
    "scrolled": false
   },
   "outputs": [
    {
     "name": "stdout",
     "output_type": "stream",
     "text": [
      "Epoch 1/5\n",
      "36/36 [==============================] - 69s 2s/step - loss: 0.6890 - binary_accuracy: 0.5821 - val_loss: 0.3829 - val_binary_accuracy: 1.0000\n",
      "Epoch 2/5\n"
     ]
    },
    {
     "name": "stderr",
     "output_type": "stream",
     "text": [
      "/opt/conda/lib/python3.7/site-packages/keras/callbacks/callbacks.py:707: RuntimeWarning: Can save best model only with val_acc available, skipping.\n",
      "  'skipping.' % (self.monitor), RuntimeWarning)\n"
     ]
    },
    {
     "name": "stdout",
     "output_type": "stream",
     "text": [
      "36/36 [==============================] - 57s 2s/step - loss: 0.6423 - binary_accuracy: 0.6384 - val_loss: 0.4574 - val_binary_accuracy: 1.0000\n",
      "Epoch 3/5\n",
      "36/36 [==============================] - 60s 2s/step - loss: 0.6234 - binary_accuracy: 0.6568 - val_loss: 0.5877 - val_binary_accuracy: 0.7188\n",
      "Epoch 4/5\n",
      "36/36 [==============================] - 60s 2s/step - loss: 0.6070 - binary_accuracy: 0.6738 - val_loss: 0.5560 - val_binary_accuracy: 0.7500\n",
      "Epoch 5/5\n",
      "36/36 [==============================] - 60s 2s/step - loss: 0.6064 - binary_accuracy: 0.6782 - val_loss: 0.5266 - val_binary_accuracy: 0.8750\n"
     ]
    }
   ],
   "source": [
    "## Just run a single epoch to see how it does:\n",
    "history = new_model.fit_generator(train_gen, \n",
    "                                  validation_data = (valX, valY), \n",
    "                                  epochs = 5,\n",
    "                                   callbacks=callbacks_list )"
   ]
  },
  {
   "cell_type": "code",
   "execution_count": 28,
   "metadata": {},
   "outputs": [],
   "source": [
    "# Define a function here that will plot loss, val_loss, binary_accuracy, and val_binary_accuracy over all of \n",
    "# your epochs: \n",
    "def plot_history(history):\n",
    "    N = len(history.history[\"loss\"])\n",
    "    plt.style.use(\"ggplot\")\n",
    "    plt.figure()\n",
    "    plt.plot(np.arange(0, N), history.history[\"loss\"], label=\"train_loss\")\n",
    "    plt.plot(np.arange(0, N), history.history[\"val_loss\"], label=\"val_loss\")\n",
    "    plt.plot(np.arange(0, N), history.history[\"binary_accuracy\"], label=\"train_acc\")\n",
    "    plt.plot(np.arange(0, N), history.history[\"val_binary_accuracy\"], label=\"val_acc\")\n",
    "    plt.title(\"Training Loss and Accuracy on Dataset\")\n",
    "    plt.xlabel(\"Epoch #\")\n",
    "    plt.ylabel(\"Loss/Accuracy\")\n",
    "    plt.legend(loc=\"lower left\")"
   ]
  },
  {
   "cell_type": "code",
   "execution_count": 29,
   "metadata": {},
   "outputs": [
    {
     "data": {
      "image/png": "[encoded data removed]",
      "text/plain": [
       "<Figure size 432x288 with 1 Axes>"
      ]
     },
     "metadata": {},
     "output_type": "display_data"
    }
   ],
   "source": [
    "plot_history(history)"
   ]
  },
  {
   "cell_type": "markdown",
   "metadata": {},
   "source": [
    "# Now let's add dropout and another fully connected layer:"
   ]
  },
  {
   "cell_type": "code",
   "execution_count": null,
   "metadata": {},
   "outputs": [],
   "source": [
    "def build_my_model(vargs):\n",
    "    \n",
    "    # my_model = Sequential()\n",
    "    # ....add your pre-trained model, and then whatever additional layers you think you might\n",
    "    # want for fine-tuning (Flatteen, Dense, Dropout, etc.)\n",
    "    \n",
    "    # if you want to compile your model within this function, consider which layers of your pre-trained model, \n",
    "    # you want to freeze before you compile \n",
    "    \n",
    "    # also make sure you set your optimizer, loss function, and metrics to monitor\n",
    "    \n",
    "    # Todo\n",
    "    \n",
    "    return my_model\n",
    "\n",
    "\n",
    "\n",
    "## STAND-OUT Suggestion: choose another output layer besides just the last classification layer of your modele\n",
    "## to output class activation maps to aid in clinical interpretation of your model's results"
   ]
  },
  {
   "cell_type": "code",
   "execution_count": null,
   "metadata": {},
   "outputs": [],
   "source": [
    "new_model = Sequential()\n",
    "\n",
    "# Add the convolutional part of the VGG16 model from above.\n",
    "new_model.add(vgg_model)\n",
    "\n",
    "# Flatten the output of the VGG16 model because it is from a\n",
    "# convolutional layer.\n",
    "new_model.add(Flatten())\n",
    "\n",
    "# Add a dropout-layer which may prevent overfitting and\n",
    "# improve generalization ability to unseen data e.g. the test-set.\n",
    "new_model.add(Dropout(0.5))\n",
    "\n",
    "# Add a dense (aka. fully-connected) layer.\n",
    "# This is for combining features that the VGG16 model has\n",
    "# recognized in the image.\n",
    "new_model.add(Dense(1024, activation='relu'))\n",
    "\n",
    "# Add a dropout-layer which may prevent overfitting and\n",
    "# improve generalization ability to unseen data e.g. the test-set.\n",
    "new_model.add(Dropout(0.5))\n",
    "\n",
    "# Add a dense (aka. fully-connected) layer.\n",
    "# This is for combining features that the VGG16 model has\n",
    "# recognized in the image.\n",
    "new_model.add(Dense(512, activation='relu'))\n",
    "\n",
    "# Add a dropout-layer which may prevent overfitting and\n",
    "# improve generalization ability to unseen data e.g. the test-set.\n",
    "new_model.add(Dropout(0.5))\n",
    "\n",
    "# Add a dense (aka. fully-connected) layer.\n",
    "# This is for combining features that the VGG16 model has\n",
    "# recognized in the image.\n",
    "new_model.add(Dense(256, activation='relu'))\n",
    "\n",
    "# Add a dense (aka. fully-connected) layer.\n",
    "# Change the activation function to sigmoid \n",
    "# so output of the last layer is in the range of [0,1] \n",
    "new_model.add(Dense(1, activation='sigmoid'))"
   ]
  },
  {
   "cell_type": "code",
   "execution_count": null,
   "metadata": {},
   "outputs": [],
   "source": [
    "new_model.compile(optimizer=optimizer, loss=loss, metrics=metrics)"
   ]
  },
  {
   "cell_type": "code",
   "execution_count": null,
   "metadata": {},
   "outputs": [],
   "source": [
    "##Callbacks\n",
    "\n",
    "weight_path=\"{}_my_model.best.hdf5\".format('xray_class')\n",
    "\n",
    "checkpoint = ModelCheckpoint(weight_path, monitor= 'val_acc', verbose=1, save_best_only=True, mode= 'max', save_weights_only = True)\n",
    "early = EarlyStopping(monitor= 'val_loss', mode= 'min', patience=10)\n",
    "reduce_lr = ReduceLROnPlateau(monitor='val_loss', factor=0.2, patience=10, min_lr=0.001)\n",
    "\n",
    "callbacks_list = [checkpoint, early, reduce_lr]"
   ]
  },
  {
   "cell_type": "code",
   "execution_count": null,
   "metadata": {},
   "outputs": [],
   "source": [
    "## Just run a single epoch to see how it does:\n",
    "history = new_model.fit_generator(train_gen, \n",
    "                                  validation_data = (valX, valY), \n",
    "                                  epochs = 5,\n",
    "                                   callbacks=callbacks_list )"
   ]
  },
  {
   "cell_type": "code",
   "execution_count": null,
   "metadata": {},
   "outputs": [],
   "source": [
    "# Define a function here that will plot loss, val_loss, binary_accuracy, and val_binary_accuracy over all of \n",
    "# your epochs: \n",
    "def plot_history(history):\n",
    "    N = len(history.history[\"loss\"])\n",
    "    plt.style.use(\"ggplot\")\n",
    "    plt.figure()\n",
    "    plt.plot(np.arange(0, N), history.history[\"loss\"], label=\"train_loss\")\n",
    "    plt.plot(np.arange(0, N), history.history[\"val_loss\"], label=\"val_loss\")\n",
    "    plt.plot(np.arange(0, N), history.history[\"binary_accuracy\"], label=\"train_acc\")\n",
    "    plt.plot(np.arange(0, N), history.history[\"val_binary_accuracy\"], label=\"val_acc\")\n",
    "    plt.title(\"Training Loss and Accuracy on Dataset\")\n",
    "    plt.xlabel(\"Epoch #\")\n",
    "    plt.ylabel(\"Loss/Accuracy\")\n",
    "    plt.legend(loc=\"lower left\")"
   ]
  },
  {
   "cell_type": "code",
   "execution_count": null,
   "metadata": {},
   "outputs": [],
   "source": [
    "plot_history(history)"
   ]
  },
  {
   "cell_type": "code",
   "execution_count": null,
   "metadata": {},
   "outputs": [],
   "source": []
  },
  {
   "cell_type": "code",
   "execution_count": null,
   "metadata": {},
   "outputs": [],
   "source": [
    "## Below is some helper code that will allow you to add checkpoints to your model,\n",
    "## This will save the 'best' version of your model by comparing it to previous epochs of training\n",
    "\n",
    "## Note that you need to choose which metric to monitor for your model's 'best' performance if using this code. \n",
    "## The 'patience' parameter is set to 10, meaning that your model will train for ten epochs without seeing\n",
    "## improvement before quitting\n",
    "\n",
    "# Todo\n",
    "\n",
    "    "
   ]
  },
  {
   "cell_type": "markdown",
   "metadata": {},
   "source": [
    "### Start training! "
   ]
  },
  {
   "cell_type": "code",
   "execution_count": null,
   "metadata": {},
   "outputs": [],
   "source": [
    "## train your model\n",
    "\n",
    "# Todo\n",
    "\n",
    "# history = my_model.fit_generator(train_gen, \n",
    "#                           validation_data = (valX, valY), \n",
    "#                           epochs = , \n",
    "#                           callbacks = callbacks_list)"
   ]
  },
  {
   "cell_type": "markdown",
   "metadata": {},
   "source": [
    "##### After training for some time, look at the performance of your model by plotting some performance statistics:\n",
    "\n",
    "Note, these figures will come in handy for your FDA documentation later in the project"
   ]
  },
  {
   "cell_type": "code",
   "execution_count": null,
   "metadata": {},
   "outputs": [],
   "source": [
    "## After training, make some predictions to assess your model's overall performance\n",
    "## Note that detecting pneumonia is hard even for trained expert radiologists, \n",
    "## so there is no need to make the model perfect.\n",
    "weight_path=\"{}_my_model.best.hdf5\".format('xray_class')\n",
    "new_model.load_weights(weight_path)\n",
    "pred_Y = new_model.predict(valX, batch_size = 32, verbose = True)"
   ]
  },
  {
   "cell_type": "code",
   "execution_count": null,
   "metadata": {},
   "outputs": [],
   "source": [
    "def plot_auc(t_y, p_y):\n",
    "    \n",
    "    ## Hint: can use scikit-learn's built in functions here like roc_curve\n",
    "    \n",
    "    # Todo\n",
    "    \n",
    "    return\n",
    "\n",
    "## what other performance statistics do you want to include here besides AUC? \n",
    "\n",
    "\n",
    "# def ... \n",
    "# Todo\n",
    "\n",
    "# def ...\n",
    "# Todo\n",
    "    \n",
    "#Also consider plotting the history of your model training:\n",
    "\n",
    "def plot_history(history):\n",
    "    \n",
    "    # Todo\n",
    "    return"
   ]
  },
  {
   "cell_type": "code",
   "execution_count": null,
   "metadata": {},
   "outputs": [],
   "source": [
    "## plot figures\n",
    "\n",
    "# Todo"
   ]
  },
  {
   "cell_type": "code",
   "execution_count": 30,
   "metadata": {},
   "outputs": [
    {
     "name": "stdout",
     "output_type": "stream",
     "text": [
      "32/32 [==============================] - 0s 13ms/step\n"
     ]
    }
   ],
   "source": [
    "pred_Y = new_model.predict(valX, batch_size = 32, verbose = True)"
   ]
  },
  {
   "cell_type": "code",
   "execution_count": 31,
   "metadata": {},
   "outputs": [],
   "source": [
    "from sklearn.metrics import accuracy_score, confusion_matrix"
   ]
  },
  {
   "cell_type": "code",
   "execution_count": 32,
   "metadata": {},
   "outputs": [],
   "source": [
    "acc = accuracy_score(valY, np.round(pred_Y))*100"
   ]
  },
  {
   "cell_type": "code",
   "execution_count": 33,
   "metadata": {},
   "outputs": [],
   "source": [
    "cm = confusion_matrix(valY, np.round(pred_Y), labels=[0,1])"
   ]
  },
  {
   "cell_type": "code",
   "execution_count": 34,
   "metadata": {},
   "outputs": [],
   "source": [
    "tn, fp, fn, tp = cm.ravel()"
   ]
  },
  {
   "cell_type": "code",
   "execution_count": 35,
   "metadata": {},
   "outputs": [
    {
     "name": "stdout",
     "output_type": "stream",
     "text": [
      "[[ 0  0]\n",
      " [ 4 28]]\n"
     ]
    }
   ],
   "source": [
    "print(cm)"
   ]
  },
  {
   "cell_type": "code",
   "execution_count": 36,
   "metadata": {},
   "outputs": [
    {
     "name": "stdout",
     "output_type": "stream",
     "text": [
      "Accuracy: 87.5%\n"
     ]
    }
   ],
   "source": [
    "print('Accuracy: {}%'.format(acc))"
   ]
  },
  {
   "cell_type": "markdown",
   "metadata": {},
   "source": [
    "Once you feel you are done training, you'll need to decide the proper classification threshold that optimizes your model's performance for a given metric (e.g. accuracy, F1, precision, etc.  You decide) "
   ]
  },
  {
   "cell_type": "code",
   "execution_count": 37,
   "metadata": {},
   "outputs": [
    {
     "name": "stdout",
     "output_type": "stream",
     "text": [
      "\n",
      "TEST METRICS ----------------------\n",
      "Accuracy: 87.5%\n",
      "Precision: 100.0%\n",
      "Recall: 87.5%\n",
      "F1-score: 93.33333333333333\n"
     ]
    }
   ],
   "source": [
    "print('\\nTEST METRICS ----------------------')\n",
    "precision = tp/(tp+fp)*100\n",
    "recall = tp/(tp+fn)*100\n",
    "print('Accuracy: {}%'.format(acc))\n",
    "print('Precision: {}%'.format(precision))\n",
    "print('Recall: {}%'.format(recall))\n",
    "print('F1-score: {}'.format(2*precision*recall/(precision+recall)))"
   ]
  },
  {
   "cell_type": "code",
   "execution_count": 38,
   "metadata": {},
   "outputs": [
    {
     "name": "stdout",
     "output_type": "stream",
     "text": [
      "\n",
      "TRAIN METRIC ----------------------\n"
     ]
    },
    {
     "ename": "KeyError",
     "evalue": "'acc'",
     "output_type": "error",
     "traceback": [
      "\u001b[0;31m---------------------------------------------------------------------------\u001b[0m",
      "\u001b[0;31mKeyError\u001b[0m                                  Traceback (most recent call last)",
      "\u001b[0;32m<ipython-input-38-2156928dd436>\u001b[0m in \u001b[0;36m<module>\u001b[0;34m\u001b[0m\n\u001b[1;32m      1\u001b[0m \u001b[0mprint\u001b[0m\u001b[0;34m(\u001b[0m\u001b[0;34m'\\nTRAIN METRIC ----------------------'\u001b[0m\u001b[0;34m)\u001b[0m\u001b[0;34m\u001b[0m\u001b[0;34m\u001b[0m\u001b[0m\n\u001b[0;32m----> 2\u001b[0;31m \u001b[0mprint\u001b[0m\u001b[0;34m(\u001b[0m\u001b[0;34m'Train acc: {}'\u001b[0m\u001b[0;34m.\u001b[0m\u001b[0mformat\u001b[0m\u001b[0;34m(\u001b[0m\u001b[0mnp\u001b[0m\u001b[0;34m.\u001b[0m\u001b[0mround\u001b[0m\u001b[0;34m(\u001b[0m\u001b[0;34m(\u001b[0m\u001b[0mhistory\u001b[0m\u001b[0;34m.\u001b[0m\u001b[0mhistory\u001b[0m\u001b[0;34m[\u001b[0m\u001b[0;34m'acc'\u001b[0m\u001b[0;34m]\u001b[0m\u001b[0;34m[\u001b[0m\u001b[0;34m-\u001b[0m\u001b[0;36m1\u001b[0m\u001b[0;34m]\u001b[0m\u001b[0;34m)\u001b[0m\u001b[0;34m*\u001b[0m\u001b[0;36m100\u001b[0m\u001b[0;34m,\u001b[0m \u001b[0;36m2\u001b[0m\u001b[0;34m)\u001b[0m\u001b[0;34m)\u001b[0m\u001b[0;34m)\u001b[0m\u001b[0;34m\u001b[0m\u001b[0;34m\u001b[0m\u001b[0m\n\u001b[0m",
      "\u001b[0;31mKeyError\u001b[0m: 'acc'"
     ]
    }
   ],
   "source": [
    "print('\\nTRAIN METRIC ----------------------')\n",
    "print('Train acc: {}'.format(np.round((history.history['acc'][-1])*100, 2)))"
   ]
  },
  {
   "cell_type": "code",
   "execution_count": null,
   "metadata": {},
   "outputs": [],
   "source": [
    "## Let's look at some examples of true vs. predicted with our best model: \n",
    "\n",
    "# Todo\n",
    "\n",
    "# fig, m_axs = plt.subplots(10, 10, figsize = (16, 16))\n",
    "# i = 0\n",
    "# for (c_x, c_y, c_ax) in zip(valX[0:100], testY[0:100], m_axs.flatten()):\n",
    "#     c_ax.imshow(c_x[:,:,0], cmap = 'bone')\n",
    "#     if c_y == 1: \n",
    "#         if pred_Y[i] > YOUR_THRESHOLD:\n",
    "#             c_ax.set_title('1, 1')\n",
    "#         else:\n",
    "#             c_ax.set_title('1, 0')\n",
    "#     else:\n",
    "#         if pred_Y[i] > YOUR_THRESHOLD: \n",
    "#             c_ax.set_title('0, 1')\n",
    "#         else:\n",
    "#             c_ax.set_title('0, 0')\n",
    "#     c_ax.axis('off')\n",
    "#     i=i+1"
   ]
  },
  {
   "cell_type": "code",
   "execution_count": null,
   "metadata": {},
   "outputs": [],
   "source": [
    "## Just save model architecture to a .json:\n",
    "\n",
    "model_json = my_model.to_json()\n",
    "with open(\"my_model.json\", \"w\") as json_file:\n",
    "    json_file.write(model_json)"
   ]
  }
 ],
 "metadata": {
  "kernelspec": {
   "display_name": "Python 3",
   "language": "python",
   "name": "python3"
  },
  "language_info": {
   "codemirror_mode": {
    "name": "ipython",
    "version": 3
   },
   "file_extension": ".py",
   "mimetype": "text/x-python",
   "name": "python",
   "nbconvert_exporter": "python",
   "pygments_lexer": "ipython3",
   "version": "3.7.6"
  }
 },
 "nbformat": 4,
 "nbformat_minor": 4
}
